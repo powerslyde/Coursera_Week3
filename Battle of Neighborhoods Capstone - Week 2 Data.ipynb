{
 "cells": [
  {
   "cell_type": "markdown",
   "metadata": {},
   "source": [
    "## Capstone Project: Quality and Quantity of Grocery Options by Zip Code in Wake County, NC\n",
    "### Applied Data Science Capstone by Jon Puryear"
   ]
  },
  {
   "cell_type": "markdown",
   "metadata": {},
   "source": [
    "### Table of Contents"
   ]
  },
  {
   "cell_type": "markdown",
   "metadata": {},
   "source": [
    "#### Introduction / Business Problem"
   ]
  },
  {
   "cell_type": "markdown",
   "metadata": {},
   "source": [
    "Wake County, NC is one of the fastest growing areas in the United States. However, there has been concern about access to grocery options in some parts of the county. Some parts of the county have been called a \"Food Desert\". a Food Desert is an urban area where it is difficuly to buy affordable food ro good-quality fresh food."
   ]
  },
  {
   "cell_type": "markdown",
   "metadata": {},
   "source": [
    "### Data Ingestion"
   ]
  },
  {
   "cell_type": "markdown",
   "metadata": {},
   "source": [
    "#### Notebook Set-up"
   ]
  },
  {
   "cell_type": "markdown",
   "metadata": {},
   "source": [
    "importing Python Modules needed to process the data for this business analysis"
   ]
  },
  {
   "cell_type": "code",
   "execution_count": 119,
   "metadata": {},
   "outputs": [],
   "source": [
    "import numpy as np\n",
    "import pandas as pd\n",
    "from geopy.geocoders import Nominatim # converts an address into Latitude and Longitude values\n",
    "import folium # Map Rendering Library\n",
    "import requests # Library to handle reqeuests\n",
    "from sklearn.cluster import KMeans # Clustering Model\n",
    "import matplotlib.pyplot as plt\n",
    "from matplotlib import cm\n",
    "import matplotlib.colors as colors"
   ]
  },
  {
   "cell_type": "markdown",
   "metadata": {},
   "source": [
    "setting up Pandas to display all columns instead of truncating them"
   ]
  },
  {
   "cell_type": "code",
   "execution_count": 2,
   "metadata": {},
   "outputs": [],
   "source": [
    "pd.options.display.max_columns = None"
   ]
  },
  {
   "cell_type": "markdown",
   "metadata": {},
   "source": [
    "#### Foursquare Data"
   ]
  },
  {
   "cell_type": "code",
   "execution_count": null,
   "metadata": {},
   "outputs": [],
   "source": []
  },
  {
   "cell_type": "markdown",
   "metadata": {},
   "source": [
    "**FourSquare API Credentials**"
   ]
  },
  {
   "cell_type": "code",
   "execution_count": 3,
   "metadata": {},
   "outputs": [
    {
     "name": "stdout",
     "output_type": "stream",
     "text": [
      "Your credentails:\n",
      "CLIENT_ID: NIEVOX2VOPTLZY5A5BOIDA2552ZLQAO4XEQV0TLC3SZJCUKL\n",
      "CLIENT_SECRET:K55CAS1SXXUCJYTJIBXOHN0LKF3BSQETTAN43VMU5A4303G1\n"
     ]
    }
   ],
   "source": [
    "CLIENT_ID = 'NIEVOX2VOPTLZY5A5BOIDA2552ZLQAO4XEQV0TLC3SZJCUKL' # your Foursquare ID\n",
    "CLIENT_SECRET = 'K55CAS1SXXUCJYTJIBXOHN0LKF3BSQETTAN43VMU5A4303G1' # your Foursquare Secret\n",
    "VERSION = '20180604'\n",
    "LIMIT = 100\n",
    "print('Your credentails:')\n",
    "print('CLIENT_ID: ' + CLIENT_ID)\n",
    "print('CLIENT_SECRET:' + CLIENT_SECRET)"
   ]
  },
  {
   "cell_type": "markdown",
   "metadata": {},
   "source": [
    "#### IRS Tax Return Data"
   ]
  },
  {
   "cell_type": "markdown",
   "metadata": {},
   "source": [
    "Data has been sourced from: IRS Information: https://www.irs.gov/statistics/soi-tax-stats-individual-income-tax-statistics-2017-zip-code-data-soi"
   ]
  },
  {
   "cell_type": "code",
   "execution_count": 4,
   "metadata": {},
   "outputs": [],
   "source": [
    "irs_tax_data = pd.read_excel(r'2017_nc_irs_data.xlsx')"
   ]
  },
  {
   "cell_type": "markdown",
   "metadata": {},
   "source": [
    "IRS Data is pretty dirty, we only need the Zip Code level aggregate data and the Total Income Column.\n",
    "The headers that we want to use are on row index [2] and the total income columns is 'Unnamed: 19'"
   ]
  },
  {
   "cell_type": "markdown",
   "metadata": {},
   "source": [
    "The Zip Code aggregates have a Null value in Column[1], so we will fill that null value with the value 'zip_code_total'"
   ]
  },
  {
   "cell_type": "code",
   "execution_count": 5,
   "metadata": {},
   "outputs": [],
   "source": [
    "# Replace the existing headers with the new headers from row 2"
   ]
  },
  {
   "cell_type": "code",
   "execution_count": 6,
   "metadata": {},
   "outputs": [],
   "source": [
    "new_header = irs_tax_data.loc[2]"
   ]
  },
  {
   "cell_type": "code",
   "execution_count": 7,
   "metadata": {},
   "outputs": [],
   "source": [
    "# Start the dataset at index 3"
   ]
  },
  {
   "cell_type": "code",
   "execution_count": 8,
   "metadata": {},
   "outputs": [],
   "source": [
    "clean_irs_data = irs_tax_data[3:]"
   ]
  },
  {
   "cell_type": "code",
   "execution_count": 9,
   "metadata": {},
   "outputs": [],
   "source": [
    "# Add in the new_headers from row 3"
   ]
  },
  {
   "cell_type": "code",
   "execution_count": 10,
   "metadata": {},
   "outputs": [],
   "source": [
    "clean_irs_data.columns = new_header"
   ]
  },
  {
   "cell_type": "code",
   "execution_count": 11,
   "metadata": {},
   "outputs": [],
   "source": [
    "# We want Total Income and Number of returns"
   ]
  },
  {
   "cell_type": "code",
   "execution_count": 12,
   "metadata": {},
   "outputs": [],
   "source": [
    "# Total Income is a NaN field to the right of the count of returns called 'Total Income'"
   ]
  },
  {
   "cell_type": "code",
   "execution_count": 13,
   "metadata": {},
   "outputs": [],
   "source": [
    "income_index = clean_irs_data.columns.get_loc('Total income')"
   ]
  },
  {
   "cell_type": "code",
   "execution_count": 14,
   "metadata": {},
   "outputs": [],
   "source": [
    "cols = [clean_irs_data[:2], clean_irs_data[income_index:income_index+2]]"
   ]
  },
  {
   "cell_type": "code",
   "execution_count": 15,
   "metadata": {},
   "outputs": [],
   "source": [
    "clean_irs_data = clean_irs_data.iloc[:, [0,1,income_index, income_index +1]]"
   ]
  },
  {
   "cell_type": "code",
   "execution_count": 16,
   "metadata": {},
   "outputs": [],
   "source": [
    "clean_irs_data.columns = ['ZIPCODE', 'gross_income', 'returns_count', 'total_income']"
   ]
  },
  {
   "cell_type": "code",
   "execution_count": 17,
   "metadata": {},
   "outputs": [],
   "source": [
    "clean_irs_data.fillna(value = 'zip_total', inplace = True)"
   ]
  },
  {
   "cell_type": "code",
   "execution_count": 18,
   "metadata": {},
   "outputs": [],
   "source": [
    "clean_irs_data = clean_irs_data.loc[clean_irs_data['ZIPCODE'] != 'zip_total']"
   ]
  },
  {
   "cell_type": "code",
   "execution_count": 19,
   "metadata": {},
   "outputs": [],
   "source": [
    "clean_irs_data = clean_irs_data.loc[clean_irs_data['gross_income'] == 'zip_total']"
   ]
  },
  {
   "cell_type": "code",
   "execution_count": 20,
   "metadata": {},
   "outputs": [],
   "source": [
    "clean_irs_data.reset_index(inplace = True)"
   ]
  },
  {
   "cell_type": "code",
   "execution_count": 21,
   "metadata": {},
   "outputs": [],
   "source": [
    "clean_irs_data.drop(columns = ['index'], inplace = True)"
   ]
  },
  {
   "cell_type": "code",
   "execution_count": 22,
   "metadata": {},
   "outputs": [
    {
     "data": {
      "text/html": [
       "<div>\n",
       "<style scoped>\n",
       "    .dataframe tbody tr th:only-of-type {\n",
       "        vertical-align: middle;\n",
       "    }\n",
       "\n",
       "    .dataframe tbody tr th {\n",
       "        vertical-align: top;\n",
       "    }\n",
       "\n",
       "    .dataframe thead th {\n",
       "        text-align: right;\n",
       "    }\n",
       "</style>\n",
       "<table border=\"1\" class=\"dataframe\">\n",
       "  <thead>\n",
       "    <tr style=\"text-align: right;\">\n",
       "      <th></th>\n",
       "      <th>ZIPCODE</th>\n",
       "      <th>gross_income</th>\n",
       "      <th>returns_count</th>\n",
       "      <th>total_income</th>\n",
       "    </tr>\n",
       "  </thead>\n",
       "  <tbody>\n",
       "    <tr>\n",
       "      <th>0</th>\n",
       "      <td>27006</td>\n",
       "      <td>zip_total</td>\n",
       "      <td>6900</td>\n",
       "      <td>723443</td>\n",
       "    </tr>\n",
       "    <tr>\n",
       "      <th>1</th>\n",
       "      <td>27007</td>\n",
       "      <td>zip_total</td>\n",
       "      <td>900</td>\n",
       "      <td>44445</td>\n",
       "    </tr>\n",
       "    <tr>\n",
       "      <th>2</th>\n",
       "      <td>27009</td>\n",
       "      <td>zip_total</td>\n",
       "      <td>1320</td>\n",
       "      <td>108203</td>\n",
       "    </tr>\n",
       "    <tr>\n",
       "      <th>3</th>\n",
       "      <td>27011</td>\n",
       "      <td>zip_total</td>\n",
       "      <td>2340</td>\n",
       "      <td>108120</td>\n",
       "    </tr>\n",
       "    <tr>\n",
       "      <th>4</th>\n",
       "      <td>27012</td>\n",
       "      <td>zip_total</td>\n",
       "      <td>13550</td>\n",
       "      <td>1209830</td>\n",
       "    </tr>\n",
       "  </tbody>\n",
       "</table>\n",
       "</div>"
      ],
      "text/plain": [
       "  ZIPCODE gross_income returns_count total_income\n",
       "0   27006    zip_total          6900       723443\n",
       "1   27007    zip_total           900        44445\n",
       "2   27009    zip_total          1320       108203\n",
       "3   27011    zip_total          2340       108120\n",
       "4   27012    zip_total         13550      1209830"
      ]
     },
     "execution_count": 22,
     "metadata": {},
     "output_type": "execute_result"
    }
   ],
   "source": [
    "clean_irs_data.head()"
   ]
  },
  {
   "cell_type": "markdown",
   "metadata": {},
   "source": [
    "We no longer need 'gross_income' so dropping it from the dataset"
   ]
  },
  {
   "cell_type": "code",
   "execution_count": 23,
   "metadata": {},
   "outputs": [],
   "source": [
    "clean_irs_data.drop(columns = ['gross_income'], inplace = True)"
   ]
  },
  {
   "cell_type": "markdown",
   "metadata": {},
   "source": [
    "per the IRS Dataset, the total_income value is in Thousands, so we will convert it to regular dollars by * 1000"
   ]
  },
  {
   "cell_type": "code",
   "execution_count": 24,
   "metadata": {},
   "outputs": [],
   "source": [
    "clean_irs_data['total_income'] = (clean_irs_data['total_income'] * 1000)"
   ]
  },
  {
   "cell_type": "code",
   "execution_count": null,
   "metadata": {},
   "outputs": [],
   "source": []
  },
  {
   "cell_type": "markdown",
   "metadata": {},
   "source": [
    "#### Wake County Zip Codes"
   ]
  },
  {
   "cell_type": "markdown",
   "metadata": {},
   "source": [
    "Wake County Zip Codes will be sourced from Zillow.com, which is a real estate site, and confirmed against official Wake County publications (which are ony available in Image Formats). This will be used to determine the Zip Code scope of the Analysis\n",
    "\n",
    "Wake County Zip Codes: http://data-wake.opendata.arcgis.com/datasets/zip-codes/data\n",
    "\n",
    "GeoService: https://maps.wakegov.com/arcgis/rest/services/Boundaries/ZipCodes/MapServer/0/query?outFields=*&where=1%3D1"
   ]
  },
  {
   "cell_type": "code",
   "execution_count": 25,
   "metadata": {},
   "outputs": [],
   "source": [
    "wake_county_zip_codes = pd.read_csv(r'Zip_Codes.csv')"
   ]
  },
  {
   "cell_type": "code",
   "execution_count": 26,
   "metadata": {},
   "outputs": [
    {
     "data": {
      "text/html": [
       "<div>\n",
       "<style scoped>\n",
       "    .dataframe tbody tr th:only-of-type {\n",
       "        vertical-align: middle;\n",
       "    }\n",
       "\n",
       "    .dataframe tbody tr th {\n",
       "        vertical-align: top;\n",
       "    }\n",
       "\n",
       "    .dataframe thead th {\n",
       "        text-align: right;\n",
       "    }\n",
       "</style>\n",
       "<table border=\"1\" class=\"dataframe\">\n",
       "  <thead>\n",
       "    <tr style=\"text-align: right;\">\n",
       "      <th></th>\n",
       "      <th>OBJECTID</th>\n",
       "      <th>ZIPNAME</th>\n",
       "      <th>ZIPNUM</th>\n",
       "      <th>ZIPCODE</th>\n",
       "      <th>NAME</th>\n",
       "      <th>SHAPEAREA</th>\n",
       "      <th>SHAPELEN</th>\n",
       "      <th>LAST_EDITED_DATE</th>\n",
       "    </tr>\n",
       "  </thead>\n",
       "  <tbody>\n",
       "    <tr>\n",
       "      <th>0</th>\n",
       "      <td>4927</td>\n",
       "      <td>RALEIGH</td>\n",
       "      <td>27601.0</td>\n",
       "      <td>RALEIGH 27601</td>\n",
       "      <td>RALEIGH</td>\n",
       "      <td>5.075530e+07</td>\n",
       "      <td>43034.538745</td>\n",
       "      <td>NaN</td>\n",
       "    </tr>\n",
       "    <tr>\n",
       "      <th>1</th>\n",
       "      <td>4928</td>\n",
       "      <td>DURHAM</td>\n",
       "      <td>27713.0</td>\n",
       "      <td>DURHAM 27713</td>\n",
       "      <td>DURHAM</td>\n",
       "      <td>9.440600e+06</td>\n",
       "      <td>22633.644539</td>\n",
       "      <td>NaN</td>\n",
       "    </tr>\n",
       "    <tr>\n",
       "      <th>2</th>\n",
       "      <td>5185</td>\n",
       "      <td>RALEIGH</td>\n",
       "      <td>27604.0</td>\n",
       "      <td>RALEIGH 27604</td>\n",
       "      <td>RALEIGH</td>\n",
       "      <td>5.678501e+08</td>\n",
       "      <td>201307.097948</td>\n",
       "      <td>NaN</td>\n",
       "    </tr>\n",
       "    <tr>\n",
       "      <th>3</th>\n",
       "      <td>5186</td>\n",
       "      <td>WAKE FOREST</td>\n",
       "      <td>27587.0</td>\n",
       "      <td>WAKE FOREST 27587</td>\n",
       "      <td>WAKE FOREST</td>\n",
       "      <td>2.682834e+09</td>\n",
       "      <td>561415.191124</td>\n",
       "      <td>2017/10/25 15:38:04+00</td>\n",
       "    </tr>\n",
       "    <tr>\n",
       "      <th>4</th>\n",
       "      <td>5187</td>\n",
       "      <td>DURHAM</td>\n",
       "      <td>27703.0</td>\n",
       "      <td>DURHAM 27703</td>\n",
       "      <td>DURHAM</td>\n",
       "      <td>5.768992e+06</td>\n",
       "      <td>22448.009933</td>\n",
       "      <td>NaN</td>\n",
       "    </tr>\n",
       "  </tbody>\n",
       "</table>\n",
       "</div>"
      ],
      "text/plain": [
       "   OBJECTID      ZIPNAME   ZIPNUM            ZIPCODE         NAME  \\\n",
       "0      4927      RALEIGH  27601.0      RALEIGH 27601      RALEIGH   \n",
       "1      4928       DURHAM  27713.0       DURHAM 27713       DURHAM   \n",
       "2      5185      RALEIGH  27604.0      RALEIGH 27604      RALEIGH   \n",
       "3      5186  WAKE FOREST  27587.0  WAKE FOREST 27587  WAKE FOREST   \n",
       "4      5187       DURHAM  27703.0       DURHAM 27703       DURHAM   \n",
       "\n",
       "      SHAPEAREA       SHAPELEN        LAST_EDITED_DATE  \n",
       "0  5.075530e+07   43034.538745                     NaN  \n",
       "1  9.440600e+06   22633.644539                     NaN  \n",
       "2  5.678501e+08  201307.097948                     NaN  \n",
       "3  2.682834e+09  561415.191124  2017/10/25 15:38:04+00  \n",
       "4  5.768992e+06   22448.009933                     NaN  "
      ]
     },
     "execution_count": 26,
     "metadata": {},
     "output_type": "execute_result"
    }
   ],
   "source": [
    "wake_county_zip_codes.head()"
   ]
  },
  {
   "cell_type": "markdown",
   "metadata": {},
   "source": [
    "We need to filter of the places where the zipname = 'DURHAM'. Even though some small parts of Durham are in Wake County, the majority of the city is outside the county, and therefore outside the scope of this analysis"
   ]
  },
  {
   "cell_type": "code",
   "execution_count": 27,
   "metadata": {},
   "outputs": [],
   "source": [
    "## Filter our DURHAM City Data"
   ]
  },
  {
   "cell_type": "markdown",
   "metadata": {},
   "source": [
    "#### Geographical Data for Zip Codes"
   ]
  },
  {
   "cell_type": "markdown",
   "metadata": {},
   "source": [
    "Zip Code Data: https://www.census.gov/geographies/reference-files/time-series/geo/gazetteer-files.html"
   ]
  },
  {
   "cell_type": "code",
   "execution_count": 28,
   "metadata": {},
   "outputs": [],
   "source": [
    "zip_code_geo_data = pd.read_csv(r'2019_Gaz_zcta_national.txt', delimiter = '\\t')"
   ]
  },
  {
   "cell_type": "code",
   "execution_count": 29,
   "metadata": {},
   "outputs": [
    {
     "data": {
      "text/html": [
       "<div>\n",
       "<style scoped>\n",
       "    .dataframe tbody tr th:only-of-type {\n",
       "        vertical-align: middle;\n",
       "    }\n",
       "\n",
       "    .dataframe tbody tr th {\n",
       "        vertical-align: top;\n",
       "    }\n",
       "\n",
       "    .dataframe thead th {\n",
       "        text-align: right;\n",
       "    }\n",
       "</style>\n",
       "<table border=\"1\" class=\"dataframe\">\n",
       "  <thead>\n",
       "    <tr style=\"text-align: right;\">\n",
       "      <th></th>\n",
       "      <th>GEOID</th>\n",
       "      <th>ALAND</th>\n",
       "      <th>AWATER</th>\n",
       "      <th>ALAND_SQMI</th>\n",
       "      <th>AWATER_SQMI</th>\n",
       "      <th>INTPTLAT</th>\n",
       "      <th>INTPTLONG</th>\n",
       "    </tr>\n",
       "  </thead>\n",
       "  <tbody>\n",
       "    <tr>\n",
       "      <th>0</th>\n",
       "      <td>601</td>\n",
       "      <td>166659747</td>\n",
       "      <td>799292</td>\n",
       "      <td>64.348</td>\n",
       "      <td>0.309</td>\n",
       "      <td>18.180555</td>\n",
       "      <td>-66.749961</td>\n",
       "    </tr>\n",
       "    <tr>\n",
       "      <th>1</th>\n",
       "      <td>602</td>\n",
       "      <td>79307534</td>\n",
       "      <td>4428428</td>\n",
       "      <td>30.621</td>\n",
       "      <td>1.710</td>\n",
       "      <td>18.361945</td>\n",
       "      <td>-67.175597</td>\n",
       "    </tr>\n",
       "    <tr>\n",
       "      <th>2</th>\n",
       "      <td>603</td>\n",
       "      <td>81887188</td>\n",
       "      <td>181412</td>\n",
       "      <td>31.617</td>\n",
       "      <td>0.070</td>\n",
       "      <td>18.455183</td>\n",
       "      <td>-67.119887</td>\n",
       "    </tr>\n",
       "    <tr>\n",
       "      <th>3</th>\n",
       "      <td>606</td>\n",
       "      <td>109579993</td>\n",
       "      <td>12487</td>\n",
       "      <td>42.309</td>\n",
       "      <td>0.005</td>\n",
       "      <td>18.158327</td>\n",
       "      <td>-66.932928</td>\n",
       "    </tr>\n",
       "    <tr>\n",
       "      <th>4</th>\n",
       "      <td>610</td>\n",
       "      <td>93013428</td>\n",
       "      <td>4172059</td>\n",
       "      <td>35.913</td>\n",
       "      <td>1.611</td>\n",
       "      <td>18.294032</td>\n",
       "      <td>-67.127156</td>\n",
       "    </tr>\n",
       "    <tr>\n",
       "      <th>...</th>\n",
       "      <td>...</td>\n",
       "      <td>...</td>\n",
       "      <td>...</td>\n",
       "      <td>...</td>\n",
       "      <td>...</td>\n",
       "      <td>...</td>\n",
       "      <td>...</td>\n",
       "    </tr>\n",
       "    <tr>\n",
       "      <th>33139</th>\n",
       "      <td>99923</td>\n",
       "      <td>42162326</td>\n",
       "      <td>2117</td>\n",
       "      <td>16.279</td>\n",
       "      <td>0.001</td>\n",
       "      <td>56.000518</td>\n",
       "      <td>-130.037474</td>\n",
       "    </tr>\n",
       "    <tr>\n",
       "      <th>33140</th>\n",
       "      <td>99925</td>\n",
       "      <td>144071036</td>\n",
       "      <td>34333408</td>\n",
       "      <td>55.626</td>\n",
       "      <td>13.256</td>\n",
       "      <td>55.550203</td>\n",
       "      <td>-132.945947</td>\n",
       "    </tr>\n",
       "    <tr>\n",
       "      <th>33141</th>\n",
       "      <td>99926</td>\n",
       "      <td>343944587</td>\n",
       "      <td>292859014</td>\n",
       "      <td>132.798</td>\n",
       "      <td>113.074</td>\n",
       "      <td>55.138352</td>\n",
       "      <td>-131.470425</td>\n",
       "    </tr>\n",
       "    <tr>\n",
       "      <th>33142</th>\n",
       "      <td>99927</td>\n",
       "      <td>589690080</td>\n",
       "      <td>18001568</td>\n",
       "      <td>227.681</td>\n",
       "      <td>6.950</td>\n",
       "      <td>56.239062</td>\n",
       "      <td>-133.457924</td>\n",
       "    </tr>\n",
       "    <tr>\n",
       "      <th>33143</th>\n",
       "      <td>99929</td>\n",
       "      <td>5635963115</td>\n",
       "      <td>637274788</td>\n",
       "      <td>2176.058</td>\n",
       "      <td>246.053</td>\n",
       "      <td>56.370538</td>\n",
       "      <td>-131.693453</td>\n",
       "    </tr>\n",
       "  </tbody>\n",
       "</table>\n",
       "<p>33144 rows × 7 columns</p>\n",
       "</div>"
      ],
      "text/plain": [
       "       GEOID       ALAND     AWATER  ALAND_SQMI  AWATER_SQMI   INTPTLAT  \\\n",
       "0        601   166659747     799292      64.348        0.309  18.180555   \n",
       "1        602    79307534    4428428      30.621        1.710  18.361945   \n",
       "2        603    81887188     181412      31.617        0.070  18.455183   \n",
       "3        606   109579993      12487      42.309        0.005  18.158327   \n",
       "4        610    93013428    4172059      35.913        1.611  18.294032   \n",
       "...      ...         ...        ...         ...          ...        ...   \n",
       "33139  99923    42162326       2117      16.279        0.001  56.000518   \n",
       "33140  99925   144071036   34333408      55.626       13.256  55.550203   \n",
       "33141  99926   343944587  292859014     132.798      113.074  55.138352   \n",
       "33142  99927   589690080   18001568     227.681        6.950  56.239062   \n",
       "33143  99929  5635963115  637274788    2176.058      246.053  56.370538   \n",
       "\n",
       "       INTPTLONG                                                                                                                                    \n",
       "0                                             -66.749961                                                                                            \n",
       "1                                             -67.175597                                                                                            \n",
       "2                                             -67.119887                                                                                            \n",
       "3                                             -66.932928                                                                                            \n",
       "4                                             -67.127156                                                                                            \n",
       "...                                                  ...                                                                                            \n",
       "33139                                        -130.037474                                                                                            \n",
       "33140                                        -132.945947                                                                                            \n",
       "33141                                        -131.470425                                                                                            \n",
       "33142                                        -133.457924                                                                                            \n",
       "33143                                        -131.693453                                                                                            \n",
       "\n",
       "[33144 rows x 7 columns]"
      ]
     },
     "execution_count": 29,
     "metadata": {},
     "output_type": "execute_result"
    }
   ],
   "source": [
    "zip_code_geo_data"
   ]
  },
  {
   "cell_type": "code",
   "execution_count": 30,
   "metadata": {},
   "outputs": [],
   "source": [
    "# Rename GeoID to Zip Code?"
   ]
  },
  {
   "cell_type": "markdown",
   "metadata": {},
   "source": [
    "### Common Dataset for Wake County\n",
    "\n",
    "We want to build a single dataset from the three we have imported. Datset should be Zip Code, Lat, Long, Total Income, Returns Filed\n",
    "\n",
    "We will start with the wake_county_zip_codes dataset since it is already limited to the level they is needed for this analysis (Zip Codes in Wake Count)"
   ]
  },
  {
   "cell_type": "markdown",
   "metadata": {},
   "source": [
    "**Build Base Dataset**"
   ]
  },
  {
   "cell_type": "code",
   "execution_count": 31,
   "metadata": {},
   "outputs": [],
   "source": [
    "wake_county_dataset = wake_county_zip_codes"
   ]
  },
  {
   "cell_type": "code",
   "execution_count": 32,
   "metadata": {},
   "outputs": [],
   "source": [
    "## Identify the Columnes that we do not need"
   ]
  },
  {
   "cell_type": "code",
   "execution_count": 33,
   "metadata": {},
   "outputs": [],
   "source": [
    "drop_cols = {'OBJECTID','ZIPCODE', 'NAME', 'SHAPEAREA','SHAPELEN', 'LAST_EDITED_DATE'}"
   ]
  },
  {
   "cell_type": "code",
   "execution_count": 34,
   "metadata": {},
   "outputs": [],
   "source": [
    "## Drop the columns we do not need"
   ]
  },
  {
   "cell_type": "code",
   "execution_count": 35,
   "metadata": {},
   "outputs": [],
   "source": [
    "wake_county_dataset.drop(columns = drop_cols, inplace = True)"
   ]
  },
  {
   "cell_type": "code",
   "execution_count": 36,
   "metadata": {},
   "outputs": [],
   "source": [
    "# Convert the ZIPNUM from a Float to an Int"
   ]
  },
  {
   "cell_type": "code",
   "execution_count": 37,
   "metadata": {},
   "outputs": [],
   "source": [
    "### Check for Null Values in the Zip Codes"
   ]
  },
  {
   "cell_type": "code",
   "execution_count": 38,
   "metadata": {},
   "outputs": [
    {
     "data": {
      "text/html": [
       "<div>\n",
       "<style scoped>\n",
       "    .dataframe tbody tr th:only-of-type {\n",
       "        vertical-align: middle;\n",
       "    }\n",
       "\n",
       "    .dataframe tbody tr th {\n",
       "        vertical-align: top;\n",
       "    }\n",
       "\n",
       "    .dataframe thead th {\n",
       "        text-align: right;\n",
       "    }\n",
       "</style>\n",
       "<table border=\"1\" class=\"dataframe\">\n",
       "  <thead>\n",
       "    <tr style=\"text-align: right;\">\n",
       "      <th></th>\n",
       "      <th>ZIPNAME</th>\n",
       "      <th>ZIPNUM</th>\n",
       "    </tr>\n",
       "  </thead>\n",
       "  <tbody>\n",
       "    <tr>\n",
       "      <th>42</th>\n",
       "      <td>NaN</td>\n",
       "      <td>NaN</td>\n",
       "    </tr>\n",
       "    <tr>\n",
       "      <th>43</th>\n",
       "      <td>NaN</td>\n",
       "      <td>NaN</td>\n",
       "    </tr>\n",
       "    <tr>\n",
       "      <th>44</th>\n",
       "      <td>NaN</td>\n",
       "      <td>NaN</td>\n",
       "    </tr>\n",
       "    <tr>\n",
       "      <th>45</th>\n",
       "      <td>NaN</td>\n",
       "      <td>NaN</td>\n",
       "    </tr>\n",
       "    <tr>\n",
       "      <th>46</th>\n",
       "      <td>NaN</td>\n",
       "      <td>NaN</td>\n",
       "    </tr>\n",
       "    <tr>\n",
       "      <th>47</th>\n",
       "      <td>NaN</td>\n",
       "      <td>NaN</td>\n",
       "    </tr>\n",
       "    <tr>\n",
       "      <th>48</th>\n",
       "      <td>NaN</td>\n",
       "      <td>NaN</td>\n",
       "    </tr>\n",
       "    <tr>\n",
       "      <th>49</th>\n",
       "      <td>NaN</td>\n",
       "      <td>NaN</td>\n",
       "    </tr>\n",
       "    <tr>\n",
       "      <th>50</th>\n",
       "      <td>NaN</td>\n",
       "      <td>NaN</td>\n",
       "    </tr>\n",
       "    <tr>\n",
       "      <th>51</th>\n",
       "      <td>NaN</td>\n",
       "      <td>NaN</td>\n",
       "    </tr>\n",
       "    <tr>\n",
       "      <th>52</th>\n",
       "      <td>NaN</td>\n",
       "      <td>NaN</td>\n",
       "    </tr>\n",
       "  </tbody>\n",
       "</table>\n",
       "</div>"
      ],
      "text/plain": [
       "   ZIPNAME  ZIPNUM\n",
       "42     NaN     NaN\n",
       "43     NaN     NaN\n",
       "44     NaN     NaN\n",
       "45     NaN     NaN\n",
       "46     NaN     NaN\n",
       "47     NaN     NaN\n",
       "48     NaN     NaN\n",
       "49     NaN     NaN\n",
       "50     NaN     NaN\n",
       "51     NaN     NaN\n",
       "52     NaN     NaN"
      ]
     },
     "execution_count": 38,
     "metadata": {},
     "output_type": "execute_result"
    }
   ],
   "source": [
    "wake_county_dataset[wake_county_dataset.isna().any(axis = 1)]"
   ]
  },
  {
   "cell_type": "code",
   "execution_count": 39,
   "metadata": {},
   "outputs": [],
   "source": [
    "### Drop the Null Values from the Dataset"
   ]
  },
  {
   "cell_type": "code",
   "execution_count": 40,
   "metadata": {},
   "outputs": [],
   "source": [
    "wake_county_dataset.dropna(inplace = True)"
   ]
  },
  {
   "cell_type": "code",
   "execution_count": 41,
   "metadata": {},
   "outputs": [],
   "source": [
    "## create a new columnd with the Zipcode as an int"
   ]
  },
  {
   "cell_type": "code",
   "execution_count": 42,
   "metadata": {},
   "outputs": [],
   "source": [
    "wake_county_dataset['ZIPCODE'] = wake_county_dataset['ZIPNUM'].astype(int)"
   ]
  },
  {
   "cell_type": "code",
   "execution_count": 43,
   "metadata": {},
   "outputs": [],
   "source": [
    "## Drop the Floar column"
   ]
  },
  {
   "cell_type": "code",
   "execution_count": 44,
   "metadata": {},
   "outputs": [],
   "source": [
    "wake_county_dataset.drop(columns = ['ZIPNUM'], inplace = True)"
   ]
  },
  {
   "cell_type": "markdown",
   "metadata": {},
   "source": [
    "**Add in Location Information**"
   ]
  },
  {
   "cell_type": "code",
   "execution_count": 45,
   "metadata": {},
   "outputs": [],
   "source": [
    "## Add a ZIPCODE GEOID field for Merging"
   ]
  },
  {
   "cell_type": "code",
   "execution_count": 46,
   "metadata": {},
   "outputs": [],
   "source": [
    "zip_code_geo_data['ZIPCODE'] = zip_code_geo_data['GEOID']"
   ]
  },
  {
   "cell_type": "code",
   "execution_count": 47,
   "metadata": {},
   "outputs": [],
   "source": [
    "wake_county_dataset = pd.merge(wake_county_dataset, zip_code_geo_data, on = 'ZIPCODE', how = 'left')"
   ]
  },
  {
   "cell_type": "code",
   "execution_count": 48,
   "metadata": {},
   "outputs": [],
   "source": [
    "## Identify the Columnes that we do not need"
   ]
  },
  {
   "cell_type": "code",
   "execution_count": 49,
   "metadata": {},
   "outputs": [],
   "source": [
    "drop_cols = {'GEOID','ALAND', 'AWATER', 'ALAND_SQMI','AWATER_SQMI'}"
   ]
  },
  {
   "cell_type": "code",
   "execution_count": 50,
   "metadata": {},
   "outputs": [],
   "source": [
    "## Drop the columns we do not need"
   ]
  },
  {
   "cell_type": "code",
   "execution_count": 51,
   "metadata": {},
   "outputs": [],
   "source": [
    "wake_county_dataset.drop(columns = drop_cols, inplace = True)"
   ]
  },
  {
   "cell_type": "code",
   "execution_count": 52,
   "metadata": {},
   "outputs": [
    {
     "data": {
      "text/html": [
       "<div>\n",
       "<style scoped>\n",
       "    .dataframe tbody tr th:only-of-type {\n",
       "        vertical-align: middle;\n",
       "    }\n",
       "\n",
       "    .dataframe tbody tr th {\n",
       "        vertical-align: top;\n",
       "    }\n",
       "\n",
       "    .dataframe thead th {\n",
       "        text-align: right;\n",
       "    }\n",
       "</style>\n",
       "<table border=\"1\" class=\"dataframe\">\n",
       "  <thead>\n",
       "    <tr style=\"text-align: right;\">\n",
       "      <th></th>\n",
       "      <th>ZIPNAME</th>\n",
       "      <th>ZIPCODE</th>\n",
       "      <th>INTPTLAT</th>\n",
       "      <th>INTPTLONG</th>\n",
       "    </tr>\n",
       "  </thead>\n",
       "  <tbody>\n",
       "    <tr>\n",
       "      <th>0</th>\n",
       "      <td>RALEIGH</td>\n",
       "      <td>27601</td>\n",
       "      <td>35.773630</td>\n",
       "      <td>-78.634458</td>\n",
       "    </tr>\n",
       "    <tr>\n",
       "      <th>1</th>\n",
       "      <td>DURHAM</td>\n",
       "      <td>27713</td>\n",
       "      <td>35.895040</td>\n",
       "      <td>-78.923747</td>\n",
       "    </tr>\n",
       "    <tr>\n",
       "      <th>2</th>\n",
       "      <td>RALEIGH</td>\n",
       "      <td>27604</td>\n",
       "      <td>35.822921</td>\n",
       "      <td>-78.562045</td>\n",
       "    </tr>\n",
       "    <tr>\n",
       "      <th>3</th>\n",
       "      <td>WAKE FOREST</td>\n",
       "      <td>27587</td>\n",
       "      <td>35.981382</td>\n",
       "      <td>-78.557584</td>\n",
       "    </tr>\n",
       "    <tr>\n",
       "      <th>4</th>\n",
       "      <td>DURHAM</td>\n",
       "      <td>27703</td>\n",
       "      <td>35.959272</td>\n",
       "      <td>-78.806808</td>\n",
       "    </tr>\n",
       "  </tbody>\n",
       "</table>\n",
       "</div>"
      ],
      "text/plain": [
       "       ZIPNAME  ZIPCODE   INTPTLAT  \\\n",
       "0      RALEIGH    27601  35.773630   \n",
       "1       DURHAM    27713  35.895040   \n",
       "2      RALEIGH    27604  35.822921   \n",
       "3  WAKE FOREST    27587  35.981382   \n",
       "4       DURHAM    27703  35.959272   \n",
       "\n",
       "   INTPTLONG                                                                                                                                    \n",
       "0                                         -78.634458                                                                                            \n",
       "1                                         -78.923747                                                                                            \n",
       "2                                         -78.562045                                                                                            \n",
       "3                                         -78.557584                                                                                            \n",
       "4                                         -78.806808                                                                                            "
      ]
     },
     "execution_count": 52,
     "metadata": {},
     "output_type": "execute_result"
    }
   ],
   "source": [
    "wake_county_dataset.head()"
   ]
  },
  {
   "cell_type": "code",
   "execution_count": 53,
   "metadata": {},
   "outputs": [],
   "source": [
    "## Rename The Latitude & Longitude COlumns"
   ]
  },
  {
   "cell_type": "code",
   "execution_count": 54,
   "metadata": {},
   "outputs": [],
   "source": [
    "wake_county_dataset.columns = ['ZIPNAME', 'ZIPCODE', 'LAT', 'LON']"
   ]
  },
  {
   "cell_type": "code",
   "execution_count": 55,
   "metadata": {},
   "outputs": [
    {
     "data": {
      "text/plain": [
       "(55, 4)"
      ]
     },
     "execution_count": 55,
     "metadata": {},
     "output_type": "execute_result"
    }
   ],
   "source": [
    "wake_county_dataset.shape"
   ]
  },
  {
   "cell_type": "code",
   "execution_count": 56,
   "metadata": {},
   "outputs": [
    {
     "data": {
      "text/plain": [
       "39"
      ]
     },
     "execution_count": 56,
     "metadata": {},
     "output_type": "execute_result"
    }
   ],
   "source": [
    "len(wake_county_dataset['ZIPCODE'].unique())"
   ]
  },
  {
   "cell_type": "code",
   "execution_count": 57,
   "metadata": {},
   "outputs": [],
   "source": [
    "wake_county_dataset = wake_county_dataset.drop_duplicates()"
   ]
  },
  {
   "cell_type": "code",
   "execution_count": 58,
   "metadata": {},
   "outputs": [],
   "source": [
    "wake_county_dataset['Neighborhood'] = wake_county_dataset['ZIPNAME'] + ' - ' + wake_county_dataset['ZIPCODE'].astype(str)"
   ]
  },
  {
   "cell_type": "code",
   "execution_count": null,
   "metadata": {},
   "outputs": [],
   "source": []
  },
  {
   "cell_type": "code",
   "execution_count": null,
   "metadata": {},
   "outputs": [],
   "source": []
  },
  {
   "cell_type": "code",
   "execution_count": null,
   "metadata": {},
   "outputs": [],
   "source": []
  },
  {
   "cell_type": "code",
   "execution_count": null,
   "metadata": {},
   "outputs": [],
   "source": []
  },
  {
   "cell_type": "code",
   "execution_count": null,
   "metadata": {},
   "outputs": [],
   "source": []
  },
  {
   "cell_type": "code",
   "execution_count": 59,
   "metadata": {},
   "outputs": [],
   "source": [
    "## Need to add in Income Information next"
   ]
  },
  {
   "cell_type": "markdown",
   "metadata": {},
   "source": [
    "#### Visualze the Zip Code centroids"
   ]
  },
  {
   "cell_type": "code",
   "execution_count": null,
   "metadata": {},
   "outputs": [],
   "source": []
  },
  {
   "cell_type": "markdown",
   "metadata": {},
   "source": [
    "**Use the geopy library to get the latitude and longitude values of Raleigh, NC**\n",
    "\n",
    "in order to define an instance of the geocode, we need to define a user_agent. The agent will be named *nc_explore*"
   ]
  },
  {
   "cell_type": "code",
   "execution_count": 60,
   "metadata": {},
   "outputs": [
    {
     "name": "stdout",
     "output_type": "stream",
     "text": [
      "The geographical coordinates of Wake County, NC are 35.7979355, -78.6118311\n"
     ]
    }
   ],
   "source": [
    "address = 'Wake County, NC'\n",
    "\n",
    "geolocator = Nominatim(user_agent = 'nc_explore')\n",
    "location = geolocator.geocode(address)\n",
    "latitude = location.latitude\n",
    "longitude = location.longitude\n",
    "\n",
    "print('The geographical coordinates of {} are {}, {}'.format(address, latitude, longitude))"
   ]
  },
  {
   "cell_type": "markdown",
   "metadata": {},
   "source": [
    "**Create a Map of Wake County with the Zip Codes superimposed on it**"
   ]
  },
  {
   "cell_type": "markdown",
   "metadata": {},
   "source": [
    "Create the initial map instance"
   ]
  },
  {
   "cell_type": "code",
   "execution_count": 61,
   "metadata": {},
   "outputs": [],
   "source": [
    "map_wake = folium.Map(location = [latitude, longitude], zoom_start = 11)"
   ]
  },
  {
   "cell_type": "markdown",
   "metadata": {},
   "source": [
    "Add markers to the map for each neighborhood"
   ]
  },
  {
   "cell_type": "code",
   "execution_count": 62,
   "metadata": {},
   "outputs": [],
   "source": [
    "for lat, lng, label in zip(wake_county_dataset['LAT'], wake_county_dataset['LON'], wake_county_dataset['ZIPNAME'] + ' - ' + wake_county_dataset['ZIPCODE'].astype(str)):\n",
    "    label = folium.Popup(label, parse_html = True)\n",
    "    folium.CircleMarker(\n",
    "        [lat, lng],\n",
    "        radius = 5,\n",
    "        popup = label,\n",
    "        color = 'blue',\n",
    "        fill = True,\n",
    "        fill_color = '#3186cc',\n",
    "        fill_opacity = 0.7,\n",
    "        parse_html = False).add_to(map_wake)"
   ]
  },
  {
   "cell_type": "markdown",
   "metadata": {},
   "source": [
    "Display the resultant map"
   ]
  },
  {
   "cell_type": "code",
   "execution_count": 63,
   "metadata": {},
   "outputs": [],
   "source": [
    "#map_wake"
   ]
  },
  {
   "cell_type": "code",
   "execution_count": null,
   "metadata": {},
   "outputs": [],
   "source": []
  },
  {
   "cell_type": "code",
   "execution_count": null,
   "metadata": {},
   "outputs": [],
   "source": []
  },
  {
   "cell_type": "code",
   "execution_count": null,
   "metadata": {},
   "outputs": [],
   "source": []
  },
  {
   "cell_type": "code",
   "execution_count": null,
   "metadata": {},
   "outputs": [],
   "source": []
  },
  {
   "cell_type": "markdown",
   "metadata": {},
   "source": [
    "#### Pulling in Grocery Data from Foursquare API\n",
    "\n"
   ]
  },
  {
   "cell_type": "code",
   "execution_count": 64,
   "metadata": {},
   "outputs": [],
   "source": [
    "## Define Function"
   ]
  },
  {
   "cell_type": "code",
   "execution_count": 65,
   "metadata": {},
   "outputs": [],
   "source": [
    "def getNearbyVenues(names, latitudes, longitudes, radius = 8047):\n",
    "    \n",
    "    venues_list = []\n",
    "    \n",
    "    for name, lat, lng in zip(names, latitudes, longitudes):\n",
    "        print(name)\n",
    "        \n",
    "        # create the API request URL\n",
    "        url = 'https://api.foursquare.com/v2/venues/explore?&client_id={}&client_secret={}&v={}&ll={},{}&radius={}&limit={}'.format(\n",
    "            CLIENT_ID, \n",
    "            CLIENT_SECRET, \n",
    "            VERSION, \n",
    "            lat, \n",
    "            lng, \n",
    "            radius, \n",
    "            LIMIT)\n",
    "            \n",
    "        # make the GET request\n",
    "        results = requests.get(url).json()[\"response\"]['groups'][0]['items']\n",
    "        # return only relevant information for each nearby venue\n",
    "        venues_list.append([(\n",
    "            name, \n",
    "            lat, \n",
    "            lng, \n",
    "            v['venue']['name'], \n",
    "            v['venue']['location']['lat'], \n",
    "            v['venue']['location']['lng'], \n",
    "            v['venue']['categories'][0]['name']) for v in results])\n",
    "\n",
    "    nearby_venues = pd.DataFrame([item for venue_list in venues_list for item in venue_list])\n",
    "    nearby_venues.columns = ['Neighborhood', \n",
    "                  'Neighborhood Latitude', \n",
    "                  'Neighborhood Longitude', \n",
    "                  'Venue', \n",
    "                  'Venue Latitude', \n",
    "                  'Venue Longitude',\n",
    "                  'Venue Category']\n",
    "    \n",
    "    return(nearby_venues)"
   ]
  },
  {
   "cell_type": "code",
   "execution_count": 66,
   "metadata": {},
   "outputs": [],
   "source": [
    "## Run on the Wake County Datset"
   ]
  },
  {
   "cell_type": "code",
   "execution_count": 67,
   "metadata": {},
   "outputs": [],
   "source": [
    "names = wake_county_dataset['ZIPNAME'] + ' - ' + wake_county_dataset['ZIPCODE'].astype(str)\n",
    "latitudes = wake_county_dataset['LAT']\n",
    "longitudes = wake_county_dataset['LON']"
   ]
  },
  {
   "cell_type": "code",
   "execution_count": 68,
   "metadata": {},
   "outputs": [
    {
     "name": "stdout",
     "output_type": "stream",
     "text": [
      "RALEIGH - 27601\n",
      "DURHAM - 27713\n",
      "RALEIGH - 27604\n",
      "WAKE FOREST - 27587\n",
      "DURHAM - 27703\n",
      "ROLESVILLE - 27571\n",
      "KNIGHTDALE - 27545\n",
      "RALEIGH - 27603\n",
      "CREEDMOOR - 27522\n",
      "YOUNGSVILLE - 27596\n",
      "RALEIGH - 27615\n",
      "RALEIGH - 27616\n",
      "RALEIGH - 27612\n",
      "WENDELL - 27591\n",
      "RALEIGH - 27609\n",
      "RALEIGH - 27605\n",
      "APEX - 27502\n",
      "GARNER - 27529\n",
      "RALEIGH - 27608\n",
      "RALEIGH - 27610\n",
      "CLAYTON - 27520\n",
      "ANGIER - 27501\n",
      "RALEIGH - 27613\n",
      "RALEIGH - 27614\n",
      "CARY - 27518\n",
      "APEX - 27523\n",
      "RALEIGH - 27617\n",
      "ZEBULON - 27597\n",
      "CARY - 27511\n",
      "CARY - 27519\n",
      "CARY - 27513\n",
      "RALEIGH - 27607\n",
      "RALEIGH - 27606\n",
      "MORRISVILLE - 27560\n",
      "APEX - 27539\n",
      "FUQUAY VARINA - 27526\n",
      "NEW HILL - 27562\n",
      "WILLOW SPRING - 27592\n",
      "HOLLY SPRINGS - 27540\n"
     ]
    }
   ],
   "source": [
    "wake_venues = getNearbyVenues(names, latitudes, longitudes)"
   ]
  },
  {
   "cell_type": "code",
   "execution_count": 69,
   "metadata": {},
   "outputs": [
    {
     "data": {
      "text/html": [
       "<div>\n",
       "<style scoped>\n",
       "    .dataframe tbody tr th:only-of-type {\n",
       "        vertical-align: middle;\n",
       "    }\n",
       "\n",
       "    .dataframe tbody tr th {\n",
       "        vertical-align: top;\n",
       "    }\n",
       "\n",
       "    .dataframe thead th {\n",
       "        text-align: right;\n",
       "    }\n",
       "</style>\n",
       "<table border=\"1\" class=\"dataframe\">\n",
       "  <thead>\n",
       "    <tr style=\"text-align: right;\">\n",
       "      <th></th>\n",
       "      <th>Neighborhood</th>\n",
       "      <th>Neighborhood Latitude</th>\n",
       "      <th>Neighborhood Longitude</th>\n",
       "      <th>Venue</th>\n",
       "      <th>Venue Latitude</th>\n",
       "      <th>Venue Longitude</th>\n",
       "      <th>Venue Category</th>\n",
       "    </tr>\n",
       "  </thead>\n",
       "  <tbody>\n",
       "    <tr>\n",
       "      <th>0</th>\n",
       "      <td>RALEIGH - 27601</td>\n",
       "      <td>35.77363</td>\n",
       "      <td>-78.634458</td>\n",
       "      <td>Artspace Visual Arts Center</td>\n",
       "      <td>35.775576</td>\n",
       "      <td>-78.636335</td>\n",
       "      <td>Art Gallery</td>\n",
       "    </tr>\n",
       "    <tr>\n",
       "      <th>1</th>\n",
       "      <td>RALEIGH - 27601</td>\n",
       "      <td>35.77363</td>\n",
       "      <td>-78.634458</td>\n",
       "      <td>Burial Beer Co.</td>\n",
       "      <td>35.775241</td>\n",
       "      <td>-78.632247</td>\n",
       "      <td>Brewery</td>\n",
       "    </tr>\n",
       "    <tr>\n",
       "      <th>2</th>\n",
       "      <td>RALEIGH - 27601</td>\n",
       "      <td>35.77363</td>\n",
       "      <td>-78.634458</td>\n",
       "      <td>Bida Manda Laotian Restaurant and Bar</td>\n",
       "      <td>35.777227</td>\n",
       "      <td>-78.636812</td>\n",
       "      <td>Asian Restaurant</td>\n",
       "    </tr>\n",
       "    <tr>\n",
       "      <th>3</th>\n",
       "      <td>RALEIGH - 27601</td>\n",
       "      <td>35.77363</td>\n",
       "      <td>-78.634458</td>\n",
       "      <td>Duke Energy Center For The Performing Arts</td>\n",
       "      <td>35.771314</td>\n",
       "      <td>-78.639560</td>\n",
       "      <td>Performing Arts Venue</td>\n",
       "    </tr>\n",
       "    <tr>\n",
       "      <th>4</th>\n",
       "      <td>RALEIGH - 27601</td>\n",
       "      <td>35.77363</td>\n",
       "      <td>-78.634458</td>\n",
       "      <td>Beasley's Chicken + Honey</td>\n",
       "      <td>35.776968</td>\n",
       "      <td>-78.638175</td>\n",
       "      <td>Southern / Soul Food Restaurant</td>\n",
       "    </tr>\n",
       "  </tbody>\n",
       "</table>\n",
       "</div>"
      ],
      "text/plain": [
       "      Neighborhood  Neighborhood Latitude  Neighborhood Longitude  \\\n",
       "0  RALEIGH - 27601               35.77363              -78.634458   \n",
       "1  RALEIGH - 27601               35.77363              -78.634458   \n",
       "2  RALEIGH - 27601               35.77363              -78.634458   \n",
       "3  RALEIGH - 27601               35.77363              -78.634458   \n",
       "4  RALEIGH - 27601               35.77363              -78.634458   \n",
       "\n",
       "                                        Venue  Venue Latitude  \\\n",
       "0                 Artspace Visual Arts Center       35.775576   \n",
       "1                             Burial Beer Co.       35.775241   \n",
       "2       Bida Manda Laotian Restaurant and Bar       35.777227   \n",
       "3  Duke Energy Center For The Performing Arts       35.771314   \n",
       "4                   Beasley's Chicken + Honey       35.776968   \n",
       "\n",
       "   Venue Longitude                   Venue Category  \n",
       "0       -78.636335                      Art Gallery  \n",
       "1       -78.632247                          Brewery  \n",
       "2       -78.636812                 Asian Restaurant  \n",
       "3       -78.639560            Performing Arts Venue  \n",
       "4       -78.638175  Southern / Soul Food Restaurant  "
      ]
     },
     "execution_count": 69,
     "metadata": {},
     "output_type": "execute_result"
    }
   ],
   "source": [
    "wake_venues.head()"
   ]
  },
  {
   "cell_type": "code",
   "execution_count": 70,
   "metadata": {},
   "outputs": [],
   "source": [
    "#Determine the number of unique venues"
   ]
  },
  {
   "cell_type": "code",
   "execution_count": 71,
   "metadata": {},
   "outputs": [
    {
     "name": "stdout",
     "output_type": "stream",
     "text": [
      "There are 223 unique Venue Categories\n"
     ]
    }
   ],
   "source": [
    "print('There are {} unique Venue Categories'.format(len(wake_venues['Venue Category'].unique())))"
   ]
  },
  {
   "cell_type": "code",
   "execution_count": 72,
   "metadata": {},
   "outputs": [
    {
     "name": "stdout",
     "output_type": "stream",
     "text": [
      "There are 1249 unique Venues\n"
     ]
    }
   ],
   "source": [
    "print('There are {} unique Venues'.format(len(wake_venues['Venue'].unique())))"
   ]
  },
  {
   "cell_type": "code",
   "execution_count": 73,
   "metadata": {},
   "outputs": [],
   "source": [
    "# Need to filter out the non-Grocery ones"
   ]
  },
  {
   "cell_type": "code",
   "execution_count": 74,
   "metadata": {},
   "outputs": [
    {
     "data": {
      "text/plain": [
       "<bound method Series.unique of 0                           Art Gallery\n",
       "1                               Brewery\n",
       "2                      Asian Restaurant\n",
       "3                 Performing Arts Venue\n",
       "4       Southern / Soul Food Restaurant\n",
       "                     ...               \n",
       "3327                     Ice Cream Shop\n",
       "3328                        Video Store\n",
       "3329                 Salon / Barbershop\n",
       "3330                       Burger Joint\n",
       "3331                     Sandwich Place\n",
       "Name: Venue Category, Length: 3332, dtype: object>"
      ]
     },
     "execution_count": 74,
     "metadata": {},
     "output_type": "execute_result"
    }
   ],
   "source": [
    "wake_venues['Venue Category'].unique"
   ]
  },
  {
   "cell_type": "code",
   "execution_count": 75,
   "metadata": {},
   "outputs": [
    {
     "data": {
      "text/plain": [
       "(3332, 7)"
      ]
     },
     "execution_count": 75,
     "metadata": {},
     "output_type": "execute_result"
    }
   ],
   "source": [
    "wake_venues.shape"
   ]
  },
  {
   "cell_type": "code",
   "execution_count": 76,
   "metadata": {},
   "outputs": [
    {
     "data": {
      "text/html": [
       "<div>\n",
       "<style scoped>\n",
       "    .dataframe tbody tr th:only-of-type {\n",
       "        vertical-align: middle;\n",
       "    }\n",
       "\n",
       "    .dataframe tbody tr th {\n",
       "        vertical-align: top;\n",
       "    }\n",
       "\n",
       "    .dataframe thead th {\n",
       "        text-align: right;\n",
       "    }\n",
       "</style>\n",
       "<table border=\"1\" class=\"dataframe\">\n",
       "  <thead>\n",
       "    <tr style=\"text-align: right;\">\n",
       "      <th></th>\n",
       "      <th>Neighborhood Latitude</th>\n",
       "      <th>Neighborhood Longitude</th>\n",
       "      <th>Venue</th>\n",
       "      <th>Venue Latitude</th>\n",
       "      <th>Venue Longitude</th>\n",
       "      <th>Venue Category</th>\n",
       "    </tr>\n",
       "    <tr>\n",
       "      <th>Neighborhood</th>\n",
       "      <th></th>\n",
       "      <th></th>\n",
       "      <th></th>\n",
       "      <th></th>\n",
       "      <th></th>\n",
       "      <th></th>\n",
       "    </tr>\n",
       "  </thead>\n",
       "  <tbody>\n",
       "    <tr>\n",
       "      <th>ANGIER - 27501</th>\n",
       "      <td>27</td>\n",
       "      <td>27</td>\n",
       "      <td>27</td>\n",
       "      <td>27</td>\n",
       "      <td>27</td>\n",
       "      <td>27</td>\n",
       "    </tr>\n",
       "    <tr>\n",
       "      <th>APEX - 27502</th>\n",
       "      <td>87</td>\n",
       "      <td>87</td>\n",
       "      <td>87</td>\n",
       "      <td>87</td>\n",
       "      <td>87</td>\n",
       "      <td>87</td>\n",
       "    </tr>\n",
       "    <tr>\n",
       "      <th>APEX - 27523</th>\n",
       "      <td>73</td>\n",
       "      <td>73</td>\n",
       "      <td>73</td>\n",
       "      <td>73</td>\n",
       "      <td>73</td>\n",
       "      <td>73</td>\n",
       "    </tr>\n",
       "    <tr>\n",
       "      <th>APEX - 27539</th>\n",
       "      <td>100</td>\n",
       "      <td>100</td>\n",
       "      <td>100</td>\n",
       "      <td>100</td>\n",
       "      <td>100</td>\n",
       "      <td>100</td>\n",
       "    </tr>\n",
       "    <tr>\n",
       "      <th>CARY - 27511</th>\n",
       "      <td>100</td>\n",
       "      <td>100</td>\n",
       "      <td>100</td>\n",
       "      <td>100</td>\n",
       "      <td>100</td>\n",
       "      <td>100</td>\n",
       "    </tr>\n",
       "  </tbody>\n",
       "</table>\n",
       "</div>"
      ],
      "text/plain": [
       "                Neighborhood Latitude  Neighborhood Longitude  Venue  \\\n",
       "Neighborhood                                                           \n",
       "ANGIER - 27501                     27                      27     27   \n",
       "APEX - 27502                       87                      87     87   \n",
       "APEX - 27523                       73                      73     73   \n",
       "APEX - 27539                      100                     100    100   \n",
       "CARY - 27511                      100                     100    100   \n",
       "\n",
       "                Venue Latitude  Venue Longitude  Venue Category  \n",
       "Neighborhood                                                     \n",
       "ANGIER - 27501              27               27              27  \n",
       "APEX - 27502                87               87              87  \n",
       "APEX - 27523                73               73              73  \n",
       "APEX - 27539               100              100             100  \n",
       "CARY - 27511               100              100             100  "
      ]
     },
     "execution_count": 76,
     "metadata": {},
     "output_type": "execute_result"
    }
   ],
   "source": [
    "wake_venues.groupby('Neighborhood').count().head()"
   ]
  },
  {
   "cell_type": "code",
   "execution_count": 77,
   "metadata": {},
   "outputs": [],
   "source": [
    "wake_grocery_venues = wake_venues.loc[(wake_venues['Venue Category'] == 'Grocery Store') | (wake_venues['Venue Category'] == 'Organic Grocery') | (wake_venues['Venue Category'] == 'Supermarket')]"
   ]
  },
  {
   "cell_type": "code",
   "execution_count": 78,
   "metadata": {},
   "outputs": [
    {
     "data": {
      "text/html": [
       "<div>\n",
       "<style scoped>\n",
       "    .dataframe tbody tr th:only-of-type {\n",
       "        vertical-align: middle;\n",
       "    }\n",
       "\n",
       "    .dataframe tbody tr th {\n",
       "        vertical-align: top;\n",
       "    }\n",
       "\n",
       "    .dataframe thead th {\n",
       "        text-align: right;\n",
       "    }\n",
       "</style>\n",
       "<table border=\"1\" class=\"dataframe\">\n",
       "  <thead>\n",
       "    <tr style=\"text-align: right;\">\n",
       "      <th></th>\n",
       "      <th>Neighborhood</th>\n",
       "      <th>Neighborhood Latitude</th>\n",
       "      <th>Neighborhood Longitude</th>\n",
       "      <th>Venue</th>\n",
       "      <th>Venue Latitude</th>\n",
       "      <th>Venue Longitude</th>\n",
       "      <th>Venue Category</th>\n",
       "    </tr>\n",
       "  </thead>\n",
       "  <tbody>\n",
       "    <tr>\n",
       "      <th>83</th>\n",
       "      <td>RALEIGH - 27601</td>\n",
       "      <td>35.773630</td>\n",
       "      <td>-78.634458</td>\n",
       "      <td>The Fresh Market</td>\n",
       "      <td>35.789598</td>\n",
       "      <td>-78.658642</td>\n",
       "      <td>Grocery Store</td>\n",
       "    </tr>\n",
       "    <tr>\n",
       "      <th>153</th>\n",
       "      <td>DURHAM - 27713</td>\n",
       "      <td>35.895040</td>\n",
       "      <td>-78.923747</td>\n",
       "      <td>Harris Teeter</td>\n",
       "      <td>35.912543</td>\n",
       "      <td>-78.936125</td>\n",
       "      <td>Supermarket</td>\n",
       "    </tr>\n",
       "    <tr>\n",
       "      <th>184</th>\n",
       "      <td>DURHAM - 27713</td>\n",
       "      <td>35.895040</td>\n",
       "      <td>-78.923747</td>\n",
       "      <td>Harris Teeter</td>\n",
       "      <td>35.918031</td>\n",
       "      <td>-78.958794</td>\n",
       "      <td>Supermarket</td>\n",
       "    </tr>\n",
       "    <tr>\n",
       "      <th>214</th>\n",
       "      <td>RALEIGH - 27604</td>\n",
       "      <td>35.822921</td>\n",
       "      <td>-78.562045</td>\n",
       "      <td>Trader Joe's</td>\n",
       "      <td>35.823443</td>\n",
       "      <td>-78.621513</td>\n",
       "      <td>Grocery Store</td>\n",
       "    </tr>\n",
       "    <tr>\n",
       "      <th>218</th>\n",
       "      <td>RALEIGH - 27604</td>\n",
       "      <td>35.822921</td>\n",
       "      <td>-78.562045</td>\n",
       "      <td>Wegmans</td>\n",
       "      <td>35.820860</td>\n",
       "      <td>-78.620792</td>\n",
       "      <td>Grocery Store</td>\n",
       "    </tr>\n",
       "  </tbody>\n",
       "</table>\n",
       "</div>"
      ],
      "text/plain": [
       "        Neighborhood  Neighborhood Latitude  Neighborhood Longitude  \\\n",
       "83   RALEIGH - 27601              35.773630              -78.634458   \n",
       "153   DURHAM - 27713              35.895040              -78.923747   \n",
       "184   DURHAM - 27713              35.895040              -78.923747   \n",
       "214  RALEIGH - 27604              35.822921              -78.562045   \n",
       "218  RALEIGH - 27604              35.822921              -78.562045   \n",
       "\n",
       "                Venue  Venue Latitude  Venue Longitude Venue Category  \n",
       "83   The Fresh Market       35.789598       -78.658642  Grocery Store  \n",
       "153     Harris Teeter       35.912543       -78.936125    Supermarket  \n",
       "184     Harris Teeter       35.918031       -78.958794    Supermarket  \n",
       "214      Trader Joe's       35.823443       -78.621513  Grocery Store  \n",
       "218           Wegmans       35.820860       -78.620792  Grocery Store  "
      ]
     },
     "execution_count": 78,
     "metadata": {},
     "output_type": "execute_result"
    }
   ],
   "source": [
    "wake_grocery_venues.head()"
   ]
  },
  {
   "cell_type": "code",
   "execution_count": null,
   "metadata": {},
   "outputs": [],
   "source": []
  },
  {
   "cell_type": "code",
   "execution_count": 79,
   "metadata": {},
   "outputs": [],
   "source": [
    "wake_onehot = pd.get_dummies(wake_grocery_venues[['Venue Category']], prefix = '', prefix_sep = '')"
   ]
  },
  {
   "cell_type": "code",
   "execution_count": 80,
   "metadata": {},
   "outputs": [],
   "source": [
    "wake_onehot['Neighborhood'] = wake_grocery_venues['Neighborhood']"
   ]
  },
  {
   "cell_type": "code",
   "execution_count": 81,
   "metadata": {},
   "outputs": [],
   "source": [
    "nh_index = wake_onehot.columns.get_loc('Neighborhood')"
   ]
  },
  {
   "cell_type": "code",
   "execution_count": 82,
   "metadata": {},
   "outputs": [],
   "source": [
    "cols = [wake_onehot.columns[nh_index]] + list(wake_onehot.columns[:nh_index]) + list(wake_onehot.columns[nh_index + 1:])"
   ]
  },
  {
   "cell_type": "code",
   "execution_count": 83,
   "metadata": {},
   "outputs": [],
   "source": [
    "wake_onehot = wake_onehot[cols]"
   ]
  },
  {
   "cell_type": "code",
   "execution_count": 84,
   "metadata": {},
   "outputs": [
    {
     "data": {
      "text/html": [
       "<div>\n",
       "<style scoped>\n",
       "    .dataframe tbody tr th:only-of-type {\n",
       "        vertical-align: middle;\n",
       "    }\n",
       "\n",
       "    .dataframe tbody tr th {\n",
       "        vertical-align: top;\n",
       "    }\n",
       "\n",
       "    .dataframe thead th {\n",
       "        text-align: right;\n",
       "    }\n",
       "</style>\n",
       "<table border=\"1\" class=\"dataframe\">\n",
       "  <thead>\n",
       "    <tr style=\"text-align: right;\">\n",
       "      <th></th>\n",
       "      <th>Neighborhood</th>\n",
       "      <th>Grocery Store</th>\n",
       "      <th>Supermarket</th>\n",
       "    </tr>\n",
       "  </thead>\n",
       "  <tbody>\n",
       "    <tr>\n",
       "      <th>83</th>\n",
       "      <td>RALEIGH - 27601</td>\n",
       "      <td>1</td>\n",
       "      <td>0</td>\n",
       "    </tr>\n",
       "    <tr>\n",
       "      <th>153</th>\n",
       "      <td>DURHAM - 27713</td>\n",
       "      <td>0</td>\n",
       "      <td>1</td>\n",
       "    </tr>\n",
       "    <tr>\n",
       "      <th>184</th>\n",
       "      <td>DURHAM - 27713</td>\n",
       "      <td>0</td>\n",
       "      <td>1</td>\n",
       "    </tr>\n",
       "    <tr>\n",
       "      <th>214</th>\n",
       "      <td>RALEIGH - 27604</td>\n",
       "      <td>1</td>\n",
       "      <td>0</td>\n",
       "    </tr>\n",
       "    <tr>\n",
       "      <th>218</th>\n",
       "      <td>RALEIGH - 27604</td>\n",
       "      <td>1</td>\n",
       "      <td>0</td>\n",
       "    </tr>\n",
       "  </tbody>\n",
       "</table>\n",
       "</div>"
      ],
      "text/plain": [
       "        Neighborhood  Grocery Store  Supermarket\n",
       "83   RALEIGH - 27601              1            0\n",
       "153   DURHAM - 27713              0            1\n",
       "184   DURHAM - 27713              0            1\n",
       "214  RALEIGH - 27604              1            0\n",
       "218  RALEIGH - 27604              1            0"
      ]
     },
     "execution_count": 84,
     "metadata": {},
     "output_type": "execute_result"
    }
   ],
   "source": [
    "wake_onehot.head()"
   ]
  },
  {
   "cell_type": "code",
   "execution_count": 85,
   "metadata": {},
   "outputs": [
    {
     "data": {
      "text/plain": [
       "(151, 3)"
      ]
     },
     "execution_count": 85,
     "metadata": {},
     "output_type": "execute_result"
    }
   ],
   "source": [
    "wake_onehot.shape"
   ]
  },
  {
   "cell_type": "code",
   "execution_count": 86,
   "metadata": {},
   "outputs": [],
   "source": [
    "wake_group = wake_onehot.groupby('Neighborhood').sum().reset_index()"
   ]
  },
  {
   "cell_type": "code",
   "execution_count": 87,
   "metadata": {},
   "outputs": [
    {
     "data": {
      "text/html": [
       "<div>\n",
       "<style scoped>\n",
       "    .dataframe tbody tr th:only-of-type {\n",
       "        vertical-align: middle;\n",
       "    }\n",
       "\n",
       "    .dataframe tbody tr th {\n",
       "        vertical-align: top;\n",
       "    }\n",
       "\n",
       "    .dataframe thead th {\n",
       "        text-align: right;\n",
       "    }\n",
       "</style>\n",
       "<table border=\"1\" class=\"dataframe\">\n",
       "  <thead>\n",
       "    <tr style=\"text-align: right;\">\n",
       "      <th></th>\n",
       "      <th>Neighborhood</th>\n",
       "      <th>Grocery Store</th>\n",
       "      <th>Supermarket</th>\n",
       "    </tr>\n",
       "  </thead>\n",
       "  <tbody>\n",
       "    <tr>\n",
       "      <th>0</th>\n",
       "      <td>ANGIER - 27501</td>\n",
       "      <td>2</td>\n",
       "      <td>0</td>\n",
       "    </tr>\n",
       "    <tr>\n",
       "      <th>1</th>\n",
       "      <td>APEX - 27502</td>\n",
       "      <td>1</td>\n",
       "      <td>3</td>\n",
       "    </tr>\n",
       "    <tr>\n",
       "      <th>2</th>\n",
       "      <td>APEX - 27523</td>\n",
       "      <td>3</td>\n",
       "      <td>1</td>\n",
       "    </tr>\n",
       "    <tr>\n",
       "      <th>3</th>\n",
       "      <td>APEX - 27539</td>\n",
       "      <td>4</td>\n",
       "      <td>1</td>\n",
       "    </tr>\n",
       "    <tr>\n",
       "      <th>4</th>\n",
       "      <td>CARY - 27511</td>\n",
       "      <td>3</td>\n",
       "      <td>2</td>\n",
       "    </tr>\n",
       "  </tbody>\n",
       "</table>\n",
       "</div>"
      ],
      "text/plain": [
       "     Neighborhood  Grocery Store  Supermarket\n",
       "0  ANGIER - 27501              2            0\n",
       "1    APEX - 27502              1            3\n",
       "2    APEX - 27523              3            1\n",
       "3    APEX - 27539              4            1\n",
       "4    CARY - 27511              3            2"
      ]
     },
     "execution_count": 87,
     "metadata": {},
     "output_type": "execute_result"
    }
   ],
   "source": [
    "wake_group.head()"
   ]
  },
  {
   "cell_type": "code",
   "execution_count": 88,
   "metadata": {},
   "outputs": [
    {
     "data": {
      "text/plain": [
       "(38, 3)"
      ]
     },
     "execution_count": 88,
     "metadata": {},
     "output_type": "execute_result"
    }
   ],
   "source": [
    "wake_group.shape"
   ]
  },
  {
   "cell_type": "code",
   "execution_count": 89,
   "metadata": {},
   "outputs": [
    {
     "data": {
      "text/plain": [
       "array([2, 3, 2, 1, 2, 4, 3, 4, 0, 0], dtype=int32)"
      ]
     },
     "execution_count": 89,
     "metadata": {},
     "output_type": "execute_result"
    }
   ],
   "source": [
    "kclusters = 5\n",
    "\n",
    "wake_cluster = wake_group.drop('Neighborhood', 1)\n",
    "\n",
    "kmeans = KMeans(n_clusters = kclusters, random_state = 0).fit(wake_cluster)\n",
    "kmeans.labels_[0:10]"
   ]
  },
  {
   "cell_type": "code",
   "execution_count": 90,
   "metadata": {},
   "outputs": [],
   "source": [
    "wake_group.insert(0, 'Cluster Labels', kmeans.labels_)"
   ]
  },
  {
   "cell_type": "code",
   "execution_count": 91,
   "metadata": {},
   "outputs": [
    {
     "data": {
      "text/html": [
       "<div>\n",
       "<style scoped>\n",
       "    .dataframe tbody tr th:only-of-type {\n",
       "        vertical-align: middle;\n",
       "    }\n",
       "\n",
       "    .dataframe tbody tr th {\n",
       "        vertical-align: top;\n",
       "    }\n",
       "\n",
       "    .dataframe thead th {\n",
       "        text-align: right;\n",
       "    }\n",
       "</style>\n",
       "<table border=\"1\" class=\"dataframe\">\n",
       "  <thead>\n",
       "    <tr style=\"text-align: right;\">\n",
       "      <th></th>\n",
       "      <th>Cluster Labels</th>\n",
       "      <th>Neighborhood</th>\n",
       "      <th>Grocery Store</th>\n",
       "      <th>Supermarket</th>\n",
       "    </tr>\n",
       "  </thead>\n",
       "  <tbody>\n",
       "    <tr>\n",
       "      <th>0</th>\n",
       "      <td>2</td>\n",
       "      <td>ANGIER - 27501</td>\n",
       "      <td>2</td>\n",
       "      <td>0</td>\n",
       "    </tr>\n",
       "    <tr>\n",
       "      <th>1</th>\n",
       "      <td>3</td>\n",
       "      <td>APEX - 27502</td>\n",
       "      <td>1</td>\n",
       "      <td>3</td>\n",
       "    </tr>\n",
       "    <tr>\n",
       "      <th>2</th>\n",
       "      <td>2</td>\n",
       "      <td>APEX - 27523</td>\n",
       "      <td>3</td>\n",
       "      <td>1</td>\n",
       "    </tr>\n",
       "    <tr>\n",
       "      <th>3</th>\n",
       "      <td>1</td>\n",
       "      <td>APEX - 27539</td>\n",
       "      <td>4</td>\n",
       "      <td>1</td>\n",
       "    </tr>\n",
       "    <tr>\n",
       "      <th>4</th>\n",
       "      <td>2</td>\n",
       "      <td>CARY - 27511</td>\n",
       "      <td>3</td>\n",
       "      <td>2</td>\n",
       "    </tr>\n",
       "  </tbody>\n",
       "</table>\n",
       "</div>"
      ],
      "text/plain": [
       "   Cluster Labels    Neighborhood  Grocery Store  Supermarket\n",
       "0               2  ANGIER - 27501              2            0\n",
       "1               3    APEX - 27502              1            3\n",
       "2               2    APEX - 27523              3            1\n",
       "3               1    APEX - 27539              4            1\n",
       "4               2    CARY - 27511              3            2"
      ]
     },
     "execution_count": 91,
     "metadata": {},
     "output_type": "execute_result"
    }
   ],
   "source": [
    "wake_group.head()"
   ]
  },
  {
   "cell_type": "code",
   "execution_count": 92,
   "metadata": {},
   "outputs": [],
   "source": [
    "wake_merged = wake_county_dataset\n",
    "wake_merged = wake_merged.join(wake_group.set_index('Neighborhood'), on = 'Neighborhood')"
   ]
  },
  {
   "cell_type": "code",
   "execution_count": 93,
   "metadata": {},
   "outputs": [],
   "source": [
    "wake_merged.fillna(value = 0, inplace = True)"
   ]
  },
  {
   "cell_type": "code",
   "execution_count": 94,
   "metadata": {},
   "outputs": [],
   "source": [
    "wake_merged['food_store_count'] = wake_merged['Grocery Store'] + wake_merged['Supermarket']"
   ]
  },
  {
   "cell_type": "code",
   "execution_count": 95,
   "metadata": {},
   "outputs": [
    {
     "data": {
      "text/html": [
       "<div>\n",
       "<style scoped>\n",
       "    .dataframe tbody tr th:only-of-type {\n",
       "        vertical-align: middle;\n",
       "    }\n",
       "\n",
       "    .dataframe tbody tr th {\n",
       "        vertical-align: top;\n",
       "    }\n",
       "\n",
       "    .dataframe thead th {\n",
       "        text-align: right;\n",
       "    }\n",
       "</style>\n",
       "<table border=\"1\" class=\"dataframe\">\n",
       "  <thead>\n",
       "    <tr style=\"text-align: right;\">\n",
       "      <th></th>\n",
       "      <th>ZIPNAME</th>\n",
       "      <th>ZIPCODE</th>\n",
       "      <th>LAT</th>\n",
       "      <th>LON</th>\n",
       "      <th>Neighborhood</th>\n",
       "      <th>Cluster Labels</th>\n",
       "      <th>Grocery Store</th>\n",
       "      <th>Supermarket</th>\n",
       "      <th>food_store_count</th>\n",
       "    </tr>\n",
       "  </thead>\n",
       "  <tbody>\n",
       "    <tr>\n",
       "      <th>6</th>\n",
       "      <td>KNIGHTDALE</td>\n",
       "      <td>27545</td>\n",
       "      <td>35.783500</td>\n",
       "      <td>-78.478140</td>\n",
       "      <td>KNIGHTDALE - 27545</td>\n",
       "      <td>2.0</td>\n",
       "      <td>2.0</td>\n",
       "      <td>1.0</td>\n",
       "      <td>3.0</td>\n",
       "    </tr>\n",
       "    <tr>\n",
       "      <th>11</th>\n",
       "      <td>YOUNGSVILLE</td>\n",
       "      <td>27596</td>\n",
       "      <td>35.999650</td>\n",
       "      <td>-78.434962</td>\n",
       "      <td>YOUNGSVILLE - 27596</td>\n",
       "      <td>2.0</td>\n",
       "      <td>2.0</td>\n",
       "      <td>1.0</td>\n",
       "      <td>3.0</td>\n",
       "    </tr>\n",
       "    <tr>\n",
       "      <th>12</th>\n",
       "      <td>RALEIGH</td>\n",
       "      <td>27615</td>\n",
       "      <td>35.898500</td>\n",
       "      <td>-78.635485</td>\n",
       "      <td>RALEIGH - 27615</td>\n",
       "      <td>2.0</td>\n",
       "      <td>3.0</td>\n",
       "      <td>2.0</td>\n",
       "      <td>5.0</td>\n",
       "    </tr>\n",
       "    <tr>\n",
       "      <th>17</th>\n",
       "      <td>RALEIGH</td>\n",
       "      <td>27609</td>\n",
       "      <td>35.843765</td>\n",
       "      <td>-78.633643</td>\n",
       "      <td>RALEIGH - 27609</td>\n",
       "      <td>2.0</td>\n",
       "      <td>3.0</td>\n",
       "      <td>2.0</td>\n",
       "      <td>5.0</td>\n",
       "    </tr>\n",
       "    <tr>\n",
       "      <th>23</th>\n",
       "      <td>RALEIGH</td>\n",
       "      <td>27610</td>\n",
       "      <td>35.744400</td>\n",
       "      <td>-78.546278</td>\n",
       "      <td>RALEIGH - 27610</td>\n",
       "      <td>2.0</td>\n",
       "      <td>3.0</td>\n",
       "      <td>1.0</td>\n",
       "      <td>4.0</td>\n",
       "    </tr>\n",
       "    <tr>\n",
       "      <th>25</th>\n",
       "      <td>ANGIER</td>\n",
       "      <td>27501</td>\n",
       "      <td>35.484941</td>\n",
       "      <td>-78.684570</td>\n",
       "      <td>ANGIER - 27501</td>\n",
       "      <td>2.0</td>\n",
       "      <td>2.0</td>\n",
       "      <td>0.0</td>\n",
       "      <td>2.0</td>\n",
       "    </tr>\n",
       "    <tr>\n",
       "      <th>27</th>\n",
       "      <td>RALEIGH</td>\n",
       "      <td>27614</td>\n",
       "      <td>35.945930</td>\n",
       "      <td>-78.619494</td>\n",
       "      <td>RALEIGH - 27614</td>\n",
       "      <td>2.0</td>\n",
       "      <td>2.0</td>\n",
       "      <td>2.0</td>\n",
       "      <td>4.0</td>\n",
       "    </tr>\n",
       "    <tr>\n",
       "      <th>29</th>\n",
       "      <td>APEX</td>\n",
       "      <td>27523</td>\n",
       "      <td>35.773618</td>\n",
       "      <td>-78.956926</td>\n",
       "      <td>APEX - 27523</td>\n",
       "      <td>2.0</td>\n",
       "      <td>3.0</td>\n",
       "      <td>1.0</td>\n",
       "      <td>4.0</td>\n",
       "    </tr>\n",
       "    <tr>\n",
       "      <th>32</th>\n",
       "      <td>CARY</td>\n",
       "      <td>27511</td>\n",
       "      <td>35.763313</td>\n",
       "      <td>-78.787832</td>\n",
       "      <td>CARY - 27511</td>\n",
       "      <td>2.0</td>\n",
       "      <td>3.0</td>\n",
       "      <td>2.0</td>\n",
       "      <td>5.0</td>\n",
       "    </tr>\n",
       "    <tr>\n",
       "      <th>37</th>\n",
       "      <td>MORRISVILLE</td>\n",
       "      <td>27560</td>\n",
       "      <td>35.857875</td>\n",
       "      <td>-78.827658</td>\n",
       "      <td>MORRISVILLE - 27560</td>\n",
       "      <td>2.0</td>\n",
       "      <td>3.0</td>\n",
       "      <td>2.0</td>\n",
       "      <td>5.0</td>\n",
       "    </tr>\n",
       "    <tr>\n",
       "      <th>47</th>\n",
       "      <td>HOLLY SPRINGS</td>\n",
       "      <td>27540</td>\n",
       "      <td>35.621983</td>\n",
       "      <td>-78.863090</td>\n",
       "      <td>HOLLY SPRINGS - 27540</td>\n",
       "      <td>2.0</td>\n",
       "      <td>2.0</td>\n",
       "      <td>1.0</td>\n",
       "      <td>3.0</td>\n",
       "    </tr>\n",
       "  </tbody>\n",
       "</table>\n",
       "</div>"
      ],
      "text/plain": [
       "          ZIPNAME  ZIPCODE        LAT        LON           Neighborhood  \\\n",
       "6      KNIGHTDALE    27545  35.783500 -78.478140     KNIGHTDALE - 27545   \n",
       "11    YOUNGSVILLE    27596  35.999650 -78.434962    YOUNGSVILLE - 27596   \n",
       "12        RALEIGH    27615  35.898500 -78.635485        RALEIGH - 27615   \n",
       "17        RALEIGH    27609  35.843765 -78.633643        RALEIGH - 27609   \n",
       "23        RALEIGH    27610  35.744400 -78.546278        RALEIGH - 27610   \n",
       "25         ANGIER    27501  35.484941 -78.684570         ANGIER - 27501   \n",
       "27        RALEIGH    27614  35.945930 -78.619494        RALEIGH - 27614   \n",
       "29           APEX    27523  35.773618 -78.956926           APEX - 27523   \n",
       "32           CARY    27511  35.763313 -78.787832           CARY - 27511   \n",
       "37    MORRISVILLE    27560  35.857875 -78.827658    MORRISVILLE - 27560   \n",
       "47  HOLLY SPRINGS    27540  35.621983 -78.863090  HOLLY SPRINGS - 27540   \n",
       "\n",
       "    Cluster Labels  Grocery Store  Supermarket  food_store_count  \n",
       "6              2.0            2.0          1.0               3.0  \n",
       "11             2.0            2.0          1.0               3.0  \n",
       "12             2.0            3.0          2.0               5.0  \n",
       "17             2.0            3.0          2.0               5.0  \n",
       "23             2.0            3.0          1.0               4.0  \n",
       "25             2.0            2.0          0.0               2.0  \n",
       "27             2.0            2.0          2.0               4.0  \n",
       "29             2.0            3.0          1.0               4.0  \n",
       "32             2.0            3.0          2.0               5.0  \n",
       "37             2.0            3.0          2.0               5.0  \n",
       "47             2.0            2.0          1.0               3.0  "
      ]
     },
     "execution_count": 95,
     "metadata": {},
     "output_type": "execute_result"
    }
   ],
   "source": [
    "wake_merged.loc[wake_merged['Cluster Labels'] == 2]"
   ]
  },
  {
   "cell_type": "markdown",
   "metadata": {},
   "source": [
    "Bring in the IRS Income and Household Count information"
   ]
  },
  {
   "cell_type": "code",
   "execution_count": 96,
   "metadata": {},
   "outputs": [],
   "source": [
    "wake_merged = wake_merged.join(clean_irs_data.set_index('ZIPCODE'), on = 'ZIPCODE', how = 'left')"
   ]
  },
  {
   "cell_type": "code",
   "execution_count": 97,
   "metadata": {},
   "outputs": [
    {
     "data": {
      "text/html": [
       "<div>\n",
       "<style scoped>\n",
       "    .dataframe tbody tr th:only-of-type {\n",
       "        vertical-align: middle;\n",
       "    }\n",
       "\n",
       "    .dataframe tbody tr th {\n",
       "        vertical-align: top;\n",
       "    }\n",
       "\n",
       "    .dataframe thead th {\n",
       "        text-align: right;\n",
       "    }\n",
       "</style>\n",
       "<table border=\"1\" class=\"dataframe\">\n",
       "  <thead>\n",
       "    <tr style=\"text-align: right;\">\n",
       "      <th></th>\n",
       "      <th>ZIPNAME</th>\n",
       "      <th>ZIPCODE</th>\n",
       "      <th>LAT</th>\n",
       "      <th>LON</th>\n",
       "      <th>Neighborhood</th>\n",
       "      <th>Cluster Labels</th>\n",
       "      <th>Grocery Store</th>\n",
       "      <th>Supermarket</th>\n",
       "      <th>food_store_count</th>\n",
       "      <th>returns_count</th>\n",
       "      <th>total_income</th>\n",
       "    </tr>\n",
       "  </thead>\n",
       "  <tbody>\n",
       "    <tr>\n",
       "      <th>0</th>\n",
       "      <td>RALEIGH</td>\n",
       "      <td>27601</td>\n",
       "      <td>35.773630</td>\n",
       "      <td>-78.634458</td>\n",
       "      <td>RALEIGH - 27601</td>\n",
       "      <td>0.0</td>\n",
       "      <td>1.0</td>\n",
       "      <td>0.0</td>\n",
       "      <td>1.0</td>\n",
       "      <td>4340</td>\n",
       "      <td>289082000</td>\n",
       "    </tr>\n",
       "    <tr>\n",
       "      <th>1</th>\n",
       "      <td>DURHAM</td>\n",
       "      <td>27713</td>\n",
       "      <td>35.895040</td>\n",
       "      <td>-78.923747</td>\n",
       "      <td>DURHAM - 27713</td>\n",
       "      <td>0.0</td>\n",
       "      <td>0.0</td>\n",
       "      <td>2.0</td>\n",
       "      <td>2.0</td>\n",
       "      <td>26260</td>\n",
       "      <td>1989180000</td>\n",
       "    </tr>\n",
       "    <tr>\n",
       "      <th>2</th>\n",
       "      <td>RALEIGH</td>\n",
       "      <td>27604</td>\n",
       "      <td>35.822921</td>\n",
       "      <td>-78.562045</td>\n",
       "      <td>RALEIGH - 27604</td>\n",
       "      <td>1.0</td>\n",
       "      <td>4.0</td>\n",
       "      <td>0.0</td>\n",
       "      <td>4.0</td>\n",
       "      <td>21720</td>\n",
       "      <td>1130719000</td>\n",
       "    </tr>\n",
       "    <tr>\n",
       "      <th>3</th>\n",
       "      <td>WAKE FOREST</td>\n",
       "      <td>27587</td>\n",
       "      <td>35.981382</td>\n",
       "      <td>-78.557584</td>\n",
       "      <td>WAKE FOREST - 27587</td>\n",
       "      <td>3.0</td>\n",
       "      <td>4.0</td>\n",
       "      <td>3.0</td>\n",
       "      <td>7.0</td>\n",
       "      <td>30920</td>\n",
       "      <td>2993556000</td>\n",
       "    </tr>\n",
       "    <tr>\n",
       "      <th>4</th>\n",
       "      <td>DURHAM</td>\n",
       "      <td>27703</td>\n",
       "      <td>35.959272</td>\n",
       "      <td>-78.806808</td>\n",
       "      <td>DURHAM - 27703</td>\n",
       "      <td>0.0</td>\n",
       "      <td>0.0</td>\n",
       "      <td>2.0</td>\n",
       "      <td>2.0</td>\n",
       "      <td>27620</td>\n",
       "      <td>1576820000</td>\n",
       "    </tr>\n",
       "  </tbody>\n",
       "</table>\n",
       "</div>"
      ],
      "text/plain": [
       "       ZIPNAME ZIPCODE        LAT        LON         Neighborhood  \\\n",
       "0      RALEIGH   27601  35.773630 -78.634458      RALEIGH - 27601   \n",
       "1       DURHAM   27713  35.895040 -78.923747       DURHAM - 27713   \n",
       "2      RALEIGH   27604  35.822921 -78.562045      RALEIGH - 27604   \n",
       "3  WAKE FOREST   27587  35.981382 -78.557584  WAKE FOREST - 27587   \n",
       "4       DURHAM   27703  35.959272 -78.806808       DURHAM - 27703   \n",
       "\n",
       "   Cluster Labels  Grocery Store  Supermarket  food_store_count returns_count  \\\n",
       "0             0.0            1.0          0.0               1.0          4340   \n",
       "1             0.0            0.0          2.0               2.0         26260   \n",
       "2             1.0            4.0          0.0               4.0         21720   \n",
       "3             3.0            4.0          3.0               7.0         30920   \n",
       "4             0.0            0.0          2.0               2.0         27620   \n",
       "\n",
       "  total_income  \n",
       "0    289082000  \n",
       "1   1989180000  \n",
       "2   1130719000  \n",
       "3   2993556000  \n",
       "4   1576820000  "
      ]
     },
     "execution_count": 97,
     "metadata": {},
     "output_type": "execute_result"
    }
   ],
   "source": [
    "wake_merged.head()"
   ]
  },
  {
   "cell_type": "markdown",
   "metadata": {},
   "source": [
    "Calculate the average reported Income per Household"
   ]
  },
  {
   "cell_type": "code",
   "execution_count": 98,
   "metadata": {},
   "outputs": [],
   "source": [
    "wake_merged['income_per_household'] = (wake_merged['total_income'] / wake_merged['returns_count'] )"
   ]
  },
  {
   "cell_type": "markdown",
   "metadata": {},
   "source": [
    "Calculate the average # of Households that each food store serves"
   ]
  },
  {
   "cell_type": "code",
   "execution_count": 99,
   "metadata": {},
   "outputs": [],
   "source": [
    "wake_merged.reset_index(inplace = True)"
   ]
  },
  {
   "cell_type": "code",
   "execution_count": 100,
   "metadata": {},
   "outputs": [],
   "source": [
    "wake_merged['households_served'] = 0"
   ]
  },
  {
   "cell_type": "code",
   "execution_count": 101,
   "metadata": {},
   "outputs": [],
   "source": [
    "for i in range(len(wake_merged)):\n",
    "    if wake_merged.loc[i, 'food_store_count'] == 0:\n",
    "        wake_merged.loc[i, 'households_served'] = 0\n",
    "    else:\n",
    "        wake_merged.loc[i, 'households_served'] = (wake_merged.loc[i, 'returns_count'] / wake_merged.loc[i, 'food_store_count'].astype(int))"
   ]
  },
  {
   "cell_type": "code",
   "execution_count": 140,
   "metadata": {},
   "outputs": [
    {
     "data": {
      "text/plain": [
       "index                     int64\n",
       "ZIPNAME                  object\n",
       "ZIPCODE                  object\n",
       "LAT                     float64\n",
       "LON                     float64\n",
       "Neighborhood             object\n",
       "Cluster Labels          float64\n",
       "Grocery Store           float64\n",
       "Supermarket             float64\n",
       "food_store_count        float64\n",
       "returns_count             int64\n",
       "total_income              int64\n",
       "income_per_household      int64\n",
       "households_served       float64\n",
       "dtype: object"
      ]
     },
     "execution_count": 140,
     "metadata": {},
     "output_type": "execute_result"
    }
   ],
   "source": [
    "wake_merged.dtypes"
   ]
  },
  {
   "cell_type": "code",
   "execution_count": 143,
   "metadata": {},
   "outputs": [],
   "source": [
    "wake_merged['returns_count'] = wake_merged['returns_count'].astype(float)\n",
    "wake_merged['total_income'] = wake_merged['total_income'].astype(float)\n",
    "wake_merged['income_per_household'] = wake_merged['income_per_household'].astype(float)"
   ]
  },
  {
   "cell_type": "code",
   "execution_count": null,
   "metadata": {},
   "outputs": [],
   "source": []
  },
  {
   "cell_type": "code",
   "execution_count": null,
   "metadata": {},
   "outputs": [],
   "source": []
  },
  {
   "cell_type": "code",
   "execution_count": 102,
   "metadata": {},
   "outputs": [
    {
     "data": {
      "text/plain": [
       "<AxesSubplot:xlabel='households_served', ylabel='income_per_household'>"
      ]
     },
     "execution_count": 102,
     "metadata": {},
     "output_type": "execute_result"
    },
    {
     "data": {
      "image/png": "[encoded data removed]",
      "text/plain": [
       "<Figure size 432x288 with 1 Axes>"
      ]
     },
     "metadata": {
      "needs_background": "light"
     },
     "output_type": "display_data"
    }
   ],
   "source": [
    "wake_merged.plot.scatter(x = 'households_served', y = 'income_per_household') "
   ]
  },
  {
   "cell_type": "code",
   "execution_count": 149,
   "metadata": {},
   "outputs": [
    {
     "data": {
      "text/plain": [
       "<AxesSubplot:xlabel='households_served', ylabel='income_per_household'>"
      ]
     },
     "execution_count": 149,
     "metadata": {},
     "output_type": "execute_result"
    },
    {
     "data": {
      "image/png": "[encoded data removed]",
      "text/plain": [
       "<Figure size 1440x720 with 1 Axes>"
      ]
     },
     "metadata": {
      "needs_background": "light"
     },
     "output_type": "display_data"
    }
   ],
   "source": [
    "wake_merged.plot.scatter(x = 'households_served', y = 'income_per_household', s = wake_merged['returns_count'], alpha = 0.5) "
   ]
  },
  {
   "cell_type": "code",
   "execution_count": 150,
   "metadata": {},
   "outputs": [
    {
     "data": {
      "text/plain": [
       "<function matplotlib.pyplot.show(close=None, block=None)>"
      ]
     },
     "execution_count": 150,
     "metadata": {},
     "output_type": "execute_result"
    },
    {
     "data": {
      "image/png": "[encoded data removed]",
      "text/plain": [
       "<Figure size 1440x720 with 4 Axes>"
      ]
     },
     "metadata": {
      "needs_background": "light"
     },
     "output_type": "display_data"
    }
   ],
   "source": [
    "viz = wake_merged[['households_served','food_store_count', 'income_per_household', 'returns_count']]\n",
    "viz.hist()\n",
    "plt.show"
   ]
  },
  {
   "cell_type": "code",
   "execution_count": 151,
   "metadata": {},
   "outputs": [
    {
     "data": {
      "text/plain": [
       "<AxesSubplot:xlabel='households_served', ylabel='returns_count'>"
      ]
     },
     "execution_count": 151,
     "metadata": {},
     "output_type": "execute_result"
    },
    {
     "data": {
      "image/png": "[encoded data removed]",
      "text/plain": [
       "<Figure size 1440x720 with 1 Axes>"
      ]
     },
     "metadata": {
      "needs_background": "light"
     },
     "output_type": "display_data"
    }
   ],
   "source": [
    "wake_merged.plot.scatter(x = 'households_served', y = 'returns_count') "
   ]
  },
  {
   "cell_type": "markdown",
   "metadata": {},
   "source": [
    "Show the Data for where households_served > 10,0000 - add an indicator"
   ]
  },
  {
   "cell_type": "code",
   "execution_count": 152,
   "metadata": {},
   "outputs": [],
   "source": [
    "wake_merged['under_served'] = 'N'\n",
    "wake_merged.loc[wake_merged['households_served'] >= 10000, 'under_served'] = 'Y'"
   ]
  },
  {
   "cell_type": "markdown",
   "metadata": {},
   "source": [
    "Do a groupby on Underserved"
   ]
  },
  {
   "cell_type": "code",
   "execution_count": 154,
   "metadata": {},
   "outputs": [
    {
     "data": {
      "text/plain": [
       "<AxesSubplot:ylabel='under_served'>"
      ]
     },
     "execution_count": 154,
     "metadata": {},
     "output_type": "execute_result"
    },
    {
     "data": {
      "image/png": "[encoded data removed]",
      "text/plain": [
       "<Figure size 1440x720 with 1 Axes>"
      ]
     },
     "metadata": {
      "needs_background": "light"
     },
     "output_type": "display_data"
    }
   ],
   "source": [
    "wake_merged.plot.barh(x = 'under_served', y = 'returns_count')"
   ]
  },
  {
   "cell_type": "code",
   "execution_count": null,
   "metadata": {},
   "outputs": [],
   "source": []
  },
  {
   "cell_type": "code",
   "execution_count": 132,
   "metadata": {},
   "outputs": [
    {
     "data": {
      "text/html": [
       "<div>\n",
       "<style scoped>\n",
       "    .dataframe tbody tr th:only-of-type {\n",
       "        vertical-align: middle;\n",
       "    }\n",
       "\n",
       "    .dataframe tbody tr th {\n",
       "        vertical-align: top;\n",
       "    }\n",
       "\n",
       "    .dataframe thead th {\n",
       "        text-align: right;\n",
       "    }\n",
       "</style>\n",
       "<table border=\"1\" class=\"dataframe\">\n",
       "  <thead>\n",
       "    <tr style=\"text-align: right;\">\n",
       "      <th></th>\n",
       "      <th>index</th>\n",
       "      <th>LAT</th>\n",
       "      <th>LON</th>\n",
       "      <th>Cluster Labels</th>\n",
       "      <th>Grocery Store</th>\n",
       "      <th>Supermarket</th>\n",
       "      <th>food_store_count</th>\n",
       "      <th>returns_count</th>\n",
       "      <th>total_income</th>\n",
       "      <th>income_per_household</th>\n",
       "      <th>households_served</th>\n",
       "    </tr>\n",
       "  </thead>\n",
       "  <tbody>\n",
       "    <tr>\n",
       "      <th>count</th>\n",
       "      <td>39.000000</td>\n",
       "      <td>39.000000</td>\n",
       "      <td>39.000000</td>\n",
       "      <td>39.000000</td>\n",
       "      <td>39.000000</td>\n",
       "      <td>39.000000</td>\n",
       "      <td>39.000000</td>\n",
       "      <td>39.000000</td>\n",
       "      <td>3.900000e+01</td>\n",
       "      <td>39.000000</td>\n",
       "      <td>39.000000</td>\n",
       "    </tr>\n",
       "    <tr>\n",
       "      <th>mean</th>\n",
       "      <td>22.282051</td>\n",
       "      <td>35.793135</td>\n",
       "      <td>-78.683405</td>\n",
       "      <td>1.487179</td>\n",
       "      <td>2.102564</td>\n",
       "      <td>1.769231</td>\n",
       "      <td>3.871795</td>\n",
       "      <td>15854.871795</td>\n",
       "      <td>1.319629e+09</td>\n",
       "      <td>86455.384615</td>\n",
       "      <td>5210.567081</td>\n",
       "    </tr>\n",
       "    <tr>\n",
       "      <th>std</th>\n",
       "      <td>13.412384</td>\n",
       "      <td>0.133357</td>\n",
       "      <td>0.162018</td>\n",
       "      <td>1.315331</td>\n",
       "      <td>1.651074</td>\n",
       "      <td>1.286806</td>\n",
       "      <td>2.341609</td>\n",
       "      <td>8318.259836</td>\n",
       "      <td>7.866014e+08</td>\n",
       "      <td>33710.006621</td>\n",
       "      <td>4375.824112</td>\n",
       "    </tr>\n",
       "    <tr>\n",
       "      <th>min</th>\n",
       "      <td>0.000000</td>\n",
       "      <td>35.484941</td>\n",
       "      <td>-78.990017</td>\n",
       "      <td>0.000000</td>\n",
       "      <td>0.000000</td>\n",
       "      <td>0.000000</td>\n",
       "      <td>0.000000</td>\n",
       "      <td>1080.000000</td>\n",
       "      <td>1.015480e+08</td>\n",
       "      <td>38095.000000</td>\n",
       "      <td>0.000000</td>\n",
       "    </tr>\n",
       "    <tr>\n",
       "      <th>25%</th>\n",
       "      <td>11.500000</td>\n",
       "      <td>35.725385</td>\n",
       "      <td>-78.804690</td>\n",
       "      <td>0.000000</td>\n",
       "      <td>1.000000</td>\n",
       "      <td>1.000000</td>\n",
       "      <td>2.000000</td>\n",
       "      <td>9270.000000</td>\n",
       "      <td>5.789335e+08</td>\n",
       "      <td>60124.000000</td>\n",
       "      <td>2859.166667</td>\n",
       "    </tr>\n",
       "    <tr>\n",
       "      <th>50%</th>\n",
       "      <td>23.000000</td>\n",
       "      <td>35.801980</td>\n",
       "      <td>-78.675202</td>\n",
       "      <td>2.000000</td>\n",
       "      <td>2.000000</td>\n",
       "      <td>2.000000</td>\n",
       "      <td>4.000000</td>\n",
       "      <td>16280.000000</td>\n",
       "      <td>1.259805e+09</td>\n",
       "      <td>87763.000000</td>\n",
       "      <td>4005.000000</td>\n",
       "    </tr>\n",
       "    <tr>\n",
       "      <th>75%</th>\n",
       "      <td>32.500000</td>\n",
       "      <td>35.880777</td>\n",
       "      <td>-78.574269</td>\n",
       "      <td>2.500000</td>\n",
       "      <td>3.000000</td>\n",
       "      <td>2.500000</td>\n",
       "      <td>5.000000</td>\n",
       "      <td>22675.000000</td>\n",
       "      <td>1.789994e+09</td>\n",
       "      <td>102313.000000</td>\n",
       "      <td>5754.166667</td>\n",
       "    </tr>\n",
       "    <tr>\n",
       "      <th>max</th>\n",
       "      <td>47.000000</td>\n",
       "      <td>36.105618</td>\n",
       "      <td>-78.303150</td>\n",
       "      <td>4.000000</td>\n",
       "      <td>7.000000</td>\n",
       "      <td>5.000000</td>\n",
       "      <td>11.000000</td>\n",
       "      <td>31560.000000</td>\n",
       "      <td>3.337674e+09</td>\n",
       "      <td>211302.000000</td>\n",
       "      <td>22920.000000</td>\n",
       "    </tr>\n",
       "  </tbody>\n",
       "</table>\n",
       "</div>"
      ],
      "text/plain": [
       "           index        LAT        LON  Cluster Labels  Grocery Store  \\\n",
       "count  39.000000  39.000000  39.000000       39.000000      39.000000   \n",
       "mean   22.282051  35.793135 -78.683405        1.487179       2.102564   \n",
       "std    13.412384   0.133357   0.162018        1.315331       1.651074   \n",
       "min     0.000000  35.484941 -78.990017        0.000000       0.000000   \n",
       "25%    11.500000  35.725385 -78.804690        0.000000       1.000000   \n",
       "50%    23.000000  35.801980 -78.675202        2.000000       2.000000   \n",
       "75%    32.500000  35.880777 -78.574269        2.500000       3.000000   \n",
       "max    47.000000  36.105618 -78.303150        4.000000       7.000000   \n",
       "\n",
       "       Supermarket  food_store_count  returns_count  total_income  \\\n",
       "count    39.000000         39.000000      39.000000  3.900000e+01   \n",
       "mean      1.769231          3.871795   15854.871795  1.319629e+09   \n",
       "std       1.286806          2.341609    8318.259836  7.866014e+08   \n",
       "min       0.000000          0.000000    1080.000000  1.015480e+08   \n",
       "25%       1.000000          2.000000    9270.000000  5.789335e+08   \n",
       "50%       2.000000          4.000000   16280.000000  1.259805e+09   \n",
       "75%       2.500000          5.000000   22675.000000  1.789994e+09   \n",
       "max       5.000000         11.000000   31560.000000  3.337674e+09   \n",
       "\n",
       "       income_per_household  households_served  \n",
       "count             39.000000          39.000000  \n",
       "mean           86455.384615        5210.567081  \n",
       "std            33710.006621        4375.824112  \n",
       "min            38095.000000           0.000000  \n",
       "25%            60124.000000        2859.166667  \n",
       "50%            87763.000000        4005.000000  \n",
       "75%           102313.000000        5754.166667  \n",
       "max           211302.000000       22920.000000  "
      ]
     },
     "execution_count": 132,
     "metadata": {},
     "output_type": "execute_result"
    }
   ],
   "source": [
    "wake_merged.describe()"
   ]
  },
  {
   "cell_type": "code",
   "execution_count": 112,
   "metadata": {},
   "outputs": [
    {
     "data": {
      "text/plain": [
       "<AxesSubplot:>"
      ]
     },
     "execution_count": 112,
     "metadata": {},
     "output_type": "execute_result"
    },
    {
     "data": {
      "image/png": "[encoded data removed]",
      "text/plain": [
       "<Figure size 432x288 with 1 Axes>"
      ]
     },
     "metadata": {
      "needs_background": "light"
     },
     "output_type": "display_data"
    }
   ],
   "source": [
    "wake_merged.boxplot(column = ['food_store_count'])"
   ]
  },
  {
   "cell_type": "code",
   "execution_count": 113,
   "metadata": {},
   "outputs": [
    {
     "data": {
      "text/plain": [
       "<AxesSubplot:>"
      ]
     },
     "execution_count": 113,
     "metadata": {},
     "output_type": "execute_result"
    },
    {
     "data": {
      "image/png": "[encoded data removed]",
      "text/plain": [
       "<Figure size 432x288 with 1 Axes>"
      ]
     },
     "metadata": {
      "needs_background": "light"
     },
     "output_type": "display_data"
    }
   ],
   "source": [
    "wake_merged.boxplot(column = ['households_served'])"
   ]
  },
  {
   "cell_type": "code",
   "execution_count": 116,
   "metadata": {},
   "outputs": [],
   "source": [
    "plt.rcParams['figure.figsize'] = (20,10)"
   ]
  },
  {
   "cell_type": "code",
   "execution_count": null,
   "metadata": {},
   "outputs": [],
   "source": []
  },
  {
   "cell_type": "code",
   "execution_count": null,
   "metadata": {},
   "outputs": [],
   "source": []
  },
  {
   "cell_type": "code",
   "execution_count": 121,
   "metadata": {},
   "outputs": [
    {
     "data": {
      "text/plain": [
       "<AxesSubplot:xlabel='Neighborhood'>"
      ]
     },
     "execution_count": 121,
     "metadata": {},
     "output_type": "execute_result"
    },
    {
     "data": {
      "image/png": "[encoded data removed]",
      "text/plain": [
       "<Figure size 1440x720 with 1 Axes>"
      ]
     },
     "metadata": {
      "needs_background": "light"
     },
     "output_type": "display_data"
    }
   ],
   "source": [
    "wake_merged.plot.bar(x = 'Neighborhood', y = 'households_served')"
   ]
  },
  {
   "cell_type": "code",
   "execution_count": 137,
   "metadata": {},
   "outputs": [
    {
     "data": {
      "text/plain": [
       "<AxesSubplot:>"
      ]
     },
     "execution_count": 137,
     "metadata": {},
     "output_type": "execute_result"
    },
    {
     "data": {
      "image/png": "[encoded data removed]",
      "text/plain": [
       "<Figure size 648x576 with 2 Axes>"
      ]
     },
     "metadata": {
      "needs_background": "light"
     },
     "output_type": "display_data"
    }
   ],
   "source": [
    "import seaborn as sns\n",
    "corrmat = viz.corr()\n",
    "\n",
    "f, ax = plt.subplots(figsize = (9, 8))\n",
    "sns.heatmap(corrmat, ax = ax, cmap = 'YlGnBu', linewidths = 0.1)\n"
   ]
  },
  {
   "cell_type": "code",
   "execution_count": 109,
   "metadata": {},
   "outputs": [],
   "source": [
    "#wake_merged"
   ]
  },
  {
   "cell_type": "code",
   "execution_count": null,
   "metadata": {},
   "outputs": [],
   "source": []
  },
  {
   "cell_type": "code",
   "execution_count": null,
   "metadata": {},
   "outputs": [],
   "source": []
  },
  {
   "cell_type": "code",
   "execution_count": 105,
   "metadata": {},
   "outputs": [],
   "source": [
    "#wake_cluster_avg = wake_merged.groupby('Cluster Labels').mean()"
   ]
  },
  {
   "cell_type": "code",
   "execution_count": 106,
   "metadata": {},
   "outputs": [],
   "source": [
    "#wake_cluster_avg"
   ]
  },
  {
   "cell_type": "code",
   "execution_count": 108,
   "metadata": {},
   "outputs": [],
   "source": [
    "# create map\n",
    "\n",
    "map_clusters = folium.Map(location = [latitude, longitude], zoom_start = 11)\n",
    "\n",
    "#Set color scheme for the clusters\n",
    "x = np.arange(kclusters)\n",
    "ys = [i + x + (i * x)**2 for i in range(kclusters)]\n",
    "cmap = cm.get_cmap('rainbow')\n",
    "#colors_array = cm.rainbow(np.linspace(0, 1, len(ys)))\n",
    "colors_array = cmap(np.linspace(0, 1, len(ys)))\n",
    "rainbow = [colors.rgb2hex(i) for i in colors_array]\n",
    "\n",
    "# add the markers to the map\n",
    "markers_colors = []\n",
    "\n",
    "for lat, lon, poi, cluster in zip(wake_merged['LAT'], wake_merged['LON'], wake_merged['Neighborhood'], wake_merged['Cluster Labels']):\n",
    "    label = folium.Popup(str(poi) + ' Cluster ' + str(cluster), parse_html = True)\n",
    "    folium.CircleMarker(\n",
    "        [lat, lon],\n",
    "        radius = 5,\n",
    "        popup = label,\n",
    "        color = rainbow[int(cluster) - 1],\n",
    "        fill_opacity = 0.7).add_to(map_clusters)\n",
    "    \n",
    "#map_clusters"
   ]
  },
  {
   "cell_type": "code",
   "execution_count": null,
   "metadata": {},
   "outputs": [],
   "source": []
  },
  {
   "cell_type": "code",
   "execution_count": null,
   "metadata": {},
   "outputs": [],
   "source": []
  }
 ],
 "metadata": {
  "kernelspec": {
   "display_name": "Python 3",
   "language": "python",
   "name": "python3"
  },
  "language_info": {
   "codemirror_mode": {
    "name": "ipython",
    "version": 3
   },
   "file_extension": ".py",
   "mimetype": "text/x-python",
   "name": "python",
   "nbconvert_exporter": "python",
   "pygments_lexer": "ipython3",
   "version": "3.8.2"
  }
 },
 "nbformat": 4,
 "nbformat_minor": 4
}
