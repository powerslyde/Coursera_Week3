{
 "cells": [
  {
   "cell_type": "markdown",
   "metadata": {},
   "source": [
    "## Capstone Project: Quality and Quantity of Grocery Options by Zip Code in Wake County, NC\n",
    "### Applied Data Science Capstone by Jon Puryear"
   ]
  },
  {
   "cell_type": "markdown",
   "metadata": {},
   "source": [
    "### Table of Contents"
   ]
  },
  {
   "cell_type": "markdown",
   "metadata": {},
   "source": [
    "#### Introduction / Business Problem"
   ]
  },
  {
   "cell_type": "markdown",
   "metadata": {},
   "source": [
    "Wake County, NC is one of the fastest growing areas in the United States. However, there has been concern about access to grocery options in some parts of the county. Some parts of the county have been called a \"Food Desert\". a Food Desert is an urban area where it is difficuly to buy affordable food ro good-quality fresh food."
   ]
  },
  {
   "cell_type": "markdown",
   "metadata": {},
   "source": [
    "### Data Ingestion"
   ]
  },
  {
   "cell_type": "markdown",
   "metadata": {},
   "source": [
    "#### Notebook Set-up"
   ]
  },
  {
   "cell_type": "markdown",
   "metadata": {},
   "source": [
    "importing Python Modules needed to process the data for this business analysis"
   ]
  },
  {
   "cell_type": "code",
   "execution_count": 1,
   "metadata": {},
   "outputs": [],
   "source": [
    "import numpy as np\n",
    "import pandas as pd\n",
    "from geopy.geocoders import Nominatim # converts an address into Latitude and Longitude values\n",
    "import folium # Map Rendering Library\n",
    "import requests # Library to handle reqeuests\n",
    "from sklearn.cluster import KMeans # Clustering Model\n",
    "import matplotlib as plt\n",
    "from matplotlib import cm\n",
    "import matplotlib.colors as colors"
   ]
  },
  {
   "cell_type": "markdown",
   "metadata": {},
   "source": [
    "setting up Pandas to display all columns instead of truncating them"
   ]
  },
  {
   "cell_type": "code",
   "execution_count": 2,
   "metadata": {},
   "outputs": [],
   "source": [
    "pd.options.display.max_columns = None"
   ]
  },
  {
   "cell_type": "markdown",
   "metadata": {},
   "source": [
    "#### Foursquare Data"
   ]
  },
  {
   "cell_type": "code",
   "execution_count": null,
   "metadata": {},
   "outputs": [],
   "source": []
  },
  {
   "cell_type": "markdown",
   "metadata": {},
   "source": [
    "**FourSquare API Credentials**"
   ]
  },
  {
   "cell_type": "code",
   "execution_count": 3,
   "metadata": {},
   "outputs": [
    {
     "name": "stdout",
     "output_type": "stream",
     "text": [
      "Your credentails:\n",
      "CLIENT_ID: NIEVOX2VOPTLZY5A5BOIDA2552ZLQAO4XEQV0TLC3SZJCUKL\n",
      "CLIENT_SECRET:K55CAS1SXXUCJYTJIBXOHN0LKF3BSQETTAN43VMU5A4303G1\n"
     ]
    }
   ],
   "source": [
    "CLIENT_ID = 'NIEVOX2VOPTLZY5A5BOIDA2552ZLQAO4XEQV0TLC3SZJCUKL' # your Foursquare ID\n",
    "CLIENT_SECRET = 'K55CAS1SXXUCJYTJIBXOHN0LKF3BSQETTAN43VMU5A4303G1' # your Foursquare Secret\n",
    "VERSION = '20180604'\n",
    "LIMIT = 100\n",
    "print('Your credentails:')\n",
    "print('CLIENT_ID: ' + CLIENT_ID)\n",
    "print('CLIENT_SECRET:' + CLIENT_SECRET)"
   ]
  },
  {
   "cell_type": "markdown",
   "metadata": {},
   "source": [
    "#### IRS Tax Return Data"
   ]
  },
  {
   "cell_type": "markdown",
   "metadata": {},
   "source": [
    "Data has been sourced from: IRS Information: https://www.irs.gov/statistics/soi-tax-stats-individual-income-tax-statistics-2017-zip-code-data-soi"
   ]
  },
  {
   "cell_type": "code",
   "execution_count": 4,
   "metadata": {},
   "outputs": [],
   "source": [
    "irs_tax_data = pd.read_excel(r'2017_nc_irs_data.xlsx')"
   ]
  },
  {
   "cell_type": "markdown",
   "metadata": {},
   "source": [
    "IRS Data is pretty dirty, we only need the Zip Code level aggregate data and the Total Income Column.\n",
    "The headers that we want to use are on row index [2] and the total income columns is 'Unnamed: 19'"
   ]
  },
  {
   "cell_type": "markdown",
   "metadata": {},
   "source": [
    "The Zip Code aggregates have a Null value in Column[1], so we will fill that null value with the value 'zip_code_total'"
   ]
  },
  {
   "cell_type": "code",
   "execution_count": 5,
   "metadata": {},
   "outputs": [],
   "source": [
    "# Replace the existing headers with the new headers from row 2"
   ]
  },
  {
   "cell_type": "code",
   "execution_count": 6,
   "metadata": {},
   "outputs": [],
   "source": [
    "new_header = irs_tax_data.loc[2]"
   ]
  },
  {
   "cell_type": "code",
   "execution_count": 7,
   "metadata": {},
   "outputs": [],
   "source": [
    "# Start the dataset at index 3"
   ]
  },
  {
   "cell_type": "code",
   "execution_count": 8,
   "metadata": {},
   "outputs": [],
   "source": [
    "clean_irs_data = irs_tax_data[3:]"
   ]
  },
  {
   "cell_type": "code",
   "execution_count": 9,
   "metadata": {},
   "outputs": [],
   "source": [
    "# Add in the new_headers from row 3"
   ]
  },
  {
   "cell_type": "code",
   "execution_count": 10,
   "metadata": {},
   "outputs": [],
   "source": [
    "clean_irs_data.columns = new_header"
   ]
  },
  {
   "cell_type": "code",
   "execution_count": 11,
   "metadata": {},
   "outputs": [],
   "source": [
    "# We want Total Income and Number of returns"
   ]
  },
  {
   "cell_type": "code",
   "execution_count": 12,
   "metadata": {},
   "outputs": [],
   "source": [
    "# Total Income is a NaN field to the right of the count of returns called 'Total Income'"
   ]
  },
  {
   "cell_type": "code",
   "execution_count": 13,
   "metadata": {},
   "outputs": [],
   "source": [
    "income_index = clean_irs_data.columns.get_loc('Total income')"
   ]
  },
  {
   "cell_type": "code",
   "execution_count": 14,
   "metadata": {},
   "outputs": [],
   "source": [
    "cols = [clean_irs_data[:2], clean_irs_data[income_index:income_index+2]]"
   ]
  },
  {
   "cell_type": "code",
   "execution_count": 15,
   "metadata": {},
   "outputs": [],
   "source": [
    "clean_irs_data = clean_irs_data.iloc[:, [0,1,income_index, income_index +1]]"
   ]
  },
  {
   "cell_type": "code",
   "execution_count": 16,
   "metadata": {},
   "outputs": [],
   "source": [
    "clean_irs_data.columns = ['ZIPCODE', 'gross_income', 'returns_count', 'total_income']"
   ]
  },
  {
   "cell_type": "code",
   "execution_count": 17,
   "metadata": {},
   "outputs": [],
   "source": [
    "clean_irs_data.fillna(value = 'zip_total', inplace = True)"
   ]
  },
  {
   "cell_type": "code",
   "execution_count": 18,
   "metadata": {},
   "outputs": [],
   "source": [
    "clean_irs_data = clean_irs_data.loc[clean_irs_data['ZIPCODE'] != 'zip_total']"
   ]
  },
  {
   "cell_type": "code",
   "execution_count": 19,
   "metadata": {},
   "outputs": [],
   "source": [
    "clean_irs_data = clean_irs_data.loc[clean_irs_data['gross_income'] == 'zip_total']"
   ]
  },
  {
   "cell_type": "code",
   "execution_count": 20,
   "metadata": {},
   "outputs": [],
   "source": [
    "clean_irs_data.reset_index(inplace = True)"
   ]
  },
  {
   "cell_type": "code",
   "execution_count": 21,
   "metadata": {},
   "outputs": [],
   "source": [
    "clean_irs_data.drop(columns = ['index'], inplace = True)"
   ]
  },
  {
   "cell_type": "code",
   "execution_count": 22,
   "metadata": {},
   "outputs": [
    {
     "data": {
      "text/html": [
       "<div>\n",
       "<style scoped>\n",
       "    .dataframe tbody tr th:only-of-type {\n",
       "        vertical-align: middle;\n",
       "    }\n",
       "\n",
       "    .dataframe tbody tr th {\n",
       "        vertical-align: top;\n",
       "    }\n",
       "\n",
       "    .dataframe thead th {\n",
       "        text-align: right;\n",
       "    }\n",
       "</style>\n",
       "<table border=\"1\" class=\"dataframe\">\n",
       "  <thead>\n",
       "    <tr style=\"text-align: right;\">\n",
       "      <th></th>\n",
       "      <th>ZIPCODE</th>\n",
       "      <th>gross_income</th>\n",
       "      <th>returns_count</th>\n",
       "      <th>total_income</th>\n",
       "    </tr>\n",
       "  </thead>\n",
       "  <tbody>\n",
       "    <tr>\n",
       "      <th>0</th>\n",
       "      <td>27006</td>\n",
       "      <td>zip_total</td>\n",
       "      <td>6900</td>\n",
       "      <td>723443</td>\n",
       "    </tr>\n",
       "    <tr>\n",
       "      <th>1</th>\n",
       "      <td>27007</td>\n",
       "      <td>zip_total</td>\n",
       "      <td>900</td>\n",
       "      <td>44445</td>\n",
       "    </tr>\n",
       "    <tr>\n",
       "      <th>2</th>\n",
       "      <td>27009</td>\n",
       "      <td>zip_total</td>\n",
       "      <td>1320</td>\n",
       "      <td>108203</td>\n",
       "    </tr>\n",
       "    <tr>\n",
       "      <th>3</th>\n",
       "      <td>27011</td>\n",
       "      <td>zip_total</td>\n",
       "      <td>2340</td>\n",
       "      <td>108120</td>\n",
       "    </tr>\n",
       "    <tr>\n",
       "      <th>4</th>\n",
       "      <td>27012</td>\n",
       "      <td>zip_total</td>\n",
       "      <td>13550</td>\n",
       "      <td>1209830</td>\n",
       "    </tr>\n",
       "  </tbody>\n",
       "</table>\n",
       "</div>"
      ],
      "text/plain": [
       "  ZIPCODE gross_income returns_count total_income\n",
       "0   27006    zip_total          6900       723443\n",
       "1   27007    zip_total           900        44445\n",
       "2   27009    zip_total          1320       108203\n",
       "3   27011    zip_total          2340       108120\n",
       "4   27012    zip_total         13550      1209830"
      ]
     },
     "execution_count": 22,
     "metadata": {},
     "output_type": "execute_result"
    }
   ],
   "source": [
    "clean_irs_data.head()"
   ]
  },
  {
   "cell_type": "markdown",
   "metadata": {},
   "source": [
    "We no longer need 'gross_income' so dropping it from the dataset"
   ]
  },
  {
   "cell_type": "code",
   "execution_count": 23,
   "metadata": {},
   "outputs": [],
   "source": [
    "clean_irs_data.drop(columns = ['gross_income'], inplace = True)"
   ]
  },
  {
   "cell_type": "markdown",
   "metadata": {},
   "source": [
    "per the IRS Dataset, the total_income value is in Thousands, so we will convert it to regular dollars by * 1000"
   ]
  },
  {
   "cell_type": "code",
   "execution_count": 24,
   "metadata": {},
   "outputs": [],
   "source": [
    "clean_irs_data['total_income'] = (clean_irs_data['total_income'] * 1000)"
   ]
  },
  {
   "cell_type": "code",
   "execution_count": null,
   "metadata": {},
   "outputs": [],
   "source": []
  },
  {
   "cell_type": "markdown",
   "metadata": {},
   "source": [
    "#### Wake County Zip Codes"
   ]
  },
  {
   "cell_type": "markdown",
   "metadata": {},
   "source": [
    "Wake County Zip Codes will be sourced from Zillow.com, which is a real estate site, and confirmed against official Wake County publications (which are ony available in Image Formats). This will be used to determine the Zip Code scope of the Analysis\n",
    "\n",
    "Wake County Zip Codes: http://data-wake.opendata.arcgis.com/datasets/zip-codes/data\n",
    "\n",
    "GeoService: https://maps.wakegov.com/arcgis/rest/services/Boundaries/ZipCodes/MapServer/0/query?outFields=*&where=1%3D1"
   ]
  },
  {
   "cell_type": "code",
   "execution_count": 25,
   "metadata": {},
   "outputs": [],
   "source": [
    "wake_county_zip_codes = pd.read_csv(r'Zip_Codes.csv')"
   ]
  },
  {
   "cell_type": "code",
   "execution_count": 26,
   "metadata": {},
   "outputs": [
    {
     "data": {
      "text/html": [
       "<div>\n",
       "<style scoped>\n",
       "    .dataframe tbody tr th:only-of-type {\n",
       "        vertical-align: middle;\n",
       "    }\n",
       "\n",
       "    .dataframe tbody tr th {\n",
       "        vertical-align: top;\n",
       "    }\n",
       "\n",
       "    .dataframe thead th {\n",
       "        text-align: right;\n",
       "    }\n",
       "</style>\n",
       "<table border=\"1\" class=\"dataframe\">\n",
       "  <thead>\n",
       "    <tr style=\"text-align: right;\">\n",
       "      <th></th>\n",
       "      <th>OBJECTID</th>\n",
       "      <th>ZIPNAME</th>\n",
       "      <th>ZIPNUM</th>\n",
       "      <th>ZIPCODE</th>\n",
       "      <th>NAME</th>\n",
       "      <th>SHAPEAREA</th>\n",
       "      <th>SHAPELEN</th>\n",
       "      <th>LAST_EDITED_DATE</th>\n",
       "    </tr>\n",
       "  </thead>\n",
       "  <tbody>\n",
       "    <tr>\n",
       "      <th>0</th>\n",
       "      <td>4927</td>\n",
       "      <td>RALEIGH</td>\n",
       "      <td>27601.0</td>\n",
       "      <td>RALEIGH 27601</td>\n",
       "      <td>RALEIGH</td>\n",
       "      <td>5.075530e+07</td>\n",
       "      <td>43034.538745</td>\n",
       "      <td>NaN</td>\n",
       "    </tr>\n",
       "    <tr>\n",
       "      <th>1</th>\n",
       "      <td>4928</td>\n",
       "      <td>DURHAM</td>\n",
       "      <td>27713.0</td>\n",
       "      <td>DURHAM 27713</td>\n",
       "      <td>DURHAM</td>\n",
       "      <td>9.440600e+06</td>\n",
       "      <td>22633.644539</td>\n",
       "      <td>NaN</td>\n",
       "    </tr>\n",
       "    <tr>\n",
       "      <th>2</th>\n",
       "      <td>5185</td>\n",
       "      <td>RALEIGH</td>\n",
       "      <td>27604.0</td>\n",
       "      <td>RALEIGH 27604</td>\n",
       "      <td>RALEIGH</td>\n",
       "      <td>5.678501e+08</td>\n",
       "      <td>201307.097948</td>\n",
       "      <td>NaN</td>\n",
       "    </tr>\n",
       "    <tr>\n",
       "      <th>3</th>\n",
       "      <td>5186</td>\n",
       "      <td>WAKE FOREST</td>\n",
       "      <td>27587.0</td>\n",
       "      <td>WAKE FOREST 27587</td>\n",
       "      <td>WAKE FOREST</td>\n",
       "      <td>2.682834e+09</td>\n",
       "      <td>561415.191124</td>\n",
       "      <td>2017/10/25 15:38:04+00</td>\n",
       "    </tr>\n",
       "    <tr>\n",
       "      <th>4</th>\n",
       "      <td>5187</td>\n",
       "      <td>DURHAM</td>\n",
       "      <td>27703.0</td>\n",
       "      <td>DURHAM 27703</td>\n",
       "      <td>DURHAM</td>\n",
       "      <td>5.768992e+06</td>\n",
       "      <td>22448.009933</td>\n",
       "      <td>NaN</td>\n",
       "    </tr>\n",
       "  </tbody>\n",
       "</table>\n",
       "</div>"
      ],
      "text/plain": [
       "   OBJECTID      ZIPNAME   ZIPNUM            ZIPCODE         NAME  \\\n",
       "0      4927      RALEIGH  27601.0      RALEIGH 27601      RALEIGH   \n",
       "1      4928       DURHAM  27713.0       DURHAM 27713       DURHAM   \n",
       "2      5185      RALEIGH  27604.0      RALEIGH 27604      RALEIGH   \n",
       "3      5186  WAKE FOREST  27587.0  WAKE FOREST 27587  WAKE FOREST   \n",
       "4      5187       DURHAM  27703.0       DURHAM 27703       DURHAM   \n",
       "\n",
       "      SHAPEAREA       SHAPELEN        LAST_EDITED_DATE  \n",
       "0  5.075530e+07   43034.538745                     NaN  \n",
       "1  9.440600e+06   22633.644539                     NaN  \n",
       "2  5.678501e+08  201307.097948                     NaN  \n",
       "3  2.682834e+09  561415.191124  2017/10/25 15:38:04+00  \n",
       "4  5.768992e+06   22448.009933                     NaN  "
      ]
     },
     "execution_count": 26,
     "metadata": {},
     "output_type": "execute_result"
    }
   ],
   "source": [
    "wake_county_zip_codes.head()"
   ]
  },
  {
   "cell_type": "markdown",
   "metadata": {},
   "source": [
    "We need to filter of the places where the zipname = 'DURHAM'. Even though some small parts of Durham are in Wake County, the majority of the city is outside the county, and therefore outside the scope of this analysis"
   ]
  },
  {
   "cell_type": "code",
   "execution_count": 27,
   "metadata": {},
   "outputs": [],
   "source": [
    "## Filter our DURHAM City Data"
   ]
  },
  {
   "cell_type": "markdown",
   "metadata": {},
   "source": [
    "#### Geographical Data for Zip Codes"
   ]
  },
  {
   "cell_type": "markdown",
   "metadata": {},
   "source": [
    "Zip Code Data: https://www.census.gov/geographies/reference-files/time-series/geo/gazetteer-files.html"
   ]
  },
  {
   "cell_type": "code",
   "execution_count": 28,
   "metadata": {},
   "outputs": [],
   "source": [
    "zip_code_geo_data = pd.read_csv(r'2019_Gaz_zcta_national.txt', delimiter = '\\t')"
   ]
  },
  {
   "cell_type": "code",
   "execution_count": 29,
   "metadata": {},
   "outputs": [
    {
     "data": {
      "text/html": [
       "<div>\n",
       "<style scoped>\n",
       "    .dataframe tbody tr th:only-of-type {\n",
       "        vertical-align: middle;\n",
       "    }\n",
       "\n",
       "    .dataframe tbody tr th {\n",
       "        vertical-align: top;\n",
       "    }\n",
       "\n",
       "    .dataframe thead th {\n",
       "        text-align: right;\n",
       "    }\n",
       "</style>\n",
       "<table border=\"1\" class=\"dataframe\">\n",
       "  <thead>\n",
       "    <tr style=\"text-align: right;\">\n",
       "      <th></th>\n",
       "      <th>GEOID</th>\n",
       "      <th>ALAND</th>\n",
       "      <th>AWATER</th>\n",
       "      <th>ALAND_SQMI</th>\n",
       "      <th>AWATER_SQMI</th>\n",
       "      <th>INTPTLAT</th>\n",
       "      <th>INTPTLONG</th>\n",
       "    </tr>\n",
       "  </thead>\n",
       "  <tbody>\n",
       "    <tr>\n",
       "      <th>0</th>\n",
       "      <td>601</td>\n",
       "      <td>166659747</td>\n",
       "      <td>799292</td>\n",
       "      <td>64.348</td>\n",
       "      <td>0.309</td>\n",
       "      <td>18.180555</td>\n",
       "      <td>-66.749961</td>\n",
       "    </tr>\n",
       "    <tr>\n",
       "      <th>1</th>\n",
       "      <td>602</td>\n",
       "      <td>79307534</td>\n",
       "      <td>4428428</td>\n",
       "      <td>30.621</td>\n",
       "      <td>1.710</td>\n",
       "      <td>18.361945</td>\n",
       "      <td>-67.175597</td>\n",
       "    </tr>\n",
       "    <tr>\n",
       "      <th>2</th>\n",
       "      <td>603</td>\n",
       "      <td>81887188</td>\n",
       "      <td>181412</td>\n",
       "      <td>31.617</td>\n",
       "      <td>0.070</td>\n",
       "      <td>18.455183</td>\n",
       "      <td>-67.119887</td>\n",
       "    </tr>\n",
       "    <tr>\n",
       "      <th>3</th>\n",
       "      <td>606</td>\n",
       "      <td>109579993</td>\n",
       "      <td>12487</td>\n",
       "      <td>42.309</td>\n",
       "      <td>0.005</td>\n",
       "      <td>18.158327</td>\n",
       "      <td>-66.932928</td>\n",
       "    </tr>\n",
       "    <tr>\n",
       "      <th>4</th>\n",
       "      <td>610</td>\n",
       "      <td>93013428</td>\n",
       "      <td>4172059</td>\n",
       "      <td>35.913</td>\n",
       "      <td>1.611</td>\n",
       "      <td>18.294032</td>\n",
       "      <td>-67.127156</td>\n",
       "    </tr>\n",
       "    <tr>\n",
       "      <th>...</th>\n",
       "      <td>...</td>\n",
       "      <td>...</td>\n",
       "      <td>...</td>\n",
       "      <td>...</td>\n",
       "      <td>...</td>\n",
       "      <td>...</td>\n",
       "      <td>...</td>\n",
       "    </tr>\n",
       "    <tr>\n",
       "      <th>33139</th>\n",
       "      <td>99923</td>\n",
       "      <td>42162326</td>\n",
       "      <td>2117</td>\n",
       "      <td>16.279</td>\n",
       "      <td>0.001</td>\n",
       "      <td>56.000518</td>\n",
       "      <td>-130.037474</td>\n",
       "    </tr>\n",
       "    <tr>\n",
       "      <th>33140</th>\n",
       "      <td>99925</td>\n",
       "      <td>144071036</td>\n",
       "      <td>34333408</td>\n",
       "      <td>55.626</td>\n",
       "      <td>13.256</td>\n",
       "      <td>55.550203</td>\n",
       "      <td>-132.945947</td>\n",
       "    </tr>\n",
       "    <tr>\n",
       "      <th>33141</th>\n",
       "      <td>99926</td>\n",
       "      <td>343944587</td>\n",
       "      <td>292859014</td>\n",
       "      <td>132.798</td>\n",
       "      <td>113.074</td>\n",
       "      <td>55.138352</td>\n",
       "      <td>-131.470425</td>\n",
       "    </tr>\n",
       "    <tr>\n",
       "      <th>33142</th>\n",
       "      <td>99927</td>\n",
       "      <td>589690080</td>\n",
       "      <td>18001568</td>\n",
       "      <td>227.681</td>\n",
       "      <td>6.950</td>\n",
       "      <td>56.239062</td>\n",
       "      <td>-133.457924</td>\n",
       "    </tr>\n",
       "    <tr>\n",
       "      <th>33143</th>\n",
       "      <td>99929</td>\n",
       "      <td>5635963115</td>\n",
       "      <td>637274788</td>\n",
       "      <td>2176.058</td>\n",
       "      <td>246.053</td>\n",
       "      <td>56.370538</td>\n",
       "      <td>-131.693453</td>\n",
       "    </tr>\n",
       "  </tbody>\n",
       "</table>\n",
       "<p>33144 rows × 7 columns</p>\n",
       "</div>"
      ],
      "text/plain": [
       "       GEOID       ALAND     AWATER  ALAND_SQMI  AWATER_SQMI   INTPTLAT  \\\n",
       "0        601   166659747     799292      64.348        0.309  18.180555   \n",
       "1        602    79307534    4428428      30.621        1.710  18.361945   \n",
       "2        603    81887188     181412      31.617        0.070  18.455183   \n",
       "3        606   109579993      12487      42.309        0.005  18.158327   \n",
       "4        610    93013428    4172059      35.913        1.611  18.294032   \n",
       "...      ...         ...        ...         ...          ...        ...   \n",
       "33139  99923    42162326       2117      16.279        0.001  56.000518   \n",
       "33140  99925   144071036   34333408      55.626       13.256  55.550203   \n",
       "33141  99926   343944587  292859014     132.798      113.074  55.138352   \n",
       "33142  99927   589690080   18001568     227.681        6.950  56.239062   \n",
       "33143  99929  5635963115  637274788    2176.058      246.053  56.370538   \n",
       "\n",
       "       INTPTLONG                                                                                                                                    \n",
       "0                                             -66.749961                                                                                            \n",
       "1                                             -67.175597                                                                                            \n",
       "2                                             -67.119887                                                                                            \n",
       "3                                             -66.932928                                                                                            \n",
       "4                                             -67.127156                                                                                            \n",
       "...                                                  ...                                                                                            \n",
       "33139                                        -130.037474                                                                                            \n",
       "33140                                        -132.945947                                                                                            \n",
       "33141                                        -131.470425                                                                                            \n",
       "33142                                        -133.457924                                                                                            \n",
       "33143                                        -131.693453                                                                                            \n",
       "\n",
       "[33144 rows x 7 columns]"
      ]
     },
     "execution_count": 29,
     "metadata": {},
     "output_type": "execute_result"
    }
   ],
   "source": [
    "zip_code_geo_data"
   ]
  },
  {
   "cell_type": "code",
   "execution_count": 30,
   "metadata": {},
   "outputs": [],
   "source": [
    "# Rename GeoID to Zip Code?"
   ]
  },
  {
   "cell_type": "markdown",
   "metadata": {},
   "source": [
    "### Common Dataset for Wake County\n",
    "\n",
    "We want to build a single dataset from the three we have imported. Datset should be Zip Code, Lat, Long, Total Income, Returns Filed\n",
    "\n",
    "We will start with the wake_county_zip_codes dataset since it is already limited to the level they is needed for this analysis (Zip Codes in Wake Count)"
   ]
  },
  {
   "cell_type": "markdown",
   "metadata": {},
   "source": [
    "**Build Base Dataset**"
   ]
  },
  {
   "cell_type": "code",
   "execution_count": 31,
   "metadata": {},
   "outputs": [],
   "source": [
    "wake_county_dataset = wake_county_zip_codes"
   ]
  },
  {
   "cell_type": "code",
   "execution_count": 32,
   "metadata": {},
   "outputs": [],
   "source": [
    "## Identify the Columnes that we do not need"
   ]
  },
  {
   "cell_type": "code",
   "execution_count": 33,
   "metadata": {},
   "outputs": [],
   "source": [
    "drop_cols = {'OBJECTID','ZIPCODE', 'NAME', 'SHAPEAREA','SHAPELEN', 'LAST_EDITED_DATE'}"
   ]
  },
  {
   "cell_type": "code",
   "execution_count": 34,
   "metadata": {},
   "outputs": [],
   "source": [
    "## Drop the columns we do not need"
   ]
  },
  {
   "cell_type": "code",
   "execution_count": 35,
   "metadata": {},
   "outputs": [],
   "source": [
    "wake_county_dataset.drop(columns = drop_cols, inplace = True)"
   ]
  },
  {
   "cell_type": "code",
   "execution_count": 36,
   "metadata": {},
   "outputs": [],
   "source": [
    "# Convert the ZIPNUM from a Float to an Int"
   ]
  },
  {
   "cell_type": "code",
   "execution_count": 37,
   "metadata": {},
   "outputs": [],
   "source": [
    "### Check for Null Values in the Zip Codes"
   ]
  },
  {
   "cell_type": "code",
   "execution_count": 38,
   "metadata": {},
   "outputs": [
    {
     "data": {
      "text/html": [
       "<div>\n",
       "<style scoped>\n",
       "    .dataframe tbody tr th:only-of-type {\n",
       "        vertical-align: middle;\n",
       "    }\n",
       "\n",
       "    .dataframe tbody tr th {\n",
       "        vertical-align: top;\n",
       "    }\n",
       "\n",
       "    .dataframe thead th {\n",
       "        text-align: right;\n",
       "    }\n",
       "</style>\n",
       "<table border=\"1\" class=\"dataframe\">\n",
       "  <thead>\n",
       "    <tr style=\"text-align: right;\">\n",
       "      <th></th>\n",
       "      <th>ZIPNAME</th>\n",
       "      <th>ZIPNUM</th>\n",
       "    </tr>\n",
       "  </thead>\n",
       "  <tbody>\n",
       "    <tr>\n",
       "      <th>42</th>\n",
       "      <td>NaN</td>\n",
       "      <td>NaN</td>\n",
       "    </tr>\n",
       "    <tr>\n",
       "      <th>43</th>\n",
       "      <td>NaN</td>\n",
       "      <td>NaN</td>\n",
       "    </tr>\n",
       "    <tr>\n",
       "      <th>44</th>\n",
       "      <td>NaN</td>\n",
       "      <td>NaN</td>\n",
       "    </tr>\n",
       "    <tr>\n",
       "      <th>45</th>\n",
       "      <td>NaN</td>\n",
       "      <td>NaN</td>\n",
       "    </tr>\n",
       "    <tr>\n",
       "      <th>46</th>\n",
       "      <td>NaN</td>\n",
       "      <td>NaN</td>\n",
       "    </tr>\n",
       "    <tr>\n",
       "      <th>47</th>\n",
       "      <td>NaN</td>\n",
       "      <td>NaN</td>\n",
       "    </tr>\n",
       "    <tr>\n",
       "      <th>48</th>\n",
       "      <td>NaN</td>\n",
       "      <td>NaN</td>\n",
       "    </tr>\n",
       "    <tr>\n",
       "      <th>49</th>\n",
       "      <td>NaN</td>\n",
       "      <td>NaN</td>\n",
       "    </tr>\n",
       "    <tr>\n",
       "      <th>50</th>\n",
       "      <td>NaN</td>\n",
       "      <td>NaN</td>\n",
       "    </tr>\n",
       "    <tr>\n",
       "      <th>51</th>\n",
       "      <td>NaN</td>\n",
       "      <td>NaN</td>\n",
       "    </tr>\n",
       "    <tr>\n",
       "      <th>52</th>\n",
       "      <td>NaN</td>\n",
       "      <td>NaN</td>\n",
       "    </tr>\n",
       "  </tbody>\n",
       "</table>\n",
       "</div>"
      ],
      "text/plain": [
       "   ZIPNAME  ZIPNUM\n",
       "42     NaN     NaN\n",
       "43     NaN     NaN\n",
       "44     NaN     NaN\n",
       "45     NaN     NaN\n",
       "46     NaN     NaN\n",
       "47     NaN     NaN\n",
       "48     NaN     NaN\n",
       "49     NaN     NaN\n",
       "50     NaN     NaN\n",
       "51     NaN     NaN\n",
       "52     NaN     NaN"
      ]
     },
     "execution_count": 38,
     "metadata": {},
     "output_type": "execute_result"
    }
   ],
   "source": [
    "wake_county_dataset[wake_county_dataset.isna().any(axis = 1)]"
   ]
  },
  {
   "cell_type": "code",
   "execution_count": 39,
   "metadata": {},
   "outputs": [],
   "source": [
    "### Drop the Null Values from the Dataset"
   ]
  },
  {
   "cell_type": "code",
   "execution_count": 40,
   "metadata": {},
   "outputs": [],
   "source": [
    "wake_county_dataset.dropna(inplace = True)"
   ]
  },
  {
   "cell_type": "code",
   "execution_count": 41,
   "metadata": {},
   "outputs": [],
   "source": [
    "## create a new columnd with the Zipcode as an int"
   ]
  },
  {
   "cell_type": "code",
   "execution_count": 42,
   "metadata": {},
   "outputs": [],
   "source": [
    "wake_county_dataset['ZIPCODE'] = wake_county_dataset['ZIPNUM'].astype(int)"
   ]
  },
  {
   "cell_type": "code",
   "execution_count": 43,
   "metadata": {},
   "outputs": [],
   "source": [
    "## Drop the Floar column"
   ]
  },
  {
   "cell_type": "code",
   "execution_count": 44,
   "metadata": {},
   "outputs": [],
   "source": [
    "wake_county_dataset.drop(columns = ['ZIPNUM'], inplace = True)"
   ]
  },
  {
   "cell_type": "markdown",
   "metadata": {},
   "source": [
    "**Add in Location Information**"
   ]
  },
  {
   "cell_type": "code",
   "execution_count": 45,
   "metadata": {},
   "outputs": [],
   "source": [
    "## Add a ZIPCODE GEOID field for Merging"
   ]
  },
  {
   "cell_type": "code",
   "execution_count": 46,
   "metadata": {},
   "outputs": [],
   "source": [
    "zip_code_geo_data['ZIPCODE'] = zip_code_geo_data['GEOID']"
   ]
  },
  {
   "cell_type": "code",
   "execution_count": 47,
   "metadata": {},
   "outputs": [],
   "source": [
    "wake_county_dataset = pd.merge(wake_county_dataset, zip_code_geo_data, on = 'ZIPCODE', how = 'left')"
   ]
  },
  {
   "cell_type": "code",
   "execution_count": 48,
   "metadata": {},
   "outputs": [],
   "source": [
    "## Identify the Columnes that we do not need"
   ]
  },
  {
   "cell_type": "code",
   "execution_count": 49,
   "metadata": {},
   "outputs": [],
   "source": [
    "drop_cols = {'GEOID','ALAND', 'AWATER', 'ALAND_SQMI','AWATER_SQMI'}"
   ]
  },
  {
   "cell_type": "code",
   "execution_count": 50,
   "metadata": {},
   "outputs": [],
   "source": [
    "## Drop the columns we do not need"
   ]
  },
  {
   "cell_type": "code",
   "execution_count": 51,
   "metadata": {},
   "outputs": [],
   "source": [
    "wake_county_dataset.drop(columns = drop_cols, inplace = True)"
   ]
  },
  {
   "cell_type": "code",
   "execution_count": 52,
   "metadata": {},
   "outputs": [
    {
     "data": {
      "text/html": [
       "<div>\n",
       "<style scoped>\n",
       "    .dataframe tbody tr th:only-of-type {\n",
       "        vertical-align: middle;\n",
       "    }\n",
       "\n",
       "    .dataframe tbody tr th {\n",
       "        vertical-align: top;\n",
       "    }\n",
       "\n",
       "    .dataframe thead th {\n",
       "        text-align: right;\n",
       "    }\n",
       "</style>\n",
       "<table border=\"1\" class=\"dataframe\">\n",
       "  <thead>\n",
       "    <tr style=\"text-align: right;\">\n",
       "      <th></th>\n",
       "      <th>ZIPNAME</th>\n",
       "      <th>ZIPCODE</th>\n",
       "      <th>INTPTLAT</th>\n",
       "      <th>INTPTLONG</th>\n",
       "    </tr>\n",
       "  </thead>\n",
       "  <tbody>\n",
       "    <tr>\n",
       "      <th>0</th>\n",
       "      <td>RALEIGH</td>\n",
       "      <td>27601</td>\n",
       "      <td>35.773630</td>\n",
       "      <td>-78.634458</td>\n",
       "    </tr>\n",
       "    <tr>\n",
       "      <th>1</th>\n",
       "      <td>DURHAM</td>\n",
       "      <td>27713</td>\n",
       "      <td>35.895040</td>\n",
       "      <td>-78.923747</td>\n",
       "    </tr>\n",
       "    <tr>\n",
       "      <th>2</th>\n",
       "      <td>RALEIGH</td>\n",
       "      <td>27604</td>\n",
       "      <td>35.822921</td>\n",
       "      <td>-78.562045</td>\n",
       "    </tr>\n",
       "    <tr>\n",
       "      <th>3</th>\n",
       "      <td>WAKE FOREST</td>\n",
       "      <td>27587</td>\n",
       "      <td>35.981382</td>\n",
       "      <td>-78.557584</td>\n",
       "    </tr>\n",
       "    <tr>\n",
       "      <th>4</th>\n",
       "      <td>DURHAM</td>\n",
       "      <td>27703</td>\n",
       "      <td>35.959272</td>\n",
       "      <td>-78.806808</td>\n",
       "    </tr>\n",
       "  </tbody>\n",
       "</table>\n",
       "</div>"
      ],
      "text/plain": [
       "       ZIPNAME  ZIPCODE   INTPTLAT  \\\n",
       "0      RALEIGH    27601  35.773630   \n",
       "1       DURHAM    27713  35.895040   \n",
       "2      RALEIGH    27604  35.822921   \n",
       "3  WAKE FOREST    27587  35.981382   \n",
       "4       DURHAM    27703  35.959272   \n",
       "\n",
       "   INTPTLONG                                                                                                                                    \n",
       "0                                         -78.634458                                                                                            \n",
       "1                                         -78.923747                                                                                            \n",
       "2                                         -78.562045                                                                                            \n",
       "3                                         -78.557584                                                                                            \n",
       "4                                         -78.806808                                                                                            "
      ]
     },
     "execution_count": 52,
     "metadata": {},
     "output_type": "execute_result"
    }
   ],
   "source": [
    "wake_county_dataset.head()"
   ]
  },
  {
   "cell_type": "code",
   "execution_count": 53,
   "metadata": {},
   "outputs": [],
   "source": [
    "## Rename The Latitude & Longitude COlumns"
   ]
  },
  {
   "cell_type": "code",
   "execution_count": 54,
   "metadata": {},
   "outputs": [],
   "source": [
    "wake_county_dataset.columns = ['ZIPNAME', 'ZIPCODE', 'LAT', 'LON']"
   ]
  },
  {
   "cell_type": "code",
   "execution_count": 55,
   "metadata": {},
   "outputs": [
    {
     "data": {
      "text/plain": [
       "(55, 4)"
      ]
     },
     "execution_count": 55,
     "metadata": {},
     "output_type": "execute_result"
    }
   ],
   "source": [
    "wake_county_dataset.shape"
   ]
  },
  {
   "cell_type": "code",
   "execution_count": 56,
   "metadata": {},
   "outputs": [
    {
     "data": {
      "text/plain": [
       "39"
      ]
     },
     "execution_count": 56,
     "metadata": {},
     "output_type": "execute_result"
    }
   ],
   "source": [
    "len(wake_county_dataset['ZIPCODE'].unique())"
   ]
  },
  {
   "cell_type": "code",
   "execution_count": 57,
   "metadata": {},
   "outputs": [],
   "source": [
    "wake_county_dataset = wake_county_dataset.drop_duplicates()"
   ]
  },
  {
   "cell_type": "code",
   "execution_count": 58,
   "metadata": {},
   "outputs": [],
   "source": [
    "wake_county_dataset['Neighborhood'] = wake_county_dataset['ZIPNAME'] + ' - ' + wake_county_dataset['ZIPCODE'].astype(str)"
   ]
  },
  {
   "cell_type": "code",
   "execution_count": null,
   "metadata": {},
   "outputs": [],
   "source": []
  },
  {
   "cell_type": "code",
   "execution_count": null,
   "metadata": {},
   "outputs": [],
   "source": []
  },
  {
   "cell_type": "code",
   "execution_count": null,
   "metadata": {},
   "outputs": [],
   "source": []
  },
  {
   "cell_type": "code",
   "execution_count": null,
   "metadata": {},
   "outputs": [],
   "source": []
  },
  {
   "cell_type": "code",
   "execution_count": null,
   "metadata": {},
   "outputs": [],
   "source": []
  },
  {
   "cell_type": "code",
   "execution_count": 59,
   "metadata": {},
   "outputs": [],
   "source": [
    "## Need to add in Income Information next"
   ]
  },
  {
   "cell_type": "markdown",
   "metadata": {},
   "source": [
    "#### Visualze the Zip Code centroids"
   ]
  },
  {
   "cell_type": "code",
   "execution_count": null,
   "metadata": {},
   "outputs": [],
   "source": []
  },
  {
   "cell_type": "markdown",
   "metadata": {},
   "source": [
    "**Use the geopy library to get the latitude and longitude values of Raleigh, NC**\n",
    "\n",
    "in order to define an instance of the geocode, we need to define a user_agent. The agent will be named *nc_explore*"
   ]
  },
  {
   "cell_type": "code",
   "execution_count": 60,
   "metadata": {},
   "outputs": [
    {
     "name": "stdout",
     "output_type": "stream",
     "text": [
      "The geographical coordinates of Wake County, NC are 35.7979355, -78.6118311\n"
     ]
    }
   ],
   "source": [
    "address = 'Wake County, NC'\n",
    "\n",
    "geolocator = Nominatim(user_agent = 'nc_explore')\n",
    "location = geolocator.geocode(address)\n",
    "latitude = location.latitude\n",
    "longitude = location.longitude\n",
    "\n",
    "print('The geographical coordinates of {} are {}, {}'.format(address, latitude, longitude))"
   ]
  },
  {
   "cell_type": "markdown",
   "metadata": {},
   "source": [
    "**Create a Map of Wake County with the Zip Codes superimposed on it**"
   ]
  },
  {
   "cell_type": "markdown",
   "metadata": {},
   "source": [
    "Create the initial map instance"
   ]
  },
  {
   "cell_type": "code",
   "execution_count": 61,
   "metadata": {},
   "outputs": [],
   "source": [
    "map_wake = folium.Map(location = [latitude, longitude], zoom_start = 11)"
   ]
  },
  {
   "cell_type": "markdown",
   "metadata": {},
   "source": [
    "Add markers to the map for each neighborhood"
   ]
  },
  {
   "cell_type": "code",
   "execution_count": 62,
   "metadata": {},
   "outputs": [],
   "source": [
    "for lat, lng, label in zip(wake_county_dataset['LAT'], wake_county_dataset['LON'], wake_county_dataset['ZIPNAME'] + ' - ' + wake_county_dataset['ZIPCODE'].astype(str)):\n",
    "    label = folium.Popup(label, parse_html = True)\n",
    "    folium.CircleMarker(\n",
    "        [lat, lng],\n",
    "        radius = 5,\n",
    "        popup = label,\n",
    "        color = 'blue',\n",
    "        fill = True,\n",
    "        fill_color = '#3186cc',\n",
    "        fill_opacity = 0.7,\n",
    "        parse_html = False).add_to(map_wake)"
   ]
  },
  {
   "cell_type": "markdown",
   "metadata": {},
   "source": [
    "Display the resultant map"
   ]
  },
  {
   "cell_type": "code",
   "execution_count": 63,
   "metadata": {},
   "outputs": [],
   "source": [
    "#map_wake"
   ]
  },
  {
   "cell_type": "code",
   "execution_count": null,
   "metadata": {},
   "outputs": [],
   "source": []
  },
  {
   "cell_type": "code",
   "execution_count": null,
   "metadata": {},
   "outputs": [],
   "source": []
  },
  {
   "cell_type": "code",
   "execution_count": null,
   "metadata": {},
   "outputs": [],
   "source": []
  },
  {
   "cell_type": "code",
   "execution_count": null,
   "metadata": {},
   "outputs": [],
   "source": []
  },
  {
   "cell_type": "markdown",
   "metadata": {},
   "source": [
    "#### Pulling in Grocery Data from Foursquare API\n",
    "\n"
   ]
  },
  {
   "cell_type": "code",
   "execution_count": 64,
   "metadata": {},
   "outputs": [],
   "source": [
    "## Define Function"
   ]
  },
  {
   "cell_type": "code",
   "execution_count": 65,
   "metadata": {},
   "outputs": [],
   "source": [
    "def getNearbyVenues(names, latitudes, longitudes, radius = 8047):\n",
    "    \n",
    "    venues_list = []\n",
    "    \n",
    "    for name, lat, lng in zip(names, latitudes, longitudes):\n",
    "        print(name)\n",
    "        \n",
    "        # create the API request URL\n",
    "        url = 'https://api.foursquare.com/v2/venues/explore?&client_id={}&client_secret={}&v={}&ll={},{}&radius={}&limit={}'.format(\n",
    "            CLIENT_ID, \n",
    "            CLIENT_SECRET, \n",
    "            VERSION, \n",
    "            lat, \n",
    "            lng, \n",
    "            radius, \n",
    "            LIMIT)\n",
    "            \n",
    "        # make the GET request\n",
    "        results = requests.get(url).json()[\"response\"]['groups'][0]['items']\n",
    "        # return only relevant information for each nearby venue\n",
    "        venues_list.append([(\n",
    "            name, \n",
    "            lat, \n",
    "            lng, \n",
    "            v['venue']['name'], \n",
    "            v['venue']['location']['lat'], \n",
    "            v['venue']['location']['lng'], \n",
    "            v['venue']['categories'][0]['name']) for v in results])\n",
    "\n",
    "    nearby_venues = pd.DataFrame([item for venue_list in venues_list for item in venue_list])\n",
    "    nearby_venues.columns = ['Neighborhood', \n",
    "                  'Neighborhood Latitude', \n",
    "                  'Neighborhood Longitude', \n",
    "                  'Venue', \n",
    "                  'Venue Latitude', \n",
    "                  'Venue Longitude',\n",
    "                  'Venue Category']\n",
    "    \n",
    "    return(nearby_venues)"
   ]
  },
  {
   "cell_type": "code",
   "execution_count": 66,
   "metadata": {},
   "outputs": [],
   "source": [
    "## Run on the Wake County Datset"
   ]
  },
  {
   "cell_type": "code",
   "execution_count": 67,
   "metadata": {},
   "outputs": [],
   "source": [
    "names = wake_county_dataset['ZIPNAME'] + ' - ' + wake_county_dataset['ZIPCODE'].astype(str)\n",
    "latitudes = wake_county_dataset['LAT']\n",
    "longitudes = wake_county_dataset['LON']"
   ]
  },
  {
   "cell_type": "code",
   "execution_count": 68,
   "metadata": {},
   "outputs": [
    {
     "name": "stdout",
     "output_type": "stream",
     "text": [
      "RALEIGH - 27601\n",
      "DURHAM - 27713\n",
      "RALEIGH - 27604\n",
      "WAKE FOREST - 27587\n",
      "DURHAM - 27703\n",
      "ROLESVILLE - 27571\n",
      "KNIGHTDALE - 27545\n",
      "RALEIGH - 27603\n",
      "CREEDMOOR - 27522\n",
      "YOUNGSVILLE - 27596\n",
      "RALEIGH - 27615\n",
      "RALEIGH - 27616\n",
      "RALEIGH - 27612\n",
      "WENDELL - 27591\n",
      "RALEIGH - 27609\n",
      "RALEIGH - 27605\n",
      "APEX - 27502\n",
      "GARNER - 27529\n",
      "RALEIGH - 27608\n",
      "RALEIGH - 27610\n",
      "CLAYTON - 27520\n",
      "ANGIER - 27501\n",
      "RALEIGH - 27613\n",
      "RALEIGH - 27614\n",
      "CARY - 27518\n",
      "APEX - 27523\n",
      "RALEIGH - 27617\n",
      "ZEBULON - 27597\n",
      "CARY - 27511\n",
      "CARY - 27519\n",
      "CARY - 27513\n",
      "RALEIGH - 27607\n",
      "RALEIGH - 27606\n",
      "MORRISVILLE - 27560\n",
      "APEX - 27539\n",
      "FUQUAY VARINA - 27526\n",
      "NEW HILL - 27562\n",
      "WILLOW SPRING - 27592\n",
      "HOLLY SPRINGS - 27540\n"
     ]
    }
   ],
   "source": [
    "wake_venues = getNearbyVenues(names, latitudes, longitudes)"
   ]
  },
  {
   "cell_type": "code",
   "execution_count": 69,
   "metadata": {},
   "outputs": [
    {
     "data": {
      "text/html": [
       "<div>\n",
       "<style scoped>\n",
       "    .dataframe tbody tr th:only-of-type {\n",
       "        vertical-align: middle;\n",
       "    }\n",
       "\n",
       "    .dataframe tbody tr th {\n",
       "        vertical-align: top;\n",
       "    }\n",
       "\n",
       "    .dataframe thead th {\n",
       "        text-align: right;\n",
       "    }\n",
       "</style>\n",
       "<table border=\"1\" class=\"dataframe\">\n",
       "  <thead>\n",
       "    <tr style=\"text-align: right;\">\n",
       "      <th></th>\n",
       "      <th>Neighborhood</th>\n",
       "      <th>Neighborhood Latitude</th>\n",
       "      <th>Neighborhood Longitude</th>\n",
       "      <th>Venue</th>\n",
       "      <th>Venue Latitude</th>\n",
       "      <th>Venue Longitude</th>\n",
       "      <th>Venue Category</th>\n",
       "    </tr>\n",
       "  </thead>\n",
       "  <tbody>\n",
       "    <tr>\n",
       "      <th>0</th>\n",
       "      <td>RALEIGH - 27601</td>\n",
       "      <td>35.77363</td>\n",
       "      <td>-78.634458</td>\n",
       "      <td>Artspace Visual Arts Center</td>\n",
       "      <td>35.775576</td>\n",
       "      <td>-78.636335</td>\n",
       "      <td>Art Gallery</td>\n",
       "    </tr>\n",
       "    <tr>\n",
       "      <th>1</th>\n",
       "      <td>RALEIGH - 27601</td>\n",
       "      <td>35.77363</td>\n",
       "      <td>-78.634458</td>\n",
       "      <td>Burial Beer Co.</td>\n",
       "      <td>35.775241</td>\n",
       "      <td>-78.632247</td>\n",
       "      <td>Brewery</td>\n",
       "    </tr>\n",
       "    <tr>\n",
       "      <th>2</th>\n",
       "      <td>RALEIGH - 27601</td>\n",
       "      <td>35.77363</td>\n",
       "      <td>-78.634458</td>\n",
       "      <td>Bida Manda Laotian Restaurant and Bar</td>\n",
       "      <td>35.777227</td>\n",
       "      <td>-78.636812</td>\n",
       "      <td>Asian Restaurant</td>\n",
       "    </tr>\n",
       "    <tr>\n",
       "      <th>3</th>\n",
       "      <td>RALEIGH - 27601</td>\n",
       "      <td>35.77363</td>\n",
       "      <td>-78.634458</td>\n",
       "      <td>Duke Energy Center For The Performing Arts</td>\n",
       "      <td>35.771314</td>\n",
       "      <td>-78.639560</td>\n",
       "      <td>Performing Arts Venue</td>\n",
       "    </tr>\n",
       "    <tr>\n",
       "      <th>4</th>\n",
       "      <td>RALEIGH - 27601</td>\n",
       "      <td>35.77363</td>\n",
       "      <td>-78.634458</td>\n",
       "      <td>Beasley's Chicken + Honey</td>\n",
       "      <td>35.776968</td>\n",
       "      <td>-78.638175</td>\n",
       "      <td>Southern / Soul Food Restaurant</td>\n",
       "    </tr>\n",
       "  </tbody>\n",
       "</table>\n",
       "</div>"
      ],
      "text/plain": [
       "      Neighborhood  Neighborhood Latitude  Neighborhood Longitude  \\\n",
       "0  RALEIGH - 27601               35.77363              -78.634458   \n",
       "1  RALEIGH - 27601               35.77363              -78.634458   \n",
       "2  RALEIGH - 27601               35.77363              -78.634458   \n",
       "3  RALEIGH - 27601               35.77363              -78.634458   \n",
       "4  RALEIGH - 27601               35.77363              -78.634458   \n",
       "\n",
       "                                        Venue  Venue Latitude  \\\n",
       "0                 Artspace Visual Arts Center       35.775576   \n",
       "1                             Burial Beer Co.       35.775241   \n",
       "2       Bida Manda Laotian Restaurant and Bar       35.777227   \n",
       "3  Duke Energy Center For The Performing Arts       35.771314   \n",
       "4                   Beasley's Chicken + Honey       35.776968   \n",
       "\n",
       "   Venue Longitude                   Venue Category  \n",
       "0       -78.636335                      Art Gallery  \n",
       "1       -78.632247                          Brewery  \n",
       "2       -78.636812                 Asian Restaurant  \n",
       "3       -78.639560            Performing Arts Venue  \n",
       "4       -78.638175  Southern / Soul Food Restaurant  "
      ]
     },
     "execution_count": 69,
     "metadata": {},
     "output_type": "execute_result"
    }
   ],
   "source": [
    "wake_venues.head()"
   ]
  },
  {
   "cell_type": "code",
   "execution_count": 70,
   "metadata": {},
   "outputs": [],
   "source": [
    "#Determine the number of unique venues"
   ]
  },
  {
   "cell_type": "code",
   "execution_count": 71,
   "metadata": {},
   "outputs": [
    {
     "name": "stdout",
     "output_type": "stream",
     "text": [
      "There are 223 unique Venue Categories\n"
     ]
    }
   ],
   "source": [
    "print('There are {} unique Venue Categories'.format(len(wake_venues['Venue Category'].unique())))"
   ]
  },
  {
   "cell_type": "code",
   "execution_count": 72,
   "metadata": {},
   "outputs": [
    {
     "name": "stdout",
     "output_type": "stream",
     "text": [
      "There are 1249 unique Venues\n"
     ]
    }
   ],
   "source": [
    "print('There are {} unique Venues'.format(len(wake_venues['Venue'].unique())))"
   ]
  },
  {
   "cell_type": "code",
   "execution_count": 73,
   "metadata": {},
   "outputs": [],
   "source": [
    "# Need to filter out the non-Grocery ones"
   ]
  },
  {
   "cell_type": "code",
   "execution_count": 74,
   "metadata": {},
   "outputs": [
    {
     "data": {
      "text/plain": [
       "<bound method Series.unique of 0                           Art Gallery\n",
       "1                               Brewery\n",
       "2                      Asian Restaurant\n",
       "3                 Performing Arts Venue\n",
       "4       Southern / Soul Food Restaurant\n",
       "                     ...               \n",
       "3327                     Ice Cream Shop\n",
       "3328                        Video Store\n",
       "3329                 Salon / Barbershop\n",
       "3330                       Burger Joint\n",
       "3331                     Sandwich Place\n",
       "Name: Venue Category, Length: 3332, dtype: object>"
      ]
     },
     "execution_count": 74,
     "metadata": {},
     "output_type": "execute_result"
    }
   ],
   "source": [
    "wake_venues['Venue Category'].unique"
   ]
  },
  {
   "cell_type": "code",
   "execution_count": 75,
   "metadata": {},
   "outputs": [
    {
     "data": {
      "text/plain": [
       "(3332, 7)"
      ]
     },
     "execution_count": 75,
     "metadata": {},
     "output_type": "execute_result"
    }
   ],
   "source": [
    "wake_venues.shape"
   ]
  },
  {
   "cell_type": "code",
   "execution_count": 76,
   "metadata": {},
   "outputs": [
    {
     "data": {
      "text/html": [
       "<div>\n",
       "<style scoped>\n",
       "    .dataframe tbody tr th:only-of-type {\n",
       "        vertical-align: middle;\n",
       "    }\n",
       "\n",
       "    .dataframe tbody tr th {\n",
       "        vertical-align: top;\n",
       "    }\n",
       "\n",
       "    .dataframe thead th {\n",
       "        text-align: right;\n",
       "    }\n",
       "</style>\n",
       "<table border=\"1\" class=\"dataframe\">\n",
       "  <thead>\n",
       "    <tr style=\"text-align: right;\">\n",
       "      <th></th>\n",
       "      <th>Neighborhood Latitude</th>\n",
       "      <th>Neighborhood Longitude</th>\n",
       "      <th>Venue</th>\n",
       "      <th>Venue Latitude</th>\n",
       "      <th>Venue Longitude</th>\n",
       "      <th>Venue Category</th>\n",
       "    </tr>\n",
       "    <tr>\n",
       "      <th>Neighborhood</th>\n",
       "      <th></th>\n",
       "      <th></th>\n",
       "      <th></th>\n",
       "      <th></th>\n",
       "      <th></th>\n",
       "      <th></th>\n",
       "    </tr>\n",
       "  </thead>\n",
       "  <tbody>\n",
       "    <tr>\n",
       "      <th>ANGIER - 27501</th>\n",
       "      <td>27</td>\n",
       "      <td>27</td>\n",
       "      <td>27</td>\n",
       "      <td>27</td>\n",
       "      <td>27</td>\n",
       "      <td>27</td>\n",
       "    </tr>\n",
       "    <tr>\n",
       "      <th>APEX - 27502</th>\n",
       "      <td>87</td>\n",
       "      <td>87</td>\n",
       "      <td>87</td>\n",
       "      <td>87</td>\n",
       "      <td>87</td>\n",
       "      <td>87</td>\n",
       "    </tr>\n",
       "    <tr>\n",
       "      <th>APEX - 27523</th>\n",
       "      <td>73</td>\n",
       "      <td>73</td>\n",
       "      <td>73</td>\n",
       "      <td>73</td>\n",
       "      <td>73</td>\n",
       "      <td>73</td>\n",
       "    </tr>\n",
       "    <tr>\n",
       "      <th>APEX - 27539</th>\n",
       "      <td>100</td>\n",
       "      <td>100</td>\n",
       "      <td>100</td>\n",
       "      <td>100</td>\n",
       "      <td>100</td>\n",
       "      <td>100</td>\n",
       "    </tr>\n",
       "    <tr>\n",
       "      <th>CARY - 27511</th>\n",
       "      <td>100</td>\n",
       "      <td>100</td>\n",
       "      <td>100</td>\n",
       "      <td>100</td>\n",
       "      <td>100</td>\n",
       "      <td>100</td>\n",
       "    </tr>\n",
       "  </tbody>\n",
       "</table>\n",
       "</div>"
      ],
      "text/plain": [
       "                Neighborhood Latitude  Neighborhood Longitude  Venue  \\\n",
       "Neighborhood                                                           \n",
       "ANGIER - 27501                     27                      27     27   \n",
       "APEX - 27502                       87                      87     87   \n",
       "APEX - 27523                       73                      73     73   \n",
       "APEX - 27539                      100                     100    100   \n",
       "CARY - 27511                      100                     100    100   \n",
       "\n",
       "                Venue Latitude  Venue Longitude  Venue Category  \n",
       "Neighborhood                                                     \n",
       "ANGIER - 27501              27               27              27  \n",
       "APEX - 27502                87               87              87  \n",
       "APEX - 27523                73               73              73  \n",
       "APEX - 27539               100              100             100  \n",
       "CARY - 27511               100              100             100  "
      ]
     },
     "execution_count": 76,
     "metadata": {},
     "output_type": "execute_result"
    }
   ],
   "source": [
    "wake_venues.groupby('Neighborhood').count().head()"
   ]
  },
  {
   "cell_type": "code",
   "execution_count": 77,
   "metadata": {},
   "outputs": [],
   "source": [
    "wake_grocery_venues = wake_venues.loc[(wake_venues['Venue Category'] == 'Grocery Store') | (wake_venues['Venue Category'] == 'Organic Grocery') | (wake_venues['Venue Category'] == 'Supermarket')]"
   ]
  },
  {
   "cell_type": "code",
   "execution_count": 78,
   "metadata": {},
   "outputs": [
    {
     "data": {
      "text/html": [
       "<div>\n",
       "<style scoped>\n",
       "    .dataframe tbody tr th:only-of-type {\n",
       "        vertical-align: middle;\n",
       "    }\n",
       "\n",
       "    .dataframe tbody tr th {\n",
       "        vertical-align: top;\n",
       "    }\n",
       "\n",
       "    .dataframe thead th {\n",
       "        text-align: right;\n",
       "    }\n",
       "</style>\n",
       "<table border=\"1\" class=\"dataframe\">\n",
       "  <thead>\n",
       "    <tr style=\"text-align: right;\">\n",
       "      <th></th>\n",
       "      <th>Neighborhood</th>\n",
       "      <th>Neighborhood Latitude</th>\n",
       "      <th>Neighborhood Longitude</th>\n",
       "      <th>Venue</th>\n",
       "      <th>Venue Latitude</th>\n",
       "      <th>Venue Longitude</th>\n",
       "      <th>Venue Category</th>\n",
       "    </tr>\n",
       "  </thead>\n",
       "  <tbody>\n",
       "    <tr>\n",
       "      <th>83</th>\n",
       "      <td>RALEIGH - 27601</td>\n",
       "      <td>35.773630</td>\n",
       "      <td>-78.634458</td>\n",
       "      <td>The Fresh Market</td>\n",
       "      <td>35.789598</td>\n",
       "      <td>-78.658642</td>\n",
       "      <td>Grocery Store</td>\n",
       "    </tr>\n",
       "    <tr>\n",
       "      <th>153</th>\n",
       "      <td>DURHAM - 27713</td>\n",
       "      <td>35.895040</td>\n",
       "      <td>-78.923747</td>\n",
       "      <td>Harris Teeter</td>\n",
       "      <td>35.912543</td>\n",
       "      <td>-78.936125</td>\n",
       "      <td>Supermarket</td>\n",
       "    </tr>\n",
       "    <tr>\n",
       "      <th>184</th>\n",
       "      <td>DURHAM - 27713</td>\n",
       "      <td>35.895040</td>\n",
       "      <td>-78.923747</td>\n",
       "      <td>Harris Teeter</td>\n",
       "      <td>35.918031</td>\n",
       "      <td>-78.958794</td>\n",
       "      <td>Supermarket</td>\n",
       "    </tr>\n",
       "    <tr>\n",
       "      <th>214</th>\n",
       "      <td>RALEIGH - 27604</td>\n",
       "      <td>35.822921</td>\n",
       "      <td>-78.562045</td>\n",
       "      <td>Trader Joe's</td>\n",
       "      <td>35.823443</td>\n",
       "      <td>-78.621513</td>\n",
       "      <td>Grocery Store</td>\n",
       "    </tr>\n",
       "    <tr>\n",
       "      <th>218</th>\n",
       "      <td>RALEIGH - 27604</td>\n",
       "      <td>35.822921</td>\n",
       "      <td>-78.562045</td>\n",
       "      <td>Wegmans</td>\n",
       "      <td>35.820860</td>\n",
       "      <td>-78.620792</td>\n",
       "      <td>Grocery Store</td>\n",
       "    </tr>\n",
       "  </tbody>\n",
       "</table>\n",
       "</div>"
      ],
      "text/plain": [
       "        Neighborhood  Neighborhood Latitude  Neighborhood Longitude  \\\n",
       "83   RALEIGH - 27601              35.773630              -78.634458   \n",
       "153   DURHAM - 27713              35.895040              -78.923747   \n",
       "184   DURHAM - 27713              35.895040              -78.923747   \n",
       "214  RALEIGH - 27604              35.822921              -78.562045   \n",
       "218  RALEIGH - 27604              35.822921              -78.562045   \n",
       "\n",
       "                Venue  Venue Latitude  Venue Longitude Venue Category  \n",
       "83   The Fresh Market       35.789598       -78.658642  Grocery Store  \n",
       "153     Harris Teeter       35.912543       -78.936125    Supermarket  \n",
       "184     Harris Teeter       35.918031       -78.958794    Supermarket  \n",
       "214      Trader Joe's       35.823443       -78.621513  Grocery Store  \n",
       "218           Wegmans       35.820860       -78.620792  Grocery Store  "
      ]
     },
     "execution_count": 78,
     "metadata": {},
     "output_type": "execute_result"
    }
   ],
   "source": [
    "wake_grocery_venues.head()"
   ]
  },
  {
   "cell_type": "code",
   "execution_count": null,
   "metadata": {},
   "outputs": [],
   "source": []
  },
  {
   "cell_type": "code",
   "execution_count": 79,
   "metadata": {},
   "outputs": [],
   "source": [
    "wake_onehot = pd.get_dummies(wake_grocery_venues[['Venue Category']], prefix = '', prefix_sep = '')"
   ]
  },
  {
   "cell_type": "code",
   "execution_count": 80,
   "metadata": {},
   "outputs": [],
   "source": [
    "wake_onehot['Neighborhood'] = wake_grocery_venues['Neighborhood']"
   ]
  },
  {
   "cell_type": "code",
   "execution_count": 81,
   "metadata": {},
   "outputs": [],
   "source": [
    "nh_index = wake_onehot.columns.get_loc('Neighborhood')"
   ]
  },
  {
   "cell_type": "code",
   "execution_count": 82,
   "metadata": {},
   "outputs": [],
   "source": [
    "cols = [wake_onehot.columns[nh_index]] + list(wake_onehot.columns[:nh_index]) + list(wake_onehot.columns[nh_index + 1:])"
   ]
  },
  {
   "cell_type": "code",
   "execution_count": 83,
   "metadata": {},
   "outputs": [],
   "source": [
    "wake_onehot = wake_onehot[cols]"
   ]
  },
  {
   "cell_type": "code",
   "execution_count": 84,
   "metadata": {},
   "outputs": [
    {
     "data": {
      "text/html": [
       "<div>\n",
       "<style scoped>\n",
       "    .dataframe tbody tr th:only-of-type {\n",
       "        vertical-align: middle;\n",
       "    }\n",
       "\n",
       "    .dataframe tbody tr th {\n",
       "        vertical-align: top;\n",
       "    }\n",
       "\n",
       "    .dataframe thead th {\n",
       "        text-align: right;\n",
       "    }\n",
       "</style>\n",
       "<table border=\"1\" class=\"dataframe\">\n",
       "  <thead>\n",
       "    <tr style=\"text-align: right;\">\n",
       "      <th></th>\n",
       "      <th>Neighborhood</th>\n",
       "      <th>Grocery Store</th>\n",
       "      <th>Supermarket</th>\n",
       "    </tr>\n",
       "  </thead>\n",
       "  <tbody>\n",
       "    <tr>\n",
       "      <th>83</th>\n",
       "      <td>RALEIGH - 27601</td>\n",
       "      <td>1</td>\n",
       "      <td>0</td>\n",
       "    </tr>\n",
       "    <tr>\n",
       "      <th>153</th>\n",
       "      <td>DURHAM - 27713</td>\n",
       "      <td>0</td>\n",
       "      <td>1</td>\n",
       "    </tr>\n",
       "    <tr>\n",
       "      <th>184</th>\n",
       "      <td>DURHAM - 27713</td>\n",
       "      <td>0</td>\n",
       "      <td>1</td>\n",
       "    </tr>\n",
       "    <tr>\n",
       "      <th>214</th>\n",
       "      <td>RALEIGH - 27604</td>\n",
       "      <td>1</td>\n",
       "      <td>0</td>\n",
       "    </tr>\n",
       "    <tr>\n",
       "      <th>218</th>\n",
       "      <td>RALEIGH - 27604</td>\n",
       "      <td>1</td>\n",
       "      <td>0</td>\n",
       "    </tr>\n",
       "  </tbody>\n",
       "</table>\n",
       "</div>"
      ],
      "text/plain": [
       "        Neighborhood  Grocery Store  Supermarket\n",
       "83   RALEIGH - 27601              1            0\n",
       "153   DURHAM - 27713              0            1\n",
       "184   DURHAM - 27713              0            1\n",
       "214  RALEIGH - 27604              1            0\n",
       "218  RALEIGH - 27604              1            0"
      ]
     },
     "execution_count": 84,
     "metadata": {},
     "output_type": "execute_result"
    }
   ],
   "source": [
    "wake_onehot.head()"
   ]
  },
  {
   "cell_type": "code",
   "execution_count": 85,
   "metadata": {},
   "outputs": [
    {
     "data": {
      "text/plain": [
       "(151, 3)"
      ]
     },
     "execution_count": 85,
     "metadata": {},
     "output_type": "execute_result"
    }
   ],
   "source": [
    "wake_onehot.shape"
   ]
  },
  {
   "cell_type": "code",
   "execution_count": 86,
   "metadata": {},
   "outputs": [],
   "source": [
    "wake_group = wake_onehot.groupby('Neighborhood').sum().reset_index()"
   ]
  },
  {
   "cell_type": "code",
   "execution_count": 87,
   "metadata": {},
   "outputs": [
    {
     "data": {
      "text/html": [
       "<div>\n",
       "<style scoped>\n",
       "    .dataframe tbody tr th:only-of-type {\n",
       "        vertical-align: middle;\n",
       "    }\n",
       "\n",
       "    .dataframe tbody tr th {\n",
       "        vertical-align: top;\n",
       "    }\n",
       "\n",
       "    .dataframe thead th {\n",
       "        text-align: right;\n",
       "    }\n",
       "</style>\n",
       "<table border=\"1\" class=\"dataframe\">\n",
       "  <thead>\n",
       "    <tr style=\"text-align: right;\">\n",
       "      <th></th>\n",
       "      <th>Neighborhood</th>\n",
       "      <th>Grocery Store</th>\n",
       "      <th>Supermarket</th>\n",
       "    </tr>\n",
       "  </thead>\n",
       "  <tbody>\n",
       "    <tr>\n",
       "      <th>0</th>\n",
       "      <td>ANGIER - 27501</td>\n",
       "      <td>2</td>\n",
       "      <td>0</td>\n",
       "    </tr>\n",
       "    <tr>\n",
       "      <th>1</th>\n",
       "      <td>APEX - 27502</td>\n",
       "      <td>1</td>\n",
       "      <td>3</td>\n",
       "    </tr>\n",
       "    <tr>\n",
       "      <th>2</th>\n",
       "      <td>APEX - 27523</td>\n",
       "      <td>3</td>\n",
       "      <td>1</td>\n",
       "    </tr>\n",
       "    <tr>\n",
       "      <th>3</th>\n",
       "      <td>APEX - 27539</td>\n",
       "      <td>4</td>\n",
       "      <td>1</td>\n",
       "    </tr>\n",
       "    <tr>\n",
       "      <th>4</th>\n",
       "      <td>CARY - 27511</td>\n",
       "      <td>3</td>\n",
       "      <td>2</td>\n",
       "    </tr>\n",
       "  </tbody>\n",
       "</table>\n",
       "</div>"
      ],
      "text/plain": [
       "     Neighborhood  Grocery Store  Supermarket\n",
       "0  ANGIER - 27501              2            0\n",
       "1    APEX - 27502              1            3\n",
       "2    APEX - 27523              3            1\n",
       "3    APEX - 27539              4            1\n",
       "4    CARY - 27511              3            2"
      ]
     },
     "execution_count": 87,
     "metadata": {},
     "output_type": "execute_result"
    }
   ],
   "source": [
    "wake_group.head()"
   ]
  },
  {
   "cell_type": "code",
   "execution_count": 88,
   "metadata": {},
   "outputs": [
    {
     "data": {
      "text/plain": [
       "(38, 3)"
      ]
     },
     "execution_count": 88,
     "metadata": {},
     "output_type": "execute_result"
    }
   ],
   "source": [
    "wake_group.shape"
   ]
  },
  {
   "cell_type": "code",
   "execution_count": 89,
   "metadata": {},
   "outputs": [
    {
     "data": {
      "text/plain": [
       "array([2, 3, 2, 1, 2, 4, 3, 4, 0, 0], dtype=int32)"
      ]
     },
     "execution_count": 89,
     "metadata": {},
     "output_type": "execute_result"
    }
   ],
   "source": [
    "kclusters = 5\n",
    "\n",
    "wake_cluster = wake_group.drop('Neighborhood', 1)\n",
    "\n",
    "kmeans = KMeans(n_clusters = kclusters, random_state = 0).fit(wake_cluster)\n",
    "kmeans.labels_[0:10]"
   ]
  },
  {
   "cell_type": "code",
   "execution_count": 90,
   "metadata": {},
   "outputs": [],
   "source": [
    "wake_group.insert(0, 'Cluster Labels', kmeans.labels_)"
   ]
  },
  {
   "cell_type": "code",
   "execution_count": 91,
   "metadata": {},
   "outputs": [
    {
     "data": {
      "text/html": [
       "<div>\n",
       "<style scoped>\n",
       "    .dataframe tbody tr th:only-of-type {\n",
       "        vertical-align: middle;\n",
       "    }\n",
       "\n",
       "    .dataframe tbody tr th {\n",
       "        vertical-align: top;\n",
       "    }\n",
       "\n",
       "    .dataframe thead th {\n",
       "        text-align: right;\n",
       "    }\n",
       "</style>\n",
       "<table border=\"1\" class=\"dataframe\">\n",
       "  <thead>\n",
       "    <tr style=\"text-align: right;\">\n",
       "      <th></th>\n",
       "      <th>Cluster Labels</th>\n",
       "      <th>Neighborhood</th>\n",
       "      <th>Grocery Store</th>\n",
       "      <th>Supermarket</th>\n",
       "    </tr>\n",
       "  </thead>\n",
       "  <tbody>\n",
       "    <tr>\n",
       "      <th>0</th>\n",
       "      <td>2</td>\n",
       "      <td>ANGIER - 27501</td>\n",
       "      <td>2</td>\n",
       "      <td>0</td>\n",
       "    </tr>\n",
       "    <tr>\n",
       "      <th>1</th>\n",
       "      <td>3</td>\n",
       "      <td>APEX - 27502</td>\n",
       "      <td>1</td>\n",
       "      <td>3</td>\n",
       "    </tr>\n",
       "    <tr>\n",
       "      <th>2</th>\n",
       "      <td>2</td>\n",
       "      <td>APEX - 27523</td>\n",
       "      <td>3</td>\n",
       "      <td>1</td>\n",
       "    </tr>\n",
       "    <tr>\n",
       "      <th>3</th>\n",
       "      <td>1</td>\n",
       "      <td>APEX - 27539</td>\n",
       "      <td>4</td>\n",
       "      <td>1</td>\n",
       "    </tr>\n",
       "    <tr>\n",
       "      <th>4</th>\n",
       "      <td>2</td>\n",
       "      <td>CARY - 27511</td>\n",
       "      <td>3</td>\n",
       "      <td>2</td>\n",
       "    </tr>\n",
       "  </tbody>\n",
       "</table>\n",
       "</div>"
      ],
      "text/plain": [
       "   Cluster Labels    Neighborhood  Grocery Store  Supermarket\n",
       "0               2  ANGIER - 27501              2            0\n",
       "1               3    APEX - 27502              1            3\n",
       "2               2    APEX - 27523              3            1\n",
       "3               1    APEX - 27539              4            1\n",
       "4               2    CARY - 27511              3            2"
      ]
     },
     "execution_count": 91,
     "metadata": {},
     "output_type": "execute_result"
    }
   ],
   "source": [
    "wake_group.head()"
   ]
  },
  {
   "cell_type": "code",
   "execution_count": 92,
   "metadata": {},
   "outputs": [],
   "source": [
    "wake_merged = wake_county_dataset\n",
    "wake_merged = wake_merged.join(wake_group.set_index('Neighborhood'), on = 'Neighborhood')"
   ]
  },
  {
   "cell_type": "code",
   "execution_count": 93,
   "metadata": {},
   "outputs": [],
   "source": [
    "wake_merged.fillna(value = 0, inplace = True)"
   ]
  },
  {
   "cell_type": "code",
   "execution_count": 94,
   "metadata": {},
   "outputs": [],
   "source": [
    "wake_merged['food_store_count'] = wake_merged['Grocery Store'] + wake_merged['Supermarket']"
   ]
  },
  {
   "cell_type": "code",
   "execution_count": 95,
   "metadata": {},
   "outputs": [
    {
     "data": {
      "text/html": [
       "<div>\n",
       "<style scoped>\n",
       "    .dataframe tbody tr th:only-of-type {\n",
       "        vertical-align: middle;\n",
       "    }\n",
       "\n",
       "    .dataframe tbody tr th {\n",
       "        vertical-align: top;\n",
       "    }\n",
       "\n",
       "    .dataframe thead th {\n",
       "        text-align: right;\n",
       "    }\n",
       "</style>\n",
       "<table border=\"1\" class=\"dataframe\">\n",
       "  <thead>\n",
       "    <tr style=\"text-align: right;\">\n",
       "      <th></th>\n",
       "      <th>ZIPNAME</th>\n",
       "      <th>ZIPCODE</th>\n",
       "      <th>LAT</th>\n",
       "      <th>LON</th>\n",
       "      <th>Neighborhood</th>\n",
       "      <th>Cluster Labels</th>\n",
       "      <th>Grocery Store</th>\n",
       "      <th>Supermarket</th>\n",
       "      <th>food_store_count</th>\n",
       "    </tr>\n",
       "  </thead>\n",
       "  <tbody>\n",
       "    <tr>\n",
       "      <th>6</th>\n",
       "      <td>KNIGHTDALE</td>\n",
       "      <td>27545</td>\n",
       "      <td>35.783500</td>\n",
       "      <td>-78.478140</td>\n",
       "      <td>KNIGHTDALE - 27545</td>\n",
       "      <td>2.0</td>\n",
       "      <td>2.0</td>\n",
       "      <td>1.0</td>\n",
       "      <td>3.0</td>\n",
       "    </tr>\n",
       "    <tr>\n",
       "      <th>11</th>\n",
       "      <td>YOUNGSVILLE</td>\n",
       "      <td>27596</td>\n",
       "      <td>35.999650</td>\n",
       "      <td>-78.434962</td>\n",
       "      <td>YOUNGSVILLE - 27596</td>\n",
       "      <td>2.0</td>\n",
       "      <td>2.0</td>\n",
       "      <td>1.0</td>\n",
       "      <td>3.0</td>\n",
       "    </tr>\n",
       "    <tr>\n",
       "      <th>12</th>\n",
       "      <td>RALEIGH</td>\n",
       "      <td>27615</td>\n",
       "      <td>35.898500</td>\n",
       "      <td>-78.635485</td>\n",
       "      <td>RALEIGH - 27615</td>\n",
       "      <td>2.0</td>\n",
       "      <td>3.0</td>\n",
       "      <td>2.0</td>\n",
       "      <td>5.0</td>\n",
       "    </tr>\n",
       "    <tr>\n",
       "      <th>17</th>\n",
       "      <td>RALEIGH</td>\n",
       "      <td>27609</td>\n",
       "      <td>35.843765</td>\n",
       "      <td>-78.633643</td>\n",
       "      <td>RALEIGH - 27609</td>\n",
       "      <td>2.0</td>\n",
       "      <td>3.0</td>\n",
       "      <td>2.0</td>\n",
       "      <td>5.0</td>\n",
       "    </tr>\n",
       "    <tr>\n",
       "      <th>23</th>\n",
       "      <td>RALEIGH</td>\n",
       "      <td>27610</td>\n",
       "      <td>35.744400</td>\n",
       "      <td>-78.546278</td>\n",
       "      <td>RALEIGH - 27610</td>\n",
       "      <td>2.0</td>\n",
       "      <td>3.0</td>\n",
       "      <td>1.0</td>\n",
       "      <td>4.0</td>\n",
       "    </tr>\n",
       "    <tr>\n",
       "      <th>25</th>\n",
       "      <td>ANGIER</td>\n",
       "      <td>27501</td>\n",
       "      <td>35.484941</td>\n",
       "      <td>-78.684570</td>\n",
       "      <td>ANGIER - 27501</td>\n",
       "      <td>2.0</td>\n",
       "      <td>2.0</td>\n",
       "      <td>0.0</td>\n",
       "      <td>2.0</td>\n",
       "    </tr>\n",
       "    <tr>\n",
       "      <th>27</th>\n",
       "      <td>RALEIGH</td>\n",
       "      <td>27614</td>\n",
       "      <td>35.945930</td>\n",
       "      <td>-78.619494</td>\n",
       "      <td>RALEIGH - 27614</td>\n",
       "      <td>2.0</td>\n",
       "      <td>2.0</td>\n",
       "      <td>2.0</td>\n",
       "      <td>4.0</td>\n",
       "    </tr>\n",
       "    <tr>\n",
       "      <th>29</th>\n",
       "      <td>APEX</td>\n",
       "      <td>27523</td>\n",
       "      <td>35.773618</td>\n",
       "      <td>-78.956926</td>\n",
       "      <td>APEX - 27523</td>\n",
       "      <td>2.0</td>\n",
       "      <td>3.0</td>\n",
       "      <td>1.0</td>\n",
       "      <td>4.0</td>\n",
       "    </tr>\n",
       "    <tr>\n",
       "      <th>32</th>\n",
       "      <td>CARY</td>\n",
       "      <td>27511</td>\n",
       "      <td>35.763313</td>\n",
       "      <td>-78.787832</td>\n",
       "      <td>CARY - 27511</td>\n",
       "      <td>2.0</td>\n",
       "      <td>3.0</td>\n",
       "      <td>2.0</td>\n",
       "      <td>5.0</td>\n",
       "    </tr>\n",
       "    <tr>\n",
       "      <th>37</th>\n",
       "      <td>MORRISVILLE</td>\n",
       "      <td>27560</td>\n",
       "      <td>35.857875</td>\n",
       "      <td>-78.827658</td>\n",
       "      <td>MORRISVILLE - 27560</td>\n",
       "      <td>2.0</td>\n",
       "      <td>3.0</td>\n",
       "      <td>2.0</td>\n",
       "      <td>5.0</td>\n",
       "    </tr>\n",
       "    <tr>\n",
       "      <th>47</th>\n",
       "      <td>HOLLY SPRINGS</td>\n",
       "      <td>27540</td>\n",
       "      <td>35.621983</td>\n",
       "      <td>-78.863090</td>\n",
       "      <td>HOLLY SPRINGS - 27540</td>\n",
       "      <td>2.0</td>\n",
       "      <td>2.0</td>\n",
       "      <td>1.0</td>\n",
       "      <td>3.0</td>\n",
       "    </tr>\n",
       "  </tbody>\n",
       "</table>\n",
       "</div>"
      ],
      "text/plain": [
       "          ZIPNAME  ZIPCODE        LAT        LON           Neighborhood  \\\n",
       "6      KNIGHTDALE    27545  35.783500 -78.478140     KNIGHTDALE - 27545   \n",
       "11    YOUNGSVILLE    27596  35.999650 -78.434962    YOUNGSVILLE - 27596   \n",
       "12        RALEIGH    27615  35.898500 -78.635485        RALEIGH - 27615   \n",
       "17        RALEIGH    27609  35.843765 -78.633643        RALEIGH - 27609   \n",
       "23        RALEIGH    27610  35.744400 -78.546278        RALEIGH - 27610   \n",
       "25         ANGIER    27501  35.484941 -78.684570         ANGIER - 27501   \n",
       "27        RALEIGH    27614  35.945930 -78.619494        RALEIGH - 27614   \n",
       "29           APEX    27523  35.773618 -78.956926           APEX - 27523   \n",
       "32           CARY    27511  35.763313 -78.787832           CARY - 27511   \n",
       "37    MORRISVILLE    27560  35.857875 -78.827658    MORRISVILLE - 27560   \n",
       "47  HOLLY SPRINGS    27540  35.621983 -78.863090  HOLLY SPRINGS - 27540   \n",
       "\n",
       "    Cluster Labels  Grocery Store  Supermarket  food_store_count  \n",
       "6              2.0            2.0          1.0               3.0  \n",
       "11             2.0            2.0          1.0               3.0  \n",
       "12             2.0            3.0          2.0               5.0  \n",
       "17             2.0            3.0          2.0               5.0  \n",
       "23             2.0            3.0          1.0               4.0  \n",
       "25             2.0            2.0          0.0               2.0  \n",
       "27             2.0            2.0          2.0               4.0  \n",
       "29             2.0            3.0          1.0               4.0  \n",
       "32             2.0            3.0          2.0               5.0  \n",
       "37             2.0            3.0          2.0               5.0  \n",
       "47             2.0            2.0          1.0               3.0  "
      ]
     },
     "execution_count": 95,
     "metadata": {},
     "output_type": "execute_result"
    }
   ],
   "source": [
    "wake_merged.loc[wake_merged['Cluster Labels'] == 2]"
   ]
  },
  {
   "cell_type": "markdown",
   "metadata": {},
   "source": [
    "Bring in the IRS Income and Household Count information"
   ]
  },
  {
   "cell_type": "code",
   "execution_count": 96,
   "metadata": {},
   "outputs": [],
   "source": [
    "wake_merged = wake_merged.join(clean_irs_data.set_index('ZIPCODE'), on = 'ZIPCODE', how = 'left')"
   ]
  },
  {
   "cell_type": "code",
   "execution_count": 97,
   "metadata": {},
   "outputs": [
    {
     "data": {
      "text/html": [
       "<div>\n",
       "<style scoped>\n",
       "    .dataframe tbody tr th:only-of-type {\n",
       "        vertical-align: middle;\n",
       "    }\n",
       "\n",
       "    .dataframe tbody tr th {\n",
       "        vertical-align: top;\n",
       "    }\n",
       "\n",
       "    .dataframe thead th {\n",
       "        text-align: right;\n",
       "    }\n",
       "</style>\n",
       "<table border=\"1\" class=\"dataframe\">\n",
       "  <thead>\n",
       "    <tr style=\"text-align: right;\">\n",
       "      <th></th>\n",
       "      <th>ZIPNAME</th>\n",
       "      <th>ZIPCODE</th>\n",
       "      <th>LAT</th>\n",
       "      <th>LON</th>\n",
       "      <th>Neighborhood</th>\n",
       "      <th>Cluster Labels</th>\n",
       "      <th>Grocery Store</th>\n",
       "      <th>Supermarket</th>\n",
       "      <th>food_store_count</th>\n",
       "      <th>returns_count</th>\n",
       "      <th>total_income</th>\n",
       "    </tr>\n",
       "  </thead>\n",
       "  <tbody>\n",
       "    <tr>\n",
       "      <th>0</th>\n",
       "      <td>RALEIGH</td>\n",
       "      <td>27601</td>\n",
       "      <td>35.773630</td>\n",
       "      <td>-78.634458</td>\n",
       "      <td>RALEIGH - 27601</td>\n",
       "      <td>0.0</td>\n",
       "      <td>1.0</td>\n",
       "      <td>0.0</td>\n",
       "      <td>1.0</td>\n",
       "      <td>4340</td>\n",
       "      <td>289082000</td>\n",
       "    </tr>\n",
       "    <tr>\n",
       "      <th>1</th>\n",
       "      <td>DURHAM</td>\n",
       "      <td>27713</td>\n",
       "      <td>35.895040</td>\n",
       "      <td>-78.923747</td>\n",
       "      <td>DURHAM - 27713</td>\n",
       "      <td>0.0</td>\n",
       "      <td>0.0</td>\n",
       "      <td>2.0</td>\n",
       "      <td>2.0</td>\n",
       "      <td>26260</td>\n",
       "      <td>1989180000</td>\n",
       "    </tr>\n",
       "    <tr>\n",
       "      <th>2</th>\n",
       "      <td>RALEIGH</td>\n",
       "      <td>27604</td>\n",
       "      <td>35.822921</td>\n",
       "      <td>-78.562045</td>\n",
       "      <td>RALEIGH - 27604</td>\n",
       "      <td>1.0</td>\n",
       "      <td>4.0</td>\n",
       "      <td>0.0</td>\n",
       "      <td>4.0</td>\n",
       "      <td>21720</td>\n",
       "      <td>1130719000</td>\n",
       "    </tr>\n",
       "    <tr>\n",
       "      <th>3</th>\n",
       "      <td>WAKE FOREST</td>\n",
       "      <td>27587</td>\n",
       "      <td>35.981382</td>\n",
       "      <td>-78.557584</td>\n",
       "      <td>WAKE FOREST - 27587</td>\n",
       "      <td>3.0</td>\n",
       "      <td>4.0</td>\n",
       "      <td>3.0</td>\n",
       "      <td>7.0</td>\n",
       "      <td>30920</td>\n",
       "      <td>2993556000</td>\n",
       "    </tr>\n",
       "    <tr>\n",
       "      <th>4</th>\n",
       "      <td>DURHAM</td>\n",
       "      <td>27703</td>\n",
       "      <td>35.959272</td>\n",
       "      <td>-78.806808</td>\n",
       "      <td>DURHAM - 27703</td>\n",
       "      <td>0.0</td>\n",
       "      <td>0.0</td>\n",
       "      <td>2.0</td>\n",
       "      <td>2.0</td>\n",
       "      <td>27620</td>\n",
       "      <td>1576820000</td>\n",
       "    </tr>\n",
       "  </tbody>\n",
       "</table>\n",
       "</div>"
      ],
      "text/plain": [
       "       ZIPNAME ZIPCODE        LAT        LON         Neighborhood  \\\n",
       "0      RALEIGH   27601  35.773630 -78.634458      RALEIGH - 27601   \n",
       "1       DURHAM   27713  35.895040 -78.923747       DURHAM - 27713   \n",
       "2      RALEIGH   27604  35.822921 -78.562045      RALEIGH - 27604   \n",
       "3  WAKE FOREST   27587  35.981382 -78.557584  WAKE FOREST - 27587   \n",
       "4       DURHAM   27703  35.959272 -78.806808       DURHAM - 27703   \n",
       "\n",
       "   Cluster Labels  Grocery Store  Supermarket  food_store_count returns_count  \\\n",
       "0             0.0            1.0          0.0               1.0          4340   \n",
       "1             0.0            0.0          2.0               2.0         26260   \n",
       "2             1.0            4.0          0.0               4.0         21720   \n",
       "3             3.0            4.0          3.0               7.0         30920   \n",
       "4             0.0            0.0          2.0               2.0         27620   \n",
       "\n",
       "  total_income  \n",
       "0    289082000  \n",
       "1   1989180000  \n",
       "2   1130719000  \n",
       "3   2993556000  \n",
       "4   1576820000  "
      ]
     },
     "execution_count": 97,
     "metadata": {},
     "output_type": "execute_result"
    }
   ],
   "source": [
    "wake_merged.head()"
   ]
  },
  {
   "cell_type": "markdown",
   "metadata": {},
   "source": [
    "Calculate the average reported Income per Household"
   ]
  },
  {
   "cell_type": "code",
   "execution_count": 98,
   "metadata": {},
   "outputs": [],
   "source": [
    "wake_merged['income_per_household'] = (wake_merged['total_income'] / wake_merged['returns_count'] )"
   ]
  },
  {
   "cell_type": "markdown",
   "metadata": {},
   "source": [
    "Calculate the average # of Households that each food store serves"
   ]
  },
  {
   "cell_type": "code",
   "execution_count": 99,
   "metadata": {},
   "outputs": [],
   "source": [
    "wake_merged.reset_index(inplace = True)"
   ]
  },
  {
   "cell_type": "code",
   "execution_count": 100,
   "metadata": {},
   "outputs": [],
   "source": [
    "wake_merged['households_served'] = 0"
   ]
  },
  {
   "cell_type": "code",
   "execution_count": 101,
   "metadata": {},
   "outputs": [],
   "source": [
    "for i in range(len(wake_merged)):\n",
    "    if wake_merged.loc[i, 'food_store_count'] == 0:\n",
    "        wake_merged.loc[i, 'households_served'] = 0\n",
    "    else:\n",
    "        wake_merged.loc[i, 'households_served'] = (wake_merged.loc[i, 'returns_count'] / wake_merged.loc[i, 'food_store_count'].astype(int))"
   ]
  },
  {
   "cell_type": "code",
   "execution_count": 102,
   "metadata": {},
   "outputs": [
    {
     "data": {
      "text/plain": [
       "<AxesSubplot:xlabel='households_served', ylabel='income_per_household'>"
      ]
     },
     "execution_count": 102,
     "metadata": {},
     "output_type": "execute_result"
    },
    {
     "data": {
      "image/png": "[encoded data removed]",
      "text/plain": [
       "<Figure size 432x288 with 1 Axes>"
      ]
     },
     "metadata": {
      "needs_background": "light"
     },
     "output_type": "display_data"
    }
   ],
   "source": [
    "wake_merged.plot.scatter(x = 'households_served', y = 'income_per_household') "
   ]
  },
  {
   "cell_type": "code",
   "execution_count": null,
   "metadata": {},
   "outputs": [],
   "source": []
  },
  {
   "cell_type": "code",
   "execution_count": 103,
   "metadata": {},
   "outputs": [
    {
     "data": {
      "text/html": [
       "<div>\n",
       "<style scoped>\n",
       "    .dataframe tbody tr th:only-of-type {\n",
       "        vertical-align: middle;\n",
       "    }\n",
       "\n",
       "    .dataframe tbody tr th {\n",
       "        vertical-align: top;\n",
       "    }\n",
       "\n",
       "    .dataframe thead th {\n",
       "        text-align: right;\n",
       "    }\n",
       "</style>\n",
       "<table border=\"1\" class=\"dataframe\">\n",
       "  <thead>\n",
       "    <tr style=\"text-align: right;\">\n",
       "      <th></th>\n",
       "      <th>index</th>\n",
       "      <th>LAT</th>\n",
       "      <th>LON</th>\n",
       "      <th>Cluster Labels</th>\n",
       "      <th>Grocery Store</th>\n",
       "      <th>Supermarket</th>\n",
       "      <th>food_store_count</th>\n",
       "      <th>households_served</th>\n",
       "    </tr>\n",
       "  </thead>\n",
       "  <tbody>\n",
       "    <tr>\n",
       "      <th>count</th>\n",
       "      <td>39.000000</td>\n",
       "      <td>39.000000</td>\n",
       "      <td>39.000000</td>\n",
       "      <td>39.000000</td>\n",
       "      <td>39.000000</td>\n",
       "      <td>39.000000</td>\n",
       "      <td>39.000000</td>\n",
       "      <td>39.000000</td>\n",
       "    </tr>\n",
       "    <tr>\n",
       "      <th>mean</th>\n",
       "      <td>22.282051</td>\n",
       "      <td>35.793135</td>\n",
       "      <td>-78.683405</td>\n",
       "      <td>1.487179</td>\n",
       "      <td>2.102564</td>\n",
       "      <td>1.769231</td>\n",
       "      <td>3.871795</td>\n",
       "      <td>5210.567081</td>\n",
       "    </tr>\n",
       "    <tr>\n",
       "      <th>std</th>\n",
       "      <td>13.412384</td>\n",
       "      <td>0.133357</td>\n",
       "      <td>0.162018</td>\n",
       "      <td>1.315331</td>\n",
       "      <td>1.651074</td>\n",
       "      <td>1.286806</td>\n",
       "      <td>2.341609</td>\n",
       "      <td>4375.824112</td>\n",
       "    </tr>\n",
       "    <tr>\n",
       "      <th>min</th>\n",
       "      <td>0.000000</td>\n",
       "      <td>35.484941</td>\n",
       "      <td>-78.990017</td>\n",
       "      <td>0.000000</td>\n",
       "      <td>0.000000</td>\n",
       "      <td>0.000000</td>\n",
       "      <td>0.000000</td>\n",
       "      <td>0.000000</td>\n",
       "    </tr>\n",
       "    <tr>\n",
       "      <th>25%</th>\n",
       "      <td>11.500000</td>\n",
       "      <td>35.725385</td>\n",
       "      <td>-78.804690</td>\n",
       "      <td>0.000000</td>\n",
       "      <td>1.000000</td>\n",
       "      <td>1.000000</td>\n",
       "      <td>2.000000</td>\n",
       "      <td>2859.166667</td>\n",
       "    </tr>\n",
       "    <tr>\n",
       "      <th>50%</th>\n",
       "      <td>23.000000</td>\n",
       "      <td>35.801980</td>\n",
       "      <td>-78.675202</td>\n",
       "      <td>2.000000</td>\n",
       "      <td>2.000000</td>\n",
       "      <td>2.000000</td>\n",
       "      <td>4.000000</td>\n",
       "      <td>4005.000000</td>\n",
       "    </tr>\n",
       "    <tr>\n",
       "      <th>75%</th>\n",
       "      <td>32.500000</td>\n",
       "      <td>35.880777</td>\n",
       "      <td>-78.574269</td>\n",
       "      <td>2.500000</td>\n",
       "      <td>3.000000</td>\n",
       "      <td>2.500000</td>\n",
       "      <td>5.000000</td>\n",
       "      <td>5754.166667</td>\n",
       "    </tr>\n",
       "    <tr>\n",
       "      <th>max</th>\n",
       "      <td>47.000000</td>\n",
       "      <td>36.105618</td>\n",
       "      <td>-78.303150</td>\n",
       "      <td>4.000000</td>\n",
       "      <td>7.000000</td>\n",
       "      <td>5.000000</td>\n",
       "      <td>11.000000</td>\n",
       "      <td>22920.000000</td>\n",
       "    </tr>\n",
       "  </tbody>\n",
       "</table>\n",
       "</div>"
      ],
      "text/plain": [
       "           index        LAT        LON  Cluster Labels  Grocery Store  \\\n",
       "count  39.000000  39.000000  39.000000       39.000000      39.000000   \n",
       "mean   22.282051  35.793135 -78.683405        1.487179       2.102564   \n",
       "std    13.412384   0.133357   0.162018        1.315331       1.651074   \n",
       "min     0.000000  35.484941 -78.990017        0.000000       0.000000   \n",
       "25%    11.500000  35.725385 -78.804690        0.000000       1.000000   \n",
       "50%    23.000000  35.801980 -78.675202        2.000000       2.000000   \n",
       "75%    32.500000  35.880777 -78.574269        2.500000       3.000000   \n",
       "max    47.000000  36.105618 -78.303150        4.000000       7.000000   \n",
       "\n",
       "       Supermarket  food_store_count  households_served  \n",
       "count    39.000000         39.000000          39.000000  \n",
       "mean      1.769231          3.871795        5210.567081  \n",
       "std       1.286806          2.341609        4375.824112  \n",
       "min       0.000000          0.000000           0.000000  \n",
       "25%       1.000000          2.000000        2859.166667  \n",
       "50%       2.000000          4.000000        4005.000000  \n",
       "75%       2.500000          5.000000        5754.166667  \n",
       "max       5.000000         11.000000       22920.000000  "
      ]
     },
     "execution_count": 103,
     "metadata": {},
     "output_type": "execute_result"
    }
   ],
   "source": [
    "wake_merged.describe()"
   ]
  },
  {
   "cell_type": "code",
   "execution_count": null,
   "metadata": {},
   "outputs": [],
   "source": []
  },
  {
   "cell_type": "code",
   "execution_count": null,
   "metadata": {},
   "outputs": [],
   "source": []
  },
  {
   "cell_type": "code",
   "execution_count": 104,
   "metadata": {},
   "outputs": [
    {
     "data": {
      "text/html": [
       "<div>\n",
       "<style scoped>\n",
       "    .dataframe tbody tr th:only-of-type {\n",
       "        vertical-align: middle;\n",
       "    }\n",
       "\n",
       "    .dataframe tbody tr th {\n",
       "        vertical-align: top;\n",
       "    }\n",
       "\n",
       "    .dataframe thead th {\n",
       "        text-align: right;\n",
       "    }\n",
       "</style>\n",
       "<table border=\"1\" class=\"dataframe\">\n",
       "  <thead>\n",
       "    <tr style=\"text-align: right;\">\n",
       "      <th></th>\n",
       "      <th>index</th>\n",
       "      <th>ZIPNAME</th>\n",
       "      <th>ZIPCODE</th>\n",
       "      <th>LAT</th>\n",
       "      <th>LON</th>\n",
       "      <th>Neighborhood</th>\n",
       "      <th>Cluster Labels</th>\n",
       "      <th>Grocery Store</th>\n",
       "      <th>Supermarket</th>\n",
       "      <th>food_store_count</th>\n",
       "      <th>returns_count</th>\n",
       "      <th>total_income</th>\n",
       "      <th>income_per_household</th>\n",
       "      <th>households_served</th>\n",
       "    </tr>\n",
       "  </thead>\n",
       "  <tbody>\n",
       "    <tr>\n",
       "      <th>0</th>\n",
       "      <td>0</td>\n",
       "      <td>RALEIGH</td>\n",
       "      <td>27601</td>\n",
       "      <td>35.773630</td>\n",
       "      <td>-78.634458</td>\n",
       "      <td>RALEIGH - 27601</td>\n",
       "      <td>0.0</td>\n",
       "      <td>1.0</td>\n",
       "      <td>0.0</td>\n",
       "      <td>1.0</td>\n",
       "      <td>4340</td>\n",
       "      <td>289082000</td>\n",
       "      <td>66608.8</td>\n",
       "      <td>4340.000000</td>\n",
       "    </tr>\n",
       "    <tr>\n",
       "      <th>1</th>\n",
       "      <td>1</td>\n",
       "      <td>DURHAM</td>\n",
       "      <td>27713</td>\n",
       "      <td>35.895040</td>\n",
       "      <td>-78.923747</td>\n",
       "      <td>DURHAM - 27713</td>\n",
       "      <td>0.0</td>\n",
       "      <td>0.0</td>\n",
       "      <td>2.0</td>\n",
       "      <td>2.0</td>\n",
       "      <td>26260</td>\n",
       "      <td>1989180000</td>\n",
       "      <td>75749.4</td>\n",
       "      <td>13130.000000</td>\n",
       "    </tr>\n",
       "    <tr>\n",
       "      <th>2</th>\n",
       "      <td>2</td>\n",
       "      <td>RALEIGH</td>\n",
       "      <td>27604</td>\n",
       "      <td>35.822921</td>\n",
       "      <td>-78.562045</td>\n",
       "      <td>RALEIGH - 27604</td>\n",
       "      <td>1.0</td>\n",
       "      <td>4.0</td>\n",
       "      <td>0.0</td>\n",
       "      <td>4.0</td>\n",
       "      <td>21720</td>\n",
       "      <td>1130719000</td>\n",
       "      <td>52058.9</td>\n",
       "      <td>5430.000000</td>\n",
       "    </tr>\n",
       "    <tr>\n",
       "      <th>3</th>\n",
       "      <td>3</td>\n",
       "      <td>WAKE FOREST</td>\n",
       "      <td>27587</td>\n",
       "      <td>35.981382</td>\n",
       "      <td>-78.557584</td>\n",
       "      <td>WAKE FOREST - 27587</td>\n",
       "      <td>3.0</td>\n",
       "      <td>4.0</td>\n",
       "      <td>3.0</td>\n",
       "      <td>7.0</td>\n",
       "      <td>30920</td>\n",
       "      <td>2993556000</td>\n",
       "      <td>96816.2</td>\n",
       "      <td>4417.142857</td>\n",
       "    </tr>\n",
       "    <tr>\n",
       "      <th>4</th>\n",
       "      <td>4</td>\n",
       "      <td>DURHAM</td>\n",
       "      <td>27703</td>\n",
       "      <td>35.959272</td>\n",
       "      <td>-78.806808</td>\n",
       "      <td>DURHAM - 27703</td>\n",
       "      <td>0.0</td>\n",
       "      <td>0.0</td>\n",
       "      <td>2.0</td>\n",
       "      <td>2.0</td>\n",
       "      <td>27620</td>\n",
       "      <td>1576820000</td>\n",
       "      <td>57089.8</td>\n",
       "      <td>13810.000000</td>\n",
       "    </tr>\n",
       "    <tr>\n",
       "      <th>5</th>\n",
       "      <td>5</td>\n",
       "      <td>ROLESVILLE</td>\n",
       "      <td>27571</td>\n",
       "      <td>35.919490</td>\n",
       "      <td>-78.458036</td>\n",
       "      <td>ROLESVILLE - 27571</td>\n",
       "      <td>3.0</td>\n",
       "      <td>3.0</td>\n",
       "      <td>4.0</td>\n",
       "      <td>7.0</td>\n",
       "      <td>3370</td>\n",
       "      <td>289268000</td>\n",
       "      <td>85836.2</td>\n",
       "      <td>481.428571</td>\n",
       "    </tr>\n",
       "    <tr>\n",
       "      <th>6</th>\n",
       "      <td>6</td>\n",
       "      <td>KNIGHTDALE</td>\n",
       "      <td>27545</td>\n",
       "      <td>35.783500</td>\n",
       "      <td>-78.478140</td>\n",
       "      <td>KNIGHTDALE - 27545</td>\n",
       "      <td>2.0</td>\n",
       "      <td>2.0</td>\n",
       "      <td>1.0</td>\n",
       "      <td>3.0</td>\n",
       "      <td>14210</td>\n",
       "      <td>765208000</td>\n",
       "      <td>53850</td>\n",
       "      <td>4736.666667</td>\n",
       "    </tr>\n",
       "    <tr>\n",
       "      <th>7</th>\n",
       "      <td>8</td>\n",
       "      <td>RALEIGH</td>\n",
       "      <td>27603</td>\n",
       "      <td>35.664637</td>\n",
       "      <td>-78.652498</td>\n",
       "      <td>RALEIGH - 27603</td>\n",
       "      <td>3.0</td>\n",
       "      <td>1.0</td>\n",
       "      <td>3.0</td>\n",
       "      <td>4.0</td>\n",
       "      <td>23580</td>\n",
       "      <td>1504774000</td>\n",
       "      <td>63815.7</td>\n",
       "      <td>5895.000000</td>\n",
       "    </tr>\n",
       "    <tr>\n",
       "      <th>8</th>\n",
       "      <td>10</td>\n",
       "      <td>CREEDMOOR</td>\n",
       "      <td>27522</td>\n",
       "      <td>36.105618</td>\n",
       "      <td>-78.675202</td>\n",
       "      <td>CREEDMOOR - 27522</td>\n",
       "      <td>0.0</td>\n",
       "      <td>0.0</td>\n",
       "      <td>2.0</td>\n",
       "      <td>2.0</td>\n",
       "      <td>5990</td>\n",
       "      <td>364861000</td>\n",
       "      <td>60911.7</td>\n",
       "      <td>2995.000000</td>\n",
       "    </tr>\n",
       "    <tr>\n",
       "      <th>9</th>\n",
       "      <td>11</td>\n",
       "      <td>YOUNGSVILLE</td>\n",
       "      <td>27596</td>\n",
       "      <td>35.999650</td>\n",
       "      <td>-78.434962</td>\n",
       "      <td>YOUNGSVILLE - 27596</td>\n",
       "      <td>2.0</td>\n",
       "      <td>2.0</td>\n",
       "      <td>1.0</td>\n",
       "      <td>3.0</td>\n",
       "      <td>8170</td>\n",
       "      <td>538053000</td>\n",
       "      <td>65857.2</td>\n",
       "      <td>2723.333333</td>\n",
       "    </tr>\n",
       "    <tr>\n",
       "      <th>10</th>\n",
       "      <td>12</td>\n",
       "      <td>RALEIGH</td>\n",
       "      <td>27615</td>\n",
       "      <td>35.898500</td>\n",
       "      <td>-78.635485</td>\n",
       "      <td>RALEIGH - 27615</td>\n",
       "      <td>2.0</td>\n",
       "      <td>3.0</td>\n",
       "      <td>2.0</td>\n",
       "      <td>5.0</td>\n",
       "      <td>22200</td>\n",
       "      <td>2356964000</td>\n",
       "      <td>106170</td>\n",
       "      <td>4440.000000</td>\n",
       "    </tr>\n",
       "    <tr>\n",
       "      <th>11</th>\n",
       "      <td>14</td>\n",
       "      <td>RALEIGH</td>\n",
       "      <td>27616</td>\n",
       "      <td>35.866514</td>\n",
       "      <td>-78.541313</td>\n",
       "      <td>RALEIGH - 27616</td>\n",
       "      <td>3.0</td>\n",
       "      <td>2.0</td>\n",
       "      <td>3.0</td>\n",
       "      <td>5.0</td>\n",
       "      <td>24810</td>\n",
       "      <td>1259805000</td>\n",
       "      <td>50778.1</td>\n",
       "      <td>4962.000000</td>\n",
       "    </tr>\n",
       "    <tr>\n",
       "      <th>12</th>\n",
       "      <td>15</td>\n",
       "      <td>RALEIGH</td>\n",
       "      <td>27612</td>\n",
       "      <td>35.855753</td>\n",
       "      <td>-78.707038</td>\n",
       "      <td>RALEIGH - 27612</td>\n",
       "      <td>0.0</td>\n",
       "      <td>1.0</td>\n",
       "      <td>2.0</td>\n",
       "      <td>3.0</td>\n",
       "      <td>20310</td>\n",
       "      <td>1988238000</td>\n",
       "      <td>97894.5</td>\n",
       "      <td>6770.000000</td>\n",
       "    </tr>\n",
       "    <tr>\n",
       "      <th>13</th>\n",
       "      <td>16</td>\n",
       "      <td>WENDELL</td>\n",
       "      <td>27591</td>\n",
       "      <td>35.784170</td>\n",
       "      <td>-78.388983</td>\n",
       "      <td>WENDELL - 27591</td>\n",
       "      <td>0.0</td>\n",
       "      <td>0.0</td>\n",
       "      <td>1.0</td>\n",
       "      <td>1.0</td>\n",
       "      <td>10040</td>\n",
       "      <td>553111000</td>\n",
       "      <td>55090.7</td>\n",
       "      <td>10040.000000</td>\n",
       "    </tr>\n",
       "    <tr>\n",
       "      <th>14</th>\n",
       "      <td>17</td>\n",
       "      <td>RALEIGH</td>\n",
       "      <td>27609</td>\n",
       "      <td>35.843765</td>\n",
       "      <td>-78.633643</td>\n",
       "      <td>RALEIGH - 27609</td>\n",
       "      <td>2.0</td>\n",
       "      <td>3.0</td>\n",
       "      <td>2.0</td>\n",
       "      <td>5.0</td>\n",
       "      <td>18550</td>\n",
       "      <td>1940767000</td>\n",
       "      <td>104624</td>\n",
       "      <td>3710.000000</td>\n",
       "    </tr>\n",
       "    <tr>\n",
       "      <th>15</th>\n",
       "      <td>18</td>\n",
       "      <td>RALEIGH</td>\n",
       "      <td>27605</td>\n",
       "      <td>35.790611</td>\n",
       "      <td>-78.654596</td>\n",
       "      <td>RALEIGH - 27605</td>\n",
       "      <td>0.0</td>\n",
       "      <td>1.0</td>\n",
       "      <td>0.0</td>\n",
       "      <td>1.0</td>\n",
       "      <td>3320</td>\n",
       "      <td>323415000</td>\n",
       "      <td>97414.2</td>\n",
       "      <td>3320.000000</td>\n",
       "    </tr>\n",
       "    <tr>\n",
       "      <th>16</th>\n",
       "      <td>19</td>\n",
       "      <td>APEX</td>\n",
       "      <td>27502</td>\n",
       "      <td>35.719631</td>\n",
       "      <td>-78.920175</td>\n",
       "      <td>APEX - 27502</td>\n",
       "      <td>3.0</td>\n",
       "      <td>1.0</td>\n",
       "      <td>3.0</td>\n",
       "      <td>4.0</td>\n",
       "      <td>18340</td>\n",
       "      <td>1870287000</td>\n",
       "      <td>101979</td>\n",
       "      <td>4585.000000</td>\n",
       "    </tr>\n",
       "    <tr>\n",
       "      <th>17</th>\n",
       "      <td>20</td>\n",
       "      <td>GARNER</td>\n",
       "      <td>27529</td>\n",
       "      <td>35.655802</td>\n",
       "      <td>-78.586493</td>\n",
       "      <td>GARNER - 27529</td>\n",
       "      <td>0.0</td>\n",
       "      <td>1.0</td>\n",
       "      <td>1.0</td>\n",
       "      <td>2.0</td>\n",
       "      <td>23460</td>\n",
       "      <td>1396742000</td>\n",
       "      <td>59537.2</td>\n",
       "      <td>11730.000000</td>\n",
       "    </tr>\n",
       "    <tr>\n",
       "      <th>18</th>\n",
       "      <td>22</td>\n",
       "      <td>RALEIGH</td>\n",
       "      <td>27608</td>\n",
       "      <td>35.809046</td>\n",
       "      <td>-78.647228</td>\n",
       "      <td>RALEIGH - 27608</td>\n",
       "      <td>1.0</td>\n",
       "      <td>4.0</td>\n",
       "      <td>0.0</td>\n",
       "      <td>4.0</td>\n",
       "      <td>5650</td>\n",
       "      <td>1193861000</td>\n",
       "      <td>211303</td>\n",
       "      <td>1412.500000</td>\n",
       "    </tr>\n",
       "    <tr>\n",
       "      <th>19</th>\n",
       "      <td>23</td>\n",
       "      <td>RALEIGH</td>\n",
       "      <td>27610</td>\n",
       "      <td>35.744400</td>\n",
       "      <td>-78.546278</td>\n",
       "      <td>RALEIGH - 27610</td>\n",
       "      <td>2.0</td>\n",
       "      <td>3.0</td>\n",
       "      <td>1.0</td>\n",
       "      <td>4.0</td>\n",
       "      <td>31560</td>\n",
       "      <td>1202305000</td>\n",
       "      <td>38095.8</td>\n",
       "      <td>7890.000000</td>\n",
       "    </tr>\n",
       "    <tr>\n",
       "      <th>20</th>\n",
       "      <td>24</td>\n",
       "      <td>CLAYTON</td>\n",
       "      <td>27520</td>\n",
       "      <td>35.619723</td>\n",
       "      <td>-78.477008</td>\n",
       "      <td>CLAYTON - 27520</td>\n",
       "      <td>0.0</td>\n",
       "      <td>1.0</td>\n",
       "      <td>2.0</td>\n",
       "      <td>3.0</td>\n",
       "      <td>19260</td>\n",
       "      <td>1088882000</td>\n",
       "      <td>56535.9</td>\n",
       "      <td>6420.000000</td>\n",
       "    </tr>\n",
       "    <tr>\n",
       "      <th>21</th>\n",
       "      <td>25</td>\n",
       "      <td>ANGIER</td>\n",
       "      <td>27501</td>\n",
       "      <td>35.484941</td>\n",
       "      <td>-78.684570</td>\n",
       "      <td>ANGIER - 27501</td>\n",
       "      <td>2.0</td>\n",
       "      <td>2.0</td>\n",
       "      <td>0.0</td>\n",
       "      <td>2.0</td>\n",
       "      <td>8740</td>\n",
       "      <td>463363000</td>\n",
       "      <td>53016.4</td>\n",
       "      <td>4370.000000</td>\n",
       "    </tr>\n",
       "    <tr>\n",
       "      <th>22</th>\n",
       "      <td>26</td>\n",
       "      <td>RALEIGH</td>\n",
       "      <td>27613</td>\n",
       "      <td>35.926102</td>\n",
       "      <td>-78.711414</td>\n",
       "      <td>RALEIGH - 27613</td>\n",
       "      <td>3.0</td>\n",
       "      <td>2.0</td>\n",
       "      <td>5.0</td>\n",
       "      <td>7.0</td>\n",
       "      <td>23100</td>\n",
       "      <td>2371169000</td>\n",
       "      <td>102648</td>\n",
       "      <td>3300.000000</td>\n",
       "    </tr>\n",
       "    <tr>\n",
       "      <th>23</th>\n",
       "      <td>27</td>\n",
       "      <td>RALEIGH</td>\n",
       "      <td>27614</td>\n",
       "      <td>35.945930</td>\n",
       "      <td>-78.619494</td>\n",
       "      <td>RALEIGH - 27614</td>\n",
       "      <td>2.0</td>\n",
       "      <td>2.0</td>\n",
       "      <td>2.0</td>\n",
       "      <td>4.0</td>\n",
       "      <td>16020</td>\n",
       "      <td>2393901000</td>\n",
       "      <td>149432</td>\n",
       "      <td>4005.000000</td>\n",
       "    </tr>\n",
       "    <tr>\n",
       "      <th>24</th>\n",
       "      <td>28</td>\n",
       "      <td>CARY</td>\n",
       "      <td>27518</td>\n",
       "      <td>35.731139</td>\n",
       "      <td>-78.773206</td>\n",
       "      <td>CARY - 27518</td>\n",
       "      <td>3.0</td>\n",
       "      <td>3.0</td>\n",
       "      <td>4.0</td>\n",
       "      <td>7.0</td>\n",
       "      <td>10510</td>\n",
       "      <td>1525773000</td>\n",
       "      <td>145173</td>\n",
       "      <td>1501.428571</td>\n",
       "    </tr>\n",
       "    <tr>\n",
       "      <th>25</th>\n",
       "      <td>29</td>\n",
       "      <td>APEX</td>\n",
       "      <td>27523</td>\n",
       "      <td>35.773618</td>\n",
       "      <td>-78.956926</td>\n",
       "      <td>APEX - 27523</td>\n",
       "      <td>2.0</td>\n",
       "      <td>3.0</td>\n",
       "      <td>1.0</td>\n",
       "      <td>4.0</td>\n",
       "      <td>5560</td>\n",
       "      <td>562994000</td>\n",
       "      <td>101258</td>\n",
       "      <td>1390.000000</td>\n",
       "    </tr>\n",
       "    <tr>\n",
       "      <th>26</th>\n",
       "      <td>30</td>\n",
       "      <td>RALEIGH</td>\n",
       "      <td>27617</td>\n",
       "      <td>35.908845</td>\n",
       "      <td>-78.772396</td>\n",
       "      <td>RALEIGH - 27617</td>\n",
       "      <td>0.0</td>\n",
       "      <td>1.0</td>\n",
       "      <td>2.0</td>\n",
       "      <td>3.0</td>\n",
       "      <td>10100</td>\n",
       "      <td>902983000</td>\n",
       "      <td>89404.3</td>\n",
       "      <td>3366.666667</td>\n",
       "    </tr>\n",
       "    <tr>\n",
       "      <th>27</th>\n",
       "      <td>31</td>\n",
       "      <td>ZEBULON</td>\n",
       "      <td>27597</td>\n",
       "      <td>35.840886</td>\n",
       "      <td>-78.303150</td>\n",
       "      <td>ZEBULON - 27597</td>\n",
       "      <td>0.0</td>\n",
       "      <td>0.0</td>\n",
       "      <td>1.0</td>\n",
       "      <td>1.0</td>\n",
       "      <td>10840</td>\n",
       "      <td>594873000</td>\n",
       "      <td>54877.6</td>\n",
       "      <td>10840.000000</td>\n",
       "    </tr>\n",
       "    <tr>\n",
       "      <th>28</th>\n",
       "      <td>32</td>\n",
       "      <td>CARY</td>\n",
       "      <td>27511</td>\n",
       "      <td>35.763313</td>\n",
       "      <td>-78.787832</td>\n",
       "      <td>CARY - 27511</td>\n",
       "      <td>2.0</td>\n",
       "      <td>3.0</td>\n",
       "      <td>2.0</td>\n",
       "      <td>5.0</td>\n",
       "      <td>16280</td>\n",
       "      <td>1428785000</td>\n",
       "      <td>87763.2</td>\n",
       "      <td>3256.000000</td>\n",
       "    </tr>\n",
       "    <tr>\n",
       "      <th>29</th>\n",
       "      <td>33</td>\n",
       "      <td>CARY</td>\n",
       "      <td>27519</td>\n",
       "      <td>35.808973</td>\n",
       "      <td>-78.886585</td>\n",
       "      <td>CARY - 27519</td>\n",
       "      <td>4.0</td>\n",
       "      <td>7.0</td>\n",
       "      <td>4.0</td>\n",
       "      <td>11.0</td>\n",
       "      <td>25330</td>\n",
       "      <td>3337674000</td>\n",
       "      <td>131768</td>\n",
       "      <td>2302.727273</td>\n",
       "    </tr>\n",
       "    <tr>\n",
       "      <th>30</th>\n",
       "      <td>34</td>\n",
       "      <td>CARY</td>\n",
       "      <td>27513</td>\n",
       "      <td>35.801980</td>\n",
       "      <td>-78.802573</td>\n",
       "      <td>CARY - 27513</td>\n",
       "      <td>4.0</td>\n",
       "      <td>6.0</td>\n",
       "      <td>3.0</td>\n",
       "      <td>9.0</td>\n",
       "      <td>22430</td>\n",
       "      <td>2462674000</td>\n",
       "      <td>109794</td>\n",
       "      <td>2492.222222</td>\n",
       "    </tr>\n",
       "    <tr>\n",
       "      <th>31</th>\n",
       "      <td>35</td>\n",
       "      <td>RALEIGH</td>\n",
       "      <td>27607</td>\n",
       "      <td>35.813106</td>\n",
       "      <td>-78.721175</td>\n",
       "      <td>RALEIGH - 27607</td>\n",
       "      <td>0.0</td>\n",
       "      <td>1.0</td>\n",
       "      <td>2.0</td>\n",
       "      <td>3.0</td>\n",
       "      <td>9800</td>\n",
       "      <td>1034316000</td>\n",
       "      <td>105542</td>\n",
       "      <td>3266.666667</td>\n",
       "    </tr>\n",
       "    <tr>\n",
       "      <th>32</th>\n",
       "      <td>36</td>\n",
       "      <td>RALEIGH</td>\n",
       "      <td>27606</td>\n",
       "      <td>35.742323</td>\n",
       "      <td>-78.715478</td>\n",
       "      <td>RALEIGH - 27606</td>\n",
       "      <td>3.0</td>\n",
       "      <td>3.0</td>\n",
       "      <td>3.0</td>\n",
       "      <td>6.0</td>\n",
       "      <td>20480</td>\n",
       "      <td>1288216000</td>\n",
       "      <td>62901.2</td>\n",
       "      <td>3413.333333</td>\n",
       "    </tr>\n",
       "    <tr>\n",
       "      <th>33</th>\n",
       "      <td>37</td>\n",
       "      <td>MORRISVILLE</td>\n",
       "      <td>27560</td>\n",
       "      <td>35.857875</td>\n",
       "      <td>-78.827658</td>\n",
       "      <td>MORRISVILLE - 27560</td>\n",
       "      <td>2.0</td>\n",
       "      <td>3.0</td>\n",
       "      <td>2.0</td>\n",
       "      <td>5.0</td>\n",
       "      <td>16120</td>\n",
       "      <td>1442155000</td>\n",
       "      <td>89463.7</td>\n",
       "      <td>3224.000000</td>\n",
       "    </tr>\n",
       "    <tr>\n",
       "      <th>34</th>\n",
       "      <td>40</td>\n",
       "      <td>APEX</td>\n",
       "      <td>27539</td>\n",
       "      <td>35.676537</td>\n",
       "      <td>-78.813444</td>\n",
       "      <td>APEX - 27539</td>\n",
       "      <td>1.0</td>\n",
       "      <td>4.0</td>\n",
       "      <td>1.0</td>\n",
       "      <td>5.0</td>\n",
       "      <td>10930</td>\n",
       "      <td>1150584000</td>\n",
       "      <td>105268</td>\n",
       "      <td>2186.000000</td>\n",
       "    </tr>\n",
       "    <tr>\n",
       "      <th>35</th>\n",
       "      <td>41</td>\n",
       "      <td>FUQUAY VARINA</td>\n",
       "      <td>27526</td>\n",
       "      <td>35.543859</td>\n",
       "      <td>-78.829784</td>\n",
       "      <td>FUQUAY VARINA - 27526</td>\n",
       "      <td>0.0</td>\n",
       "      <td>0.0</td>\n",
       "      <td>1.0</td>\n",
       "      <td>1.0</td>\n",
       "      <td>22920</td>\n",
       "      <td>1709700000</td>\n",
       "      <td>74594.2</td>\n",
       "      <td>22920.000000</td>\n",
       "    </tr>\n",
       "    <tr>\n",
       "      <th>36</th>\n",
       "      <td>43</td>\n",
       "      <td>NEW HILL</td>\n",
       "      <td>27562</td>\n",
       "      <td>35.640431</td>\n",
       "      <td>-78.990017</td>\n",
       "      <td>NEW HILL - 27562</td>\n",
       "      <td>0.0</td>\n",
       "      <td>0.0</td>\n",
       "      <td>0.0</td>\n",
       "      <td>0.0</td>\n",
       "      <td>1080</td>\n",
       "      <td>101548000</td>\n",
       "      <td>94025.9</td>\n",
       "      <td>0.000000</td>\n",
       "    </tr>\n",
       "    <tr>\n",
       "      <th>37</th>\n",
       "      <td>45</td>\n",
       "      <td>WILLOW SPRING</td>\n",
       "      <td>27592</td>\n",
       "      <td>35.557380</td>\n",
       "      <td>-78.672270</td>\n",
       "      <td>WILLOW SPRING - 27592</td>\n",
       "      <td>1.0</td>\n",
       "      <td>3.0</td>\n",
       "      <td>0.0</td>\n",
       "      <td>3.0</td>\n",
       "      <td>7580</td>\n",
       "      <td>460190000</td>\n",
       "      <td>60711.1</td>\n",
       "      <td>2526.666667</td>\n",
       "    </tr>\n",
       "    <tr>\n",
       "      <th>38</th>\n",
       "      <td>47</td>\n",
       "      <td>HOLLY SPRINGS</td>\n",
       "      <td>27540</td>\n",
       "      <td>35.621983</td>\n",
       "      <td>-78.863090</td>\n",
       "      <td>HOLLY SPRINGS - 27540</td>\n",
       "      <td>2.0</td>\n",
       "      <td>2.0</td>\n",
       "      <td>1.0</td>\n",
       "      <td>3.0</td>\n",
       "      <td>16840</td>\n",
       "      <td>1618716000</td>\n",
       "      <td>96123.3</td>\n",
       "      <td>5613.333333</td>\n",
       "    </tr>\n",
       "  </tbody>\n",
       "</table>\n",
       "</div>"
      ],
      "text/plain": [
       "    index        ZIPNAME ZIPCODE        LAT        LON           Neighborhood  \\\n",
       "0       0        RALEIGH   27601  35.773630 -78.634458        RALEIGH - 27601   \n",
       "1       1         DURHAM   27713  35.895040 -78.923747         DURHAM - 27713   \n",
       "2       2        RALEIGH   27604  35.822921 -78.562045        RALEIGH - 27604   \n",
       "3       3    WAKE FOREST   27587  35.981382 -78.557584    WAKE FOREST - 27587   \n",
       "4       4         DURHAM   27703  35.959272 -78.806808         DURHAM - 27703   \n",
       "5       5     ROLESVILLE   27571  35.919490 -78.458036     ROLESVILLE - 27571   \n",
       "6       6     KNIGHTDALE   27545  35.783500 -78.478140     KNIGHTDALE - 27545   \n",
       "7       8        RALEIGH   27603  35.664637 -78.652498        RALEIGH - 27603   \n",
       "8      10      CREEDMOOR   27522  36.105618 -78.675202      CREEDMOOR - 27522   \n",
       "9      11    YOUNGSVILLE   27596  35.999650 -78.434962    YOUNGSVILLE - 27596   \n",
       "10     12        RALEIGH   27615  35.898500 -78.635485        RALEIGH - 27615   \n",
       "11     14        RALEIGH   27616  35.866514 -78.541313        RALEIGH - 27616   \n",
       "12     15        RALEIGH   27612  35.855753 -78.707038        RALEIGH - 27612   \n",
       "13     16        WENDELL   27591  35.784170 -78.388983        WENDELL - 27591   \n",
       "14     17        RALEIGH   27609  35.843765 -78.633643        RALEIGH - 27609   \n",
       "15     18        RALEIGH   27605  35.790611 -78.654596        RALEIGH - 27605   \n",
       "16     19           APEX   27502  35.719631 -78.920175           APEX - 27502   \n",
       "17     20         GARNER   27529  35.655802 -78.586493         GARNER - 27529   \n",
       "18     22        RALEIGH   27608  35.809046 -78.647228        RALEIGH - 27608   \n",
       "19     23        RALEIGH   27610  35.744400 -78.546278        RALEIGH - 27610   \n",
       "20     24        CLAYTON   27520  35.619723 -78.477008        CLAYTON - 27520   \n",
       "21     25         ANGIER   27501  35.484941 -78.684570         ANGIER - 27501   \n",
       "22     26        RALEIGH   27613  35.926102 -78.711414        RALEIGH - 27613   \n",
       "23     27        RALEIGH   27614  35.945930 -78.619494        RALEIGH - 27614   \n",
       "24     28           CARY   27518  35.731139 -78.773206           CARY - 27518   \n",
       "25     29           APEX   27523  35.773618 -78.956926           APEX - 27523   \n",
       "26     30        RALEIGH   27617  35.908845 -78.772396        RALEIGH - 27617   \n",
       "27     31        ZEBULON   27597  35.840886 -78.303150        ZEBULON - 27597   \n",
       "28     32           CARY   27511  35.763313 -78.787832           CARY - 27511   \n",
       "29     33           CARY   27519  35.808973 -78.886585           CARY - 27519   \n",
       "30     34           CARY   27513  35.801980 -78.802573           CARY - 27513   \n",
       "31     35        RALEIGH   27607  35.813106 -78.721175        RALEIGH - 27607   \n",
       "32     36        RALEIGH   27606  35.742323 -78.715478        RALEIGH - 27606   \n",
       "33     37    MORRISVILLE   27560  35.857875 -78.827658    MORRISVILLE - 27560   \n",
       "34     40           APEX   27539  35.676537 -78.813444           APEX - 27539   \n",
       "35     41  FUQUAY VARINA   27526  35.543859 -78.829784  FUQUAY VARINA - 27526   \n",
       "36     43       NEW HILL   27562  35.640431 -78.990017       NEW HILL - 27562   \n",
       "37     45  WILLOW SPRING   27592  35.557380 -78.672270  WILLOW SPRING - 27592   \n",
       "38     47  HOLLY SPRINGS   27540  35.621983 -78.863090  HOLLY SPRINGS - 27540   \n",
       "\n",
       "    Cluster Labels  Grocery Store  Supermarket  food_store_count  \\\n",
       "0              0.0            1.0          0.0               1.0   \n",
       "1              0.0            0.0          2.0               2.0   \n",
       "2              1.0            4.0          0.0               4.0   \n",
       "3              3.0            4.0          3.0               7.0   \n",
       "4              0.0            0.0          2.0               2.0   \n",
       "5              3.0            3.0          4.0               7.0   \n",
       "6              2.0            2.0          1.0               3.0   \n",
       "7              3.0            1.0          3.0               4.0   \n",
       "8              0.0            0.0          2.0               2.0   \n",
       "9              2.0            2.0          1.0               3.0   \n",
       "10             2.0            3.0          2.0               5.0   \n",
       "11             3.0            2.0          3.0               5.0   \n",
       "12             0.0            1.0          2.0               3.0   \n",
       "13             0.0            0.0          1.0               1.0   \n",
       "14             2.0            3.0          2.0               5.0   \n",
       "15             0.0            1.0          0.0               1.0   \n",
       "16             3.0            1.0          3.0               4.0   \n",
       "17             0.0            1.0          1.0               2.0   \n",
       "18             1.0            4.0          0.0               4.0   \n",
       "19             2.0            3.0          1.0               4.0   \n",
       "20             0.0            1.0          2.0               3.0   \n",
       "21             2.0            2.0          0.0               2.0   \n",
       "22             3.0            2.0          5.0               7.0   \n",
       "23             2.0            2.0          2.0               4.0   \n",
       "24             3.0            3.0          4.0               7.0   \n",
       "25             2.0            3.0          1.0               4.0   \n",
       "26             0.0            1.0          2.0               3.0   \n",
       "27             0.0            0.0          1.0               1.0   \n",
       "28             2.0            3.0          2.0               5.0   \n",
       "29             4.0            7.0          4.0              11.0   \n",
       "30             4.0            6.0          3.0               9.0   \n",
       "31             0.0            1.0          2.0               3.0   \n",
       "32             3.0            3.0          3.0               6.0   \n",
       "33             2.0            3.0          2.0               5.0   \n",
       "34             1.0            4.0          1.0               5.0   \n",
       "35             0.0            0.0          1.0               1.0   \n",
       "36             0.0            0.0          0.0               0.0   \n",
       "37             1.0            3.0          0.0               3.0   \n",
       "38             2.0            2.0          1.0               3.0   \n",
       "\n",
       "   returns_count total_income income_per_household  households_served  \n",
       "0           4340    289082000              66608.8        4340.000000  \n",
       "1          26260   1989180000              75749.4       13130.000000  \n",
       "2          21720   1130719000              52058.9        5430.000000  \n",
       "3          30920   2993556000              96816.2        4417.142857  \n",
       "4          27620   1576820000              57089.8       13810.000000  \n",
       "5           3370    289268000              85836.2         481.428571  \n",
       "6          14210    765208000                53850        4736.666667  \n",
       "7          23580   1504774000              63815.7        5895.000000  \n",
       "8           5990    364861000              60911.7        2995.000000  \n",
       "9           8170    538053000              65857.2        2723.333333  \n",
       "10         22200   2356964000               106170        4440.000000  \n",
       "11         24810   1259805000              50778.1        4962.000000  \n",
       "12         20310   1988238000              97894.5        6770.000000  \n",
       "13         10040    553111000              55090.7       10040.000000  \n",
       "14         18550   1940767000               104624        3710.000000  \n",
       "15          3320    323415000              97414.2        3320.000000  \n",
       "16         18340   1870287000               101979        4585.000000  \n",
       "17         23460   1396742000              59537.2       11730.000000  \n",
       "18          5650   1193861000               211303        1412.500000  \n",
       "19         31560   1202305000              38095.8        7890.000000  \n",
       "20         19260   1088882000              56535.9        6420.000000  \n",
       "21          8740    463363000              53016.4        4370.000000  \n",
       "22         23100   2371169000               102648        3300.000000  \n",
       "23         16020   2393901000               149432        4005.000000  \n",
       "24         10510   1525773000               145173        1501.428571  \n",
       "25          5560    562994000               101258        1390.000000  \n",
       "26         10100    902983000              89404.3        3366.666667  \n",
       "27         10840    594873000              54877.6       10840.000000  \n",
       "28         16280   1428785000              87763.2        3256.000000  \n",
       "29         25330   3337674000               131768        2302.727273  \n",
       "30         22430   2462674000               109794        2492.222222  \n",
       "31          9800   1034316000               105542        3266.666667  \n",
       "32         20480   1288216000              62901.2        3413.333333  \n",
       "33         16120   1442155000              89463.7        3224.000000  \n",
       "34         10930   1150584000               105268        2186.000000  \n",
       "35         22920   1709700000              74594.2       22920.000000  \n",
       "36          1080    101548000              94025.9           0.000000  \n",
       "37          7580    460190000              60711.1        2526.666667  \n",
       "38         16840   1618716000              96123.3        5613.333333  "
      ]
     },
     "execution_count": 104,
     "metadata": {},
     "output_type": "execute_result"
    }
   ],
   "source": [
    "wake_merged"
   ]
  },
  {
   "cell_type": "code",
   "execution_count": null,
   "metadata": {},
   "outputs": [],
   "source": []
  },
  {
   "cell_type": "code",
   "execution_count": null,
   "metadata": {},
   "outputs": [],
   "source": []
  },
  {
   "cell_type": "code",
   "execution_count": 105,
   "metadata": {},
   "outputs": [],
   "source": [
    "#wake_cluster_avg = wake_merged.groupby('Cluster Labels').mean()"
   ]
  },
  {
   "cell_type": "code",
   "execution_count": 106,
   "metadata": {},
   "outputs": [],
   "source": [
    "#wake_cluster_avg"
   ]
  },
  {
   "cell_type": "code",
   "execution_count": 107,
   "metadata": {},
   "outputs": [
    {
     "data": {
      "text/html": [
       "<div style=\"width:100%;\"><div style=\"position:relative;width:100%;height:0;padding-bottom:60%;\"><span style=\"color:#565656\">Make this Notebook Trusted to load map: File -> Trust Notebook</span><iframe src=\"about:blank\" style=\"position:absolute;width:100%;height:100%;left:0;top:0;border:none !important;\" data-html=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 onload=\"this.contentDocument.open();this.contentDocument.write(atob(this.getAttribute('data-html')));this.contentDocument.close();\" allowfullscreen webkitallowfullscreen mozallowfullscreen></iframe></div></div>"
      ],
      "text/plain": [
       "<folium.folium.Map at 0x1294090d0>"
      ]
     },
     "execution_count": 107,
     "metadata": {},
     "output_type": "execute_result"
    }
   ],
   "source": [
    "# create map\n",
    "\n",
    "map_clusters = folium.Map(location = [latitude, longitude], zoom_start = 11)\n",
    "\n",
    "#Set color scheme for the clusters\n",
    "x = np.arange(kclusters)\n",
    "ys = [i + x + (i * x)**2 for i in range(kclusters)]\n",
    "cmap = cm.get_cmap('rainbow')\n",
    "#colors_array = cm.rainbow(np.linspace(0, 1, len(ys)))\n",
    "colors_array = cmap(np.linspace(0, 1, len(ys)))\n",
    "rainbow = [colors.rgb2hex(i) for i in colors_array]\n",
    "\n",
    "# add the markers to the map\n",
    "markers_colors = []\n",
    "\n",
    "for lat, lon, poi, cluster in zip(wake_merged['LAT'], wake_merged['LON'], wake_merged['Neighborhood'], wake_merged['Cluster Labels']):\n",
    "    label = folium.Popup(str(poi) + ' Cluster ' + str(cluster), parse_html = True)\n",
    "    folium.CircleMarker(\n",
    "        [lat, lon],\n",
    "        radius = 5,\n",
    "        popup = label,\n",
    "        color = rainbow[int(cluster) - 1],\n",
    "        fill_opacity = 0.7).add_to(map_clusters)\n",
    "    \n",
    "map_clusters"
   ]
  },
  {
   "cell_type": "code",
   "execution_count": null,
   "metadata": {},
   "outputs": [],
   "source": []
  },
  {
   "cell_type": "code",
   "execution_count": null,
   "metadata": {},
   "outputs": [],
   "source": []
  }
 ],
 "metadata": {
  "kernelspec": {
   "display_name": "Python 3",
   "language": "python",
   "name": "python3"
  },
  "language_info": {
   "codemirror_mode": {
    "name": "ipython",
    "version": 3
   },
   "file_extension": ".py",
   "mimetype": "text/x-python",
   "name": "python",
   "nbconvert_exporter": "python",
   "pygments_lexer": "ipython3",
   "version": "3.8.2"
  }
 },
 "nbformat": 4,
 "nbformat_minor": 4
}
